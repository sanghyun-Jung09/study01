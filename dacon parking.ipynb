{
 "cells": [
  {
   "cell_type": "markdown",
   "metadata": {},
   "source": [
    "### 데이콘 주차 수요 예측 데이터를 활용하여 머신러닝 학습 및 예측 수행"
   ]
  },
  {
   "cell_type": "code",
   "execution_count": 1,
   "metadata": {},
   "outputs": [],
   "source": [
    "import pandas as pd\n",
    "import numpy as np\n",
    "import seaborn as sns\n",
    "import matplotlib.pyplot as plt\n",
    "plt.rcParams['font.family'] = 'Malgun Gothic'\n",
    "plt.rcParams['axes.unicode_minus'] = False\n",
    "sns.set(font=\"Malgun Gothic\", \n",
    "        rc={\"axes.unicode_minus\":False},\n",
    "        style='darkgrid')"
   ]
  },
  {
   "cell_type": "code",
   "execution_count": 2,
   "metadata": {},
   "outputs": [
    {
     "name": "stdout",
     "output_type": "stream",
     "text": [
      "<class 'pandas.core.frame.DataFrame'>\n",
      "RangeIndex: 2952 entries, 0 to 2951\n",
      "Data columns (total 15 columns):\n",
      " #   Column                        Non-Null Count  Dtype  \n",
      "---  ------                        --------------  -----  \n",
      " 0   단지코드                          2952 non-null   object \n",
      " 1   총세대수                          2952 non-null   int64  \n",
      " 2   임대건물구분                        2952 non-null   object \n",
      " 3   지역                            2952 non-null   object \n",
      " 4   공급유형                          2952 non-null   object \n",
      " 5   전용면적                          2952 non-null   float64\n",
      " 6   전용면적별세대수                      2952 non-null   int64  \n",
      " 7   공가수                           2952 non-null   float64\n",
      " 8   자격유형                          2952 non-null   object \n",
      " 9   임대보증금                         2383 non-null   object \n",
      " 10  임대료                           2383 non-null   object \n",
      " 11  도보 10분거리 내 지하철역 수(환승노선 수 반영)  2741 non-null   float64\n",
      " 12  도보 10분거리 내 버스정류장 수            2948 non-null   float64\n",
      " 13  단지내주차면수                       2952 non-null   float64\n",
      " 14  등록차량수                         2952 non-null   float64\n",
      "dtypes: float64(6), int64(2), object(7)\n",
      "memory usage: 346.1+ KB\n"
     ]
    }
   ],
   "source": [
    "df=pd.read_csv('train.csv')\n",
    "test= pd.read_csv('test.csv')\n",
    "age_info=pd.read_csv('age_gender_info.csv')\n",
    "\n",
    "df.info()"
   ]
  },
  {
   "cell_type": "code",
   "execution_count": 3,
   "metadata": {},
   "outputs": [
    {
     "data": {
      "text/plain": [
       "array(['A', 'B', 'C', 'D', 'E', 'F', 'G', 'H', 'I', 'J', 'K', 'L', 'M',\n",
       "       'N', 'O'], dtype=object)"
      ]
     },
     "execution_count": 3,
     "metadata": {},
     "output_type": "execute_result"
    }
   ],
   "source": [
    "df.자격유형.unique()"
   ]
  },
  {
   "cell_type": "code",
   "execution_count": 4,
   "metadata": {},
   "outputs": [
    {
     "name": "stderr",
     "output_type": "stream",
     "text": [
      "C:\\Users\\sanghyun\\Anaconda3\\lib\\site-packages\\ipykernel_launcher.py:1: SettingWithCopyWarning: \n",
      "A value is trying to be set on a copy of a slice from a DataFrame\n",
      "\n",
      "See the caveats in the documentation: https://pandas.pydata.org/pandas-docs/stable/user_guide/indexing.html#returning-a-view-versus-a-copy\n",
      "  \"\"\"Entry point for launching an IPython kernel.\n",
      "C:\\Users\\sanghyun\\Anaconda3\\lib\\site-packages\\ipykernel_launcher.py:3: SettingWithCopyWarning: \n",
      "A value is trying to be set on a copy of a slice from a DataFrame\n",
      "\n",
      "See the caveats in the documentation: https://pandas.pydata.org/pandas-docs/stable/user_guide/indexing.html#returning-a-view-versus-a-copy\n",
      "  This is separate from the ipykernel package so we can avoid doing imports until\n",
      "C:\\Users\\sanghyun\\Anaconda3\\lib\\site-packages\\ipykernel_launcher.py:6: SettingWithCopyWarning: \n",
      "A value is trying to be set on a copy of a slice from a DataFrame\n",
      "\n",
      "See the caveats in the documentation: https://pandas.pydata.org/pandas-docs/stable/user_guide/indexing.html#returning-a-view-versus-a-copy\n",
      "  \n",
      "C:\\Users\\sanghyun\\Anaconda3\\lib\\site-packages\\ipykernel_launcher.py:8: SettingWithCopyWarning: \n",
      "A value is trying to be set on a copy of a slice from a DataFrame\n",
      "\n",
      "See the caveats in the documentation: https://pandas.pydata.org/pandas-docs/stable/user_guide/indexing.html#returning-a-view-versus-a-copy\n",
      "  \n"
     ]
    }
   ],
   "source": [
    "df['임대보증금'][df['임대보증금']=='-']=np.nan\n",
    "df['임대보증금']=df['임대보증금'].astype('float')\n",
    "df['임대료'][df['임대료']=='-']=np.nan\n",
    "df['임대료']=df['임대료'].astype('float')\n",
    "\n",
    "test['임대보증금'][test['임대보증금']=='-']=np.nan\n",
    "test['임대보증금']=test['임대보증금'].astype('float')\n",
    "test['임대료'][test['임대료']=='-']=np.nan\n",
    "test['임대료']=test['임대료'].astype('float')\n",
    "\n",
    "df['전용면적'] = df['전용면적']//5*5\n",
    "test['전용면적'] = test['전용면적']//5*5"
   ]
  },
  {
   "cell_type": "markdown",
   "metadata": {},
   "source": [
    "### EDA"
   ]
  },
  {
   "cell_type": "code",
   "execution_count": 5,
   "metadata": {},
   "outputs": [
    {
     "data": {
      "text/plain": [
       "<matplotlib.axes._subplots.AxesSubplot at 0x20beb948ac8>"
      ]
     },
     "execution_count": 5,
     "metadata": {},
     "output_type": "execute_result"
    },
    {
     "data": {
      "image/png": "[encoded data removed]",
      "text/plain": [
       "<Figure size 432x288 with 1 Axes>"
      ]
     },
     "metadata": {
      "needs_background": "light"
     },
     "output_type": "display_data"
    }
   ],
   "source": [
    "plt.rc('font', family='Malgun Gothic') \n",
    "sns.countplot(x= '단지코드', data =df)"
   ]
  },
  {
   "cell_type": "code",
   "execution_count": 6,
   "metadata": {},
   "outputs": [
    {
     "data": {
      "text/plain": [
       "<matplotlib.axes._subplots.AxesSubplot at 0x20bec238a88>"
      ]
     },
     "execution_count": 6,
     "metadata": {},
     "output_type": "execute_result"
    },
    {
     "data": {
      "image/png": "[encoded data removed]",
      "text/plain": [
       "<Figure size 432x288 with 1 Axes>"
      ]
     },
     "metadata": {
      "needs_background": "light"
     },
     "output_type": "display_data"
    }
   ],
   "source": [
    "sns.barplot(x=df.groupby('단지코드')['임대보증금'].mean().index,y=df.groupby('단지코드')['임대보증금'].mean())"
   ]
  },
  {
   "cell_type": "markdown",
   "metadata": {},
   "source": [
    "- 임대보증금의 경우는 특정 하나의 단지코드가 높고 나머지는 편차가 크지 않아서 outlier로 판단됨  \n",
    "  (모델에 학습할 때 부정적인 영향을 주므로 제거할 필요가 있음)"
   ]
  },
  {
   "cell_type": "code",
   "execution_count": 7,
   "metadata": {},
   "outputs": [
    {
     "data": {
      "text/plain": [
       "<matplotlib.axes._subplots.AxesSubplot at 0x20bedf71ac8>"
      ]
     },
     "execution_count": 7,
     "metadata": {},
     "output_type": "execute_result"
    },
    {
     "data": {
      "image/png": "[encoded data removed]",
      "text/plain": [
       "<Figure size 432x288 with 1 Axes>"
      ]
     },
     "metadata": {
      "needs_background": "light"
     },
     "output_type": "display_data"
    }
   ],
   "source": [
    "sns.barplot(x=df.groupby('단지코드')['전용면적'].mean().index,y=df.groupby('단지코드')['전용면적'].mean())"
   ]
  },
  {
   "cell_type": "markdown",
   "metadata": {},
   "source": [
    "- 다만, 상식적으로 전용면적이 크면 보증금도 크기 때문에 동일 단지코드가 전용면적의 편차가 다른 단지에 비해 큰지 파악이 필요함  \n",
    "    (그러나, 막대그래프로 보아도 전용면적이 비슷한 수준의 단지코드가 많은 것을 확인할 수 있어 면적 때문에 발생된 현상이 아님을 확인할 수 있음)"
   ]
  },
  {
   "cell_type": "markdown",
   "metadata": {},
   "source": [
    "#### 아웃라이어 데이터 탐색"
   ]
  },
  {
   "cell_type": "code",
   "execution_count": 8,
   "metadata": {},
   "outputs": [
    {
     "data": {
      "text/html": [
       "<div>\n",
       "<style scoped>\n",
       "    .dataframe tbody tr th:only-of-type {\n",
       "        vertical-align: middle;\n",
       "    }\n",
       "\n",
       "    .dataframe tbody tr th {\n",
       "        vertical-align: top;\n",
       "    }\n",
       "\n",
       "    .dataframe thead th {\n",
       "        text-align: right;\n",
       "    }\n",
       "</style>\n",
       "<table border=\"1\" class=\"dataframe\">\n",
       "  <thead>\n",
       "    <tr style=\"text-align: right;\">\n",
       "      <th></th>\n",
       "      <th>단지코드</th>\n",
       "      <th>총세대수</th>\n",
       "      <th>임대건물구분</th>\n",
       "      <th>지역</th>\n",
       "      <th>공급유형</th>\n",
       "      <th>전용면적</th>\n",
       "      <th>전용면적별세대수</th>\n",
       "      <th>공가수</th>\n",
       "      <th>자격유형</th>\n",
       "      <th>임대보증금</th>\n",
       "      <th>임대료</th>\n",
       "      <th>도보 10분거리 내 지하철역 수(환승노선 수 반영)</th>\n",
       "      <th>도보 10분거리 내 버스정류장 수</th>\n",
       "      <th>단지내주차면수</th>\n",
       "      <th>등록차량수</th>\n",
       "    </tr>\n",
       "  </thead>\n",
       "  <tbody>\n",
       "    <tr>\n",
       "      <th>2043</th>\n",
       "      <td>C1397</td>\n",
       "      <td>370</td>\n",
       "      <td>아파트</td>\n",
       "      <td>서울특별시</td>\n",
       "      <td>장기전세</td>\n",
       "      <td>20.0</td>\n",
       "      <td>51</td>\n",
       "      <td>9.0</td>\n",
       "      <td>A</td>\n",
       "      <td>87444000.0</td>\n",
       "      <td>NaN</td>\n",
       "      <td>0.0</td>\n",
       "      <td>3.0</td>\n",
       "      <td>1590.0</td>\n",
       "      <td>1595.0</td>\n",
       "    </tr>\n",
       "    <tr>\n",
       "      <th>2044</th>\n",
       "      <td>C1397</td>\n",
       "      <td>370</td>\n",
       "      <td>아파트</td>\n",
       "      <td>서울특별시</td>\n",
       "      <td>장기전세</td>\n",
       "      <td>45.0</td>\n",
       "      <td>4</td>\n",
       "      <td>9.0</td>\n",
       "      <td>A</td>\n",
       "      <td>174888000.0</td>\n",
       "      <td>NaN</td>\n",
       "      <td>0.0</td>\n",
       "      <td>3.0</td>\n",
       "      <td>1590.0</td>\n",
       "      <td>1595.0</td>\n",
       "    </tr>\n",
       "    <tr>\n",
       "      <th>2045</th>\n",
       "      <td>C1397</td>\n",
       "      <td>370</td>\n",
       "      <td>아파트</td>\n",
       "      <td>서울특별시</td>\n",
       "      <td>장기전세</td>\n",
       "      <td>45.0</td>\n",
       "      <td>69</td>\n",
       "      <td>9.0</td>\n",
       "      <td>A</td>\n",
       "      <td>174888000.0</td>\n",
       "      <td>NaN</td>\n",
       "      <td>0.0</td>\n",
       "      <td>3.0</td>\n",
       "      <td>1590.0</td>\n",
       "      <td>1595.0</td>\n",
       "    </tr>\n",
       "    <tr>\n",
       "      <th>2046</th>\n",
       "      <td>C1397</td>\n",
       "      <td>370</td>\n",
       "      <td>아파트</td>\n",
       "      <td>서울특별시</td>\n",
       "      <td>장기전세</td>\n",
       "      <td>50.0</td>\n",
       "      <td>24</td>\n",
       "      <td>9.0</td>\n",
       "      <td>A</td>\n",
       "      <td>194562000.0</td>\n",
       "      <td>NaN</td>\n",
       "      <td>0.0</td>\n",
       "      <td>3.0</td>\n",
       "      <td>1590.0</td>\n",
       "      <td>1595.0</td>\n",
       "    </tr>\n",
       "    <tr>\n",
       "      <th>2047</th>\n",
       "      <td>C1397</td>\n",
       "      <td>370</td>\n",
       "      <td>아파트</td>\n",
       "      <td>서울특별시</td>\n",
       "      <td>장기전세</td>\n",
       "      <td>50.0</td>\n",
       "      <td>80</td>\n",
       "      <td>9.0</td>\n",
       "      <td>A</td>\n",
       "      <td>194562000.0</td>\n",
       "      <td>NaN</td>\n",
       "      <td>0.0</td>\n",
       "      <td>3.0</td>\n",
       "      <td>1590.0</td>\n",
       "      <td>1595.0</td>\n",
       "    </tr>\n",
       "    <tr>\n",
       "      <th>2048</th>\n",
       "      <td>C1397</td>\n",
       "      <td>370</td>\n",
       "      <td>아파트</td>\n",
       "      <td>서울특별시</td>\n",
       "      <td>장기전세</td>\n",
       "      <td>55.0</td>\n",
       "      <td>142</td>\n",
       "      <td>9.0</td>\n",
       "      <td>A</td>\n",
       "      <td>216423000.0</td>\n",
       "      <td>NaN</td>\n",
       "      <td>0.0</td>\n",
       "      <td>3.0</td>\n",
       "      <td>1590.0</td>\n",
       "      <td>1595.0</td>\n",
       "    </tr>\n",
       "  </tbody>\n",
       "</table>\n",
       "</div>"
      ],
      "text/plain": [
       "       단지코드  총세대수 임대건물구분     지역  공급유형  전용면적  전용면적별세대수  공가수 자격유형        임대보증금  \\\n",
       "2043  C1397   370    아파트  서울특별시  장기전세  20.0        51  9.0    A   87444000.0   \n",
       "2044  C1397   370    아파트  서울특별시  장기전세  45.0         4  9.0    A  174888000.0   \n",
       "2045  C1397   370    아파트  서울특별시  장기전세  45.0        69  9.0    A  174888000.0   \n",
       "2046  C1397   370    아파트  서울특별시  장기전세  50.0        24  9.0    A  194562000.0   \n",
       "2047  C1397   370    아파트  서울특별시  장기전세  50.0        80  9.0    A  194562000.0   \n",
       "2048  C1397   370    아파트  서울특별시  장기전세  55.0       142  9.0    A  216423000.0   \n",
       "\n",
       "      임대료  도보 10분거리 내 지하철역 수(환승노선 수 반영)  도보 10분거리 내 버스정류장 수  단지내주차면수   등록차량수  \n",
       "2043  NaN                           0.0                 3.0   1590.0  1595.0  \n",
       "2044  NaN                           0.0                 3.0   1590.0  1595.0  \n",
       "2045  NaN                           0.0                 3.0   1590.0  1595.0  \n",
       "2046  NaN                           0.0                 3.0   1590.0  1595.0  \n",
       "2047  NaN                           0.0                 3.0   1590.0  1595.0  \n",
       "2048  NaN                           0.0                 3.0   1590.0  1595.0  "
      ]
     },
     "execution_count": 8,
     "metadata": {},
     "output_type": "execute_result"
    }
   ],
   "source": [
    "df.query(\"단지코드=='C1397'\")"
   ]
  },
  {
   "cell_type": "code",
   "execution_count": 9,
   "metadata": {},
   "outputs": [
    {
     "data": {
      "text/html": [
       "<div>\n",
       "<style scoped>\n",
       "    .dataframe tbody tr th:only-of-type {\n",
       "        vertical-align: middle;\n",
       "    }\n",
       "\n",
       "    .dataframe tbody tr th {\n",
       "        vertical-align: top;\n",
       "    }\n",
       "\n",
       "    .dataframe thead th {\n",
       "        text-align: right;\n",
       "    }\n",
       "</style>\n",
       "<table border=\"1\" class=\"dataframe\">\n",
       "  <thead>\n",
       "    <tr style=\"text-align: right;\">\n",
       "      <th></th>\n",
       "      <th>단지코드</th>\n",
       "      <th>임대보증금</th>\n",
       "    </tr>\n",
       "  </thead>\n",
       "  <tbody>\n",
       "    <tr>\n",
       "      <th>91</th>\n",
       "      <td>C1397</td>\n",
       "      <td>173794500.0</td>\n",
       "    </tr>\n",
       "  </tbody>\n",
       "</table>\n",
       "</div>"
      ],
      "text/plain": [
       "     단지코드        임대보증금\n",
       "91  C1397  173794500.0"
      ]
     },
     "execution_count": 9,
     "metadata": {},
     "output_type": "execute_result"
    }
   ],
   "source": [
    "# 아웃라이어로 보이는 단지코드 임대보증금 총 세대수 추출\n",
    "df.groupby('단지코드')['임대보증금'].mean().reset_index().query(\"임대보증금==173794500\")"
   ]
  },
  {
   "cell_type": "code",
   "execution_count": 10,
   "metadata": {},
   "outputs": [
    {
     "data": {
      "text/html": [
       "<div>\n",
       "<style scoped>\n",
       "    .dataframe tbody tr th:only-of-type {\n",
       "        vertical-align: middle;\n",
       "    }\n",
       "\n",
       "    .dataframe tbody tr th {\n",
       "        vertical-align: top;\n",
       "    }\n",
       "\n",
       "    .dataframe thead th {\n",
       "        text-align: right;\n",
       "    }\n",
       "</style>\n",
       "<table border=\"1\" class=\"dataframe\">\n",
       "  <thead>\n",
       "    <tr style=\"text-align: right;\">\n",
       "      <th></th>\n",
       "      <th>단지코드</th>\n",
       "      <th>총세대수</th>\n",
       "    </tr>\n",
       "  </thead>\n",
       "  <tbody>\n",
       "    <tr>\n",
       "      <th>91</th>\n",
       "      <td>C1397</td>\n",
       "      <td>6</td>\n",
       "    </tr>\n",
       "  </tbody>\n",
       "</table>\n",
       "</div>"
      ],
      "text/plain": [
       "     단지코드  총세대수\n",
       "91  C1397     6"
      ]
     },
     "execution_count": 10,
     "metadata": {},
     "output_type": "execute_result"
    }
   ],
   "source": [
    "df.groupby('단지코드')['총세대수'].count().reset_index().query(\"단지코드=='C1397'\")"
   ]
  },
  {
   "cell_type": "code",
   "execution_count": 11,
   "metadata": {},
   "outputs": [],
   "source": [
    "# 아웃라이어로 추정되는 단지코드와 같은 총세대수를 가진 단지코드들을 필터링해서 임대보증금을 시각화\n",
    "a0=df.groupby('단지코드')['총세대수'].count().reset_index().query(\"총세대수==6\").단지코드.unique()\n",
    "a0=a0.tolist()"
   ]
  },
  {
   "cell_type": "code",
   "execution_count": 12,
   "metadata": {},
   "outputs": [
    {
     "data": {
      "text/plain": [
       "<matplotlib.axes._subplots.AxesSubplot at 0x20bedf71408>"
      ]
     },
     "execution_count": 12,
     "metadata": {},
     "output_type": "execute_result"
    },
    {
     "data": {
      "image/png": "[encoded data removed]",
      "text/plain": [
       "<Figure size 432x288 with 1 Axes>"
      ]
     },
     "metadata": {
      "needs_background": "light"
     },
     "output_type": "display_data"
    }
   ],
   "source": [
    "sns.barplot(x=df.query(\"단지코드 in(@a0)\").groupby('단지코드')['임대보증금'].mean().index,y=df.query(\"단지코드 in(@a0)\").groupby('단지코드')['임대보증금'].mean())"
   ]
  },
  {
   "cell_type": "code",
   "execution_count": 13,
   "metadata": {},
   "outputs": [
    {
     "data": {
      "text/plain": [
       "단지코드\n",
       "C1397    1.737945e+08\n",
       "C1344    1.118005e+08\n",
       "C2259    6.900000e+07\n",
       "C1697    6.900000e+07\n",
       "C2357    5.562167e+07\n",
       "             ...     \n",
       "C1969    1.280183e+07\n",
       "C1907    1.238600e+07\n",
       "C2627    8.688500e+06\n",
       "C1925    8.613000e+06\n",
       "C1899    8.248000e+06\n",
       "Name: 임대보증금, Length: 72, dtype: float64"
      ]
     },
     "execution_count": 13,
     "metadata": {},
     "output_type": "execute_result"
    }
   ],
   "source": [
    "df.query(\"단지코드 in(@a0)\").groupby('단지코드')['임대보증금'].mean().sort_values(ascending=False)"
   ]
  },
  {
   "cell_type": "markdown",
   "metadata": {},
   "source": [
    "- 그래프를 보면 같은 세대수를 가진 건물임에도 임대보증금의 편차가 크고, 그루핑결과로 C1397이 제일 큰 것을 확인"
   ]
  },
  {
   "cell_type": "code",
   "execution_count": 14,
   "metadata": {},
   "outputs": [
    {
     "data": {
      "text/plain": [
       "246    C1365\n",
       "94     C1368\n",
       "196    C1375\n",
       "169    C1379\n",
       "170    C1386\n",
       "214    C1394\n",
       "274    C1397\n",
       "322    C1402\n",
       "250    C1406\n",
       "2      C1407\n",
       "197    C1410\n",
       "20     C1424\n",
       "284    C1426\n",
       "230    C1428\n",
       "57     C1430\n",
       "dtype: object"
      ]
     },
     "execution_count": 14,
     "metadata": {},
     "output_type": "execute_result"
    }
   ],
   "source": [
    "# 비슷한 단지코드를 가진 단지 추출\n",
    "a1=pd.Series(df.단지코드.unique()).sort_values().iloc[85:100]\n",
    "a1"
   ]
  },
  {
   "cell_type": "code",
   "execution_count": 15,
   "metadata": {},
   "outputs": [
    {
     "data": {
      "text/plain": [
       "array(['C2073', 'C1850', 'C2216', 'C2232', 'C1973', 'C2133', 'C2390',\n",
       "       'C1155', 'C1309', 'C1492', 'C2526', 'C1022', 'C2527', 'C1410',\n",
       "       'C2162', 'C2325', 'C2503', 'C1428', 'C2560', 'C1397', 'C1426',\n",
       "       'C1788', 'C1089', 'C2661', 'C2539', 'C1048', 'C2143', 'C2153'],\n",
       "      dtype=object)"
      ]
     },
     "execution_count": 15,
     "metadata": {},
     "output_type": "execute_result"
    }
   ],
   "source": [
    "a2=df.query(\"총세대수 > 350 and 총세대수 <400\")['단지코드'].unique()\n",
    "a2"
   ]
  },
  {
   "cell_type": "code",
   "execution_count": 16,
   "metadata": {},
   "outputs": [
    {
     "data": {
      "text/plain": [
       "<matplotlib.axes._subplots.AxesSubplot at 0x20beef12488>"
      ]
     },
     "execution_count": 16,
     "metadata": {},
     "output_type": "execute_result"
    },
    {
     "data": {
      "image/png": "[encoded data removed]",
      "text/plain": [
       "<Figure size 432x288 with 1 Axes>"
      ]
     },
     "metadata": {
      "needs_background": "light"
     },
     "output_type": "display_data"
    }
   ],
   "source": [
    "# 아웃라이어와 세대수가 비슷한 단지코드의 총세대수 크기별 빈도 분석\n",
    "sns.histplot(df.query(\"총세대수 > 350 and 총세대수 <400\")['임대보증금'])"
   ]
  },
  {
   "cell_type": "markdown",
   "metadata": {},
   "source": [
    "- 임대보증금의 편차가 크다는 것을 알 수 있음\n",
    "- 아래 그루핑 결과를 보면 히스토그램 제일 우측의 데이터가 C1397임을 알 수 있음"
   ]
  },
  {
   "cell_type": "code",
   "execution_count": 17,
   "metadata": {},
   "outputs": [
    {
     "data": {
      "text/plain": [
       "단지코드\n",
       "C1397    1.737945e+08\n",
       "C2143    4.137700e+07\n",
       "C1155    3.675100e+07\n",
       "C2527    3.485560e+07\n",
       "C1788    3.250000e+07\n",
       "C2390    3.214650e+07\n",
       "C1048    3.155233e+07\n",
       "C1973    2.642633e+07\n",
       "C2133    2.621633e+07\n",
       "C2232    2.601350e+07\n",
       "C1022    2.466500e+07\n",
       "C1428    2.132871e+07\n",
       "C2162    1.954867e+07\n",
       "C1309    1.890386e+07\n",
       "C2560    1.738700e+07\n",
       "C2073    1.622033e+07\n",
       "C2503    1.524950e+07\n",
       "C2325    1.521100e+07\n",
       "C2539    1.514750e+07\n",
       "C2526    1.438060e+07\n",
       "C1850    1.348533e+07\n",
       "C1089    1.342600e+07\n",
       "C2661    1.326167e+07\n",
       "C1492    1.288957e+07\n",
       "C1410    1.285167e+07\n",
       "C2153    1.274150e+07\n",
       "C1426    1.233200e+07\n",
       "C2216    9.447000e+06\n",
       "Name: 임대보증금, dtype: float64"
      ]
     },
     "execution_count": 17,
     "metadata": {},
     "output_type": "execute_result"
    }
   ],
   "source": [
    "df.query(\"총세대수 > 350 and 총세대수 <400\").groupby('단지코드')['임대보증금'].mean().sort_values(ascending=False)"
   ]
  },
  {
   "cell_type": "code",
   "execution_count": 18,
   "metadata": {},
   "outputs": [
    {
     "data": {
      "text/plain": [
       "274    C1397\n",
       "197    C1410\n",
       "284    C1426\n",
       "230    C1428\n",
       "dtype: object"
      ]
     },
     "execution_count": 18,
     "metadata": {},
     "output_type": "execute_result"
    }
   ],
   "source": [
    "# 아웃라이어와 세대코드가 비슷한 1300~1400대에서 세대수도 비슷한 단지코드 추출 \n",
    "a3=a1.loc[[ i in(a2) for i in a1]]\n",
    "a3"
   ]
  },
  {
   "cell_type": "markdown",
   "metadata": {},
   "source": [
    "- 단지코드가 비슷하고 총세대수도 비슷한 단지코드들에서 전용면적과 임대보증금을 비교하기 위해 박스플롯 생성  \n",
    "    C1397은 대조군과 비교하면 전용면적의 차이에 비해 임대 보증금의 차이가 매우 크므로 아웃라이어로 파악되어 삭제  \n",
    "    (이는 아래전용면적을 상하한적용하여도 경향성이 바뀌지 않음)"
   ]
  },
  {
   "cell_type": "code",
   "execution_count": 19,
   "metadata": {},
   "outputs": [
    {
     "data": {
      "text/plain": [
       "<matplotlib.axes._subplots.AxesSubplot at 0x20bea1d3748>"
      ]
     },
     "execution_count": 19,
     "metadata": {},
     "output_type": "execute_result"
    },
    {
     "data": {
      "image/png": "[encoded data removed]",
      "text/plain": [
       "<Figure size 432x288 with 1 Axes>"
      ]
     },
     "metadata": {
      "needs_background": "light"
     },
     "output_type": "display_data"
    }
   ],
   "source": [
    "sns.boxplot(x='단지코드',y='임대보증금',data=df.query(\"단지코드 in @a3\"))"
   ]
  },
  {
   "cell_type": "code",
   "execution_count": 20,
   "metadata": {},
   "outputs": [
    {
     "data": {
      "text/plain": [
       "<matplotlib.axes._subplots.AxesSubplot at 0x20beef26a08>"
      ]
     },
     "execution_count": 20,
     "metadata": {},
     "output_type": "execute_result"
    },
    {
     "data": {
      "image/png": "[encoded data removed]",
      "text/plain": [
       "<Figure size 432x288 with 1 Axes>"
      ]
     },
     "metadata": {
      "needs_background": "light"
     },
     "output_type": "display_data"
    }
   ],
   "source": [
    "sns.boxplot(x='단지코드',y='전용면적',data=df.query(\"단지코드 in @a3\"))"
   ]
  },
  {
   "cell_type": "markdown",
   "metadata": {},
   "source": [
    "#### 결론적으로, 전용면적, 세대수 로 볼때 비슷한 그룹임에도 임대보증금이 유달리 높은 C1397를 이상값으로 보고 삭제"
   ]
  },
  {
   "cell_type": "code",
   "execution_count": 21,
   "metadata": {},
   "outputs": [],
   "source": [
    "df= df.query(\"단지코드!='C1397'\")"
   ]
  },
  {
   "cell_type": "markdown",
   "metadata": {},
   "source": [
    "#### 전용면적 상하한적용(15~100)"
   ]
  },
  {
   "cell_type": "code",
   "execution_count": 22,
   "metadata": {},
   "outputs": [],
   "source": [
    "idx = df[df['전용면적']>100].index\n",
    "df.loc[idx, '전용면적'] = 100\n",
    "idx = test[test['전용면적']>100].index\n",
    "test.loc[idx, '전용면적'] = 100\n",
    "\n",
    "idx = df[df['전용면적']<15].index\n",
    "df.loc[idx, '전용면적'] = 15\n",
    "idx = test[test['전용면적']<15].index\n",
    "test.loc[idx, '전용면적'] = 15"
   ]
  },
  {
   "cell_type": "markdown",
   "metadata": {},
   "source": [
    "#### 결국 최종 제출을 위해서는 단지코드별 grouping이 필요함. 예제코드에서는 그러한 이유로 차이가\n",
    "#### 발생하는 변수는 모두 버리고 모델에 학습을 시킴\n",
    "#### 단지코드별 중복없는게 전용면적, 전용면적별세대수, 임대보증금, 임대료가 있음. \n",
    "#### 이경우 한 단지내 개별 집집마다 사용가능한 평수가 다르고 임대료 임대보증금이 다르다는 이야기이기\n",
    "#### 때문에 이경우에는 최빈값을 따라가는게 상식적으로 옳다고 봄"
   ]
  },
  {
   "cell_type": "code",
   "execution_count": 23,
   "metadata": {},
   "outputs": [],
   "source": [
    "# 결측치 대치 및 데이터프레임 재선언\n",
    "df=df.fillna(0)\n",
    "\n",
    "\n",
    "df1=df[df.columns.difference(['단지코드','등록차량수'])]\n",
    "\n",
    "r_code=df.단지코드\n",
    "df1_target=df['등록차량수']\n",
    "\n",
    "test1=test[test.columns.difference(['단지코드'])]\n",
    "r_code_t=test.단지코드\n",
    "\n",
    "df1=pd.merge(df1,age_info,on='지역')\n",
    "test=pd.merge(test,age_info,on='지역')"
   ]
  },
  {
   "cell_type": "markdown",
   "metadata": {},
   "source": [
    "#### 표준화 스케일링 진행"
   ]
  },
  {
   "cell_type": "code",
   "execution_count": 24,
   "metadata": {},
   "outputs": [
    {
     "data": {
      "text/plain": [
       "45"
      ]
     },
     "execution_count": 24,
     "metadata": {},
     "output_type": "execute_result"
    }
   ],
   "source": [
    "from sklearn.preprocessing import StandardScaler\n",
    "\n",
    "cat_col=[ i for i in df1.columns.values if df1[i].dtype == 'object']\n",
    "\n",
    "num_col=[ j for j in df1.columns.values if df1[j].dtype in ['int64','float64'] ]\n",
    "\n",
    "test_cat_col=[ i for i in test1.columns.values if test1[i].dtype == 'object']\n",
    "\n",
    "test_num_col=[ j for j in test1.columns.values if test1[j].dtype in ['int64','float64'] ]\n",
    "\n",
    "\n",
    "\n",
    "\n",
    "scaler=StandardScaler()\n",
    "\n",
    "df1_cat=pd.get_dummies(df1.loc[:,cat_col])\n",
    "df1_num=pd.DataFrame(scaler.fit_transform(df1.loc[:,num_col]),columns=num_col)\n",
    "\n",
    "df1_sol=pd.concat([df1_cat,df1_num],axis=1)\n",
    "\n",
    "\n",
    "test_cat=pd.get_dummies(test.loc[:,test_cat_col])\n",
    "test_num=pd.DataFrame(scaler.fit_transform(test.loc[:,test_num_col]),columns=test_num_col)\n",
    "\n",
    "test_sol=pd.concat([test_cat,test_num],axis=1)\n",
    "\n",
    "\n",
    "len(df1_sol.columns)\n",
    "len(test_sol.columns)"
   ]
  },
  {
   "cell_type": "markdown",
   "metadata": {},
   "source": [
    "#### test의 범주형 변수의 수가 train데이터보다 작음 변수축소를 해야 모델에 적용가능"
   ]
  },
  {
   "cell_type": "code",
   "execution_count": 25,
   "metadata": {},
   "outputs": [],
   "source": [
    "df1_sol=df1_sol.reindex(test_sol.columns.values,axis=1)\n",
    "len(df1_sol.columns)\n",
    "\n",
    "df1_sol=pd.concat([r_code,df1_sol,df1_target],axis=1)\n",
    "test_sol=pd.concat([r_code_t,test_sol],axis=1)\n",
    "#df1_target 이 차량등록수임\n",
    "\n",
    "\n",
    "df1_sol.dtypes\n",
    "f1 = lambda x : x.mode().median()\n",
    "\n",
    "df1_sol=df1_sol.groupby('단지코드').agg(f1).reset_index()\n",
    "\n",
    "df1_target=df1_sol.등록차량수\n",
    "\n",
    "df1_sol=df1_sol.iloc[:,1:-1]\n",
    "\n",
    "test_sol=test_sol.groupby('단지코드').agg(f1).reset_index()\n",
    "test_sol=test_sol.iloc[:,1:]"
   ]
  },
  {
   "cell_type": "markdown",
   "metadata": {},
   "source": [
    "#### XGBoost의 회귀모델을 사용하고 최적의 하이퍼파라미터 값을 찾기위해 gridsearch진행"
   ]
  },
  {
   "cell_type": "code",
   "execution_count": 26,
   "metadata": {},
   "outputs": [
    {
     "data": {
      "text/plain": [
       "182338.0874128588"
      ]
     },
     "execution_count": 26,
     "metadata": {},
     "output_type": "execute_result"
    }
   ],
   "source": [
    "from xgboost import XGBRegressor\n",
    "\n",
    "xgbreg=XGBRegressor()\n",
    "\n",
    "from sklearn.model_selection import GridSearchCV\n",
    "from sklearn.model_selection import cross_val_score\n",
    "\n",
    "params= {'max_depth':[2,8,15,20,40],'n_estimators':[10,50,100],'learning_rate':[0.1,0.2,0.3]}\n",
    "gridcv=GridSearchCV(xgbreg,params,scoring='neg_mean_squared_error',cv=5)\n",
    "\n",
    "gridcv.fit(df1_sol,df1_target)\n",
    "\n",
    "gridcv.best_params_\n",
    "# {'learning_rate': 0.2, 'max_depth': 8, 'n_estimators': 50}\n",
    "\n",
    "xgbreg=XGBRegressor(learning_rate=0.1,max_depth=2,n_estimators=10)\n",
    "\n",
    "scores=cross_val_score(xgbreg,df1_sol,df1_target,scoring='neg_mean_squared_error',cv=10)\n",
    "scores=-scores\n",
    "scores.mean() "
   ]
  },
  {
   "cell_type": "code",
   "execution_count": 27,
   "metadata": {},
   "outputs": [],
   "source": [
    "xgbreg.fit(df1_sol,df1_target)\n",
    "y_pred=xgbreg.predict(test_sol)"
   ]
  },
  {
   "cell_type": "code",
   "execution_count": 28,
   "metadata": {},
   "outputs": [],
   "source": [
    "from xgboost import plot_importance\n",
    "from sklearn.inspection import permutation_importance"
   ]
  },
  {
   "cell_type": "code",
   "execution_count": 29,
   "metadata": {},
   "outputs": [
    {
     "data": {
      "text/plain": [
       "<matplotlib.axes._subplots.AxesSubplot at 0x20bf1a0e548>"
      ]
     },
     "execution_count": 29,
     "metadata": {},
     "output_type": "execute_result"
    },
    {
     "data": {
      "image/png": "[encoded data removed]",
      "text/plain": [
       "<Figure size 432x288 with 1 Axes>"
      ]
     },
     "metadata": {
      "needs_background": "light"
     },
     "output_type": "display_data"
    }
   ],
   "source": [
    "plt.rcParams['font.family'] = 'Malgun Gothic'\n",
    "fig, ax = plt.subplots()\n",
    "plot_importance(xgbreg,ax=ax)"
   ]
  },
  {
   "cell_type": "code",
   "execution_count": 30,
   "metadata": {},
   "outputs": [
    {
     "data": {
      "text/plain": [
       "Text(0.5, 0, 'Permutation Importance')"
      ]
     },
     "execution_count": 30,
     "metadata": {},
     "output_type": "execute_result"
    },
    {
     "data": {
      "image/png": "[encoded data removed]",
      "text/plain": [
       "<Figure size 432x288 with 1 Axes>"
      ]
     },
     "metadata": {
      "needs_background": "light"
     },
     "output_type": "display_data"
    }
   ],
   "source": [
    "plt.rcParams['font.family'] = 'Malgun Gothic'\n",
    "perm_importance = permutation_importance(xgbreg, df1_sol, df1_target)\n",
    "sorted_idx = perm_importance.importances_mean.argsort()\n",
    "plt.barh( df1_sol.columns[sorted_idx][-10:], perm_importance.importances_mean[sorted_idx][-10:])\n",
    "plt.xlabel(\"Permutation Importance\")\n"
   ]
  },
  {
   "cell_type": "code",
   "execution_count": 31,
   "metadata": {},
   "outputs": [
    {
     "data": {
      "text/plain": [
       "<matplotlib.collections.PathCollection at 0x20bf1f8e148>"
      ]
     },
     "execution_count": 31,
     "metadata": {},
     "output_type": "execute_result"
    },
    {
     "data": {
      "image/png": "[encoded data removed]",
      "text/plain": [
       "<Figure size 432x288 with 1 Axes>"
      ]
     },
     "metadata": {
      "needs_background": "light"
     },
     "output_type": "display_data"
    }
   ],
   "source": [
    "plt.scatter(x= '총세대수',y='등록차량수',data=df)"
   ]
  },
  {
   "cell_type": "code",
   "execution_count": 32,
   "metadata": {},
   "outputs": [
    {
     "data": {
      "text/plain": [
       "<matplotlib.collections.PathCollection at 0x20bf1f84f88>"
      ]
     },
     "execution_count": 32,
     "metadata": {},
     "output_type": "execute_result"
    },
    {
     "data": {
      "image/png": "[encoded data removed]",
      "text/plain": [
       "<Figure size 432x288 with 1 Axes>"
      ]
     },
     "metadata": {
      "needs_background": "light"
     },
     "output_type": "display_data"
    }
   ],
   "source": [
    "plt.scatter(x= '전용면적',y='등록차량수',data=df)"
   ]
  },
  {
   "cell_type": "markdown",
   "metadata": {},
   "source": [
    "##### 제출용 데이터 프레임 생성"
   ]
  },
  {
   "cell_type": "code",
   "execution_count": 33,
   "metadata": {},
   "outputs": [],
   "source": [
    "submission=pd.read_csv('C:/Users/sanghyun/Desktop/dacon parking/sample_submission.csv')\n",
    "submission['num']=y_pred\n",
    "\n",
    "\n",
    "submission.to_csv('baseline.csv', index=False)"
   ]
  }
 ],
 "metadata": {
  "kernelspec": {
   "display_name": "Python 3",
   "language": "python",
   "name": "python3"
  },
  "language_info": {
   "codemirror_mode": {
    "name": "ipython",
    "version": 3
   },
   "file_extension": ".py",
   "mimetype": "text/x-python",
   "name": "python",
   "nbconvert_exporter": "python",
   "pygments_lexer": "ipython3",
   "version": "3.7.4"
  }
 },
 "nbformat": 4,
 "nbformat_minor": 2
}
