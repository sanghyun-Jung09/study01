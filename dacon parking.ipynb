{
 "cells": [
  {
   "cell_type": "markdown",
   "metadata": {},
   "source": [
    "### 데이콘 주차 수요 예측 데이터를 활용하여 머신러닝 학습 및 예측 수행"
   ]
  },
  {
   "cell_type": "code",
   "execution_count": 1,
   "metadata": {},
   "outputs": [],
   "source": [
    "import pandas as pd\n",
    "import numpy as np\n",
    "import warnings\n",
    "warnings.filterwarnings(action='ignore')"
   ]
  },
  {
   "cell_type": "code",
   "execution_count": 2,
   "metadata": {},
   "outputs": [
    {
     "name": "stdout",
     "output_type": "stream",
     "text": [
      "<class 'pandas.core.frame.DataFrame'>\n",
      "RangeIndex: 2952 entries, 0 to 2951\n",
      "Data columns (total 15 columns):\n",
      " #   Column                        Non-Null Count  Dtype  \n",
      "---  ------                        --------------  -----  \n",
      " 0   단지코드                          2952 non-null   object \n",
      " 1   총세대수                          2952 non-null   int64  \n",
      " 2   임대건물구분                        2952 non-null   object \n",
      " 3   지역                            2952 non-null   object \n",
      " 4   공급유형                          2952 non-null   object \n",
      " 5   전용면적                          2952 non-null   float64\n",
      " 6   전용면적별세대수                      2952 non-null   int64  \n",
      " 7   공가수                           2952 non-null   float64\n",
      " 8   자격유형                          2952 non-null   object \n",
      " 9   임대보증금                         2383 non-null   object \n",
      " 10  임대료                           2383 non-null   object \n",
      " 11  도보 10분거리 내 지하철역 수(환승노선 수 반영)  2741 non-null   float64\n",
      " 12  도보 10분거리 내 버스정류장 수            2948 non-null   float64\n",
      " 13  단지내주차면수                       2952 non-null   float64\n",
      " 14  등록차량수                         2952 non-null   float64\n",
      "dtypes: float64(6), int64(2), object(7)\n",
      "memory usage: 346.1+ KB\n"
     ]
    }
   ],
   "source": [
    "df=pd.read_csv('train.csv')\n",
    "test= pd.read_csv('test.csv')\n",
    "age_info=pd.read_csv('age_gender_info.csv')\n",
    "\n",
    "df.info()"
   ]
  },
  {
   "cell_type": "code",
   "execution_count": 3,
   "metadata": {},
   "outputs": [],
   "source": [
    "df['임대보증금'][df['임대보증금']=='-']=np.nan\n",
    "df['임대보증금']=df['임대보증금'].astype('float')\n",
    "df['임대료'][df['임대료']=='-']=np.nan\n",
    "df['임대료']=df['임대료'].astype('float')\n",
    "\n",
    "test['임대보증금'][test['임대보증금']=='-']=np.nan\n",
    "test['임대보증금']=test['임대보증금'].astype('float')\n",
    "test['임대료'][test['임대료']=='-']=np.nan\n",
    "test['임대료']=test['임대료'].astype('float')\n",
    "\n",
    "df['전용면적'] = df['전용면적']//5*5\n",
    "test['전용면적'] = test['전용면적']//5*5"
   ]
  },
  {
   "cell_type": "markdown",
   "metadata": {},
   "source": [
    "#### 전용면적 상하한적용(15~100)"
   ]
  },
  {
   "cell_type": "code",
   "execution_count": 4,
   "metadata": {},
   "outputs": [],
   "source": [
    "idx = df[df['전용면적']>100].index\n",
    "df.loc[idx, '전용면적'] = 100\n",
    "idx = test[test['전용면적']>100].index\n",
    "test.loc[idx, '전용면적'] = 100\n",
    "\n",
    "idx = df[df['전용면적']<15].index\n",
    "df.loc[idx, '전용면적'] = 15\n",
    "idx = test[test['전용면적']<15].index\n",
    "test.loc[idx, '전용면적'] = 15"
   ]
  },
  {
   "cell_type": "markdown",
   "metadata": {},
   "source": [
    "#### 결국 최종 제출을 위해서는 단지코드별 grouping이 필요함. 예제코드에서는 그러한 이유로 차이가\n",
    "#### 발생하는 변수는 모두 버리고 모델에 학습을 시킴\n",
    "#### 단지코드별 중복없는게 전용면적, 전용면적별세대수, 임대보증금, 임대료가 있음. \n",
    "#### 이경우 한 단지내 개별 집집마다 사용가능한 평수가 다르고 임대료 임대보증금이 다르다는 이야기이기\n",
    "#### 때문에 이경우에는 최빈값을 따라가는게 상식적으로 옳다고 봄"
   ]
  },
  {
   "cell_type": "code",
   "execution_count": 5,
   "metadata": {},
   "outputs": [],
   "source": [
    "# 결측치 대치 및 데이터프레임 재선언\n",
    "df=df.fillna(0)\n",
    "\n",
    "\n",
    "df1=df[df.columns.difference(['단지코드','등록차량수'])]\n",
    "\n",
    "r_code=df.단지코드\n",
    "df1_target=df['등록차량수']\n",
    "\n",
    "test1=test[test.columns.difference(['단지코드'])]\n",
    "r_code_t=test.단지코드\n",
    "\n",
    "df1=pd.merge(df1,age_info,on='지역')\n",
    "test=pd.merge(test,age_info,on='지역')"
   ]
  },
  {
   "cell_type": "markdown",
   "metadata": {},
   "source": [
    "#### 표준화 스케일링 진행"
   ]
  },
  {
   "cell_type": "code",
   "execution_count": 6,
   "metadata": {},
   "outputs": [
    {
     "data": {
      "text/plain": [
       "45"
      ]
     },
     "execution_count": 6,
     "metadata": {},
     "output_type": "execute_result"
    }
   ],
   "source": [
    "from sklearn.preprocessing import StandardScaler\n",
    "\n",
    "cat_col=[ i for i in df1.columns.values if df1[i].dtype == 'object']\n",
    "\n",
    "num_col=[ j for j in df1.columns.values if df1[j].dtype in ['int64','float64'] ]\n",
    "\n",
    "test_cat_col=[ i for i in test1.columns.values if test1[i].dtype == 'object']\n",
    "\n",
    "test_num_col=[ j for j in test1.columns.values if test1[j].dtype in ['int64','float64'] ]\n",
    "\n",
    "\n",
    "\n",
    "\n",
    "scaler=StandardScaler()\n",
    "\n",
    "df1_cat=pd.get_dummies(df1.loc[:,cat_col])\n",
    "df1_num=pd.DataFrame(scaler.fit_transform(df1.loc[:,num_col]),columns=num_col)\n",
    "\n",
    "df1_sol=pd.concat([df1_cat,df1_num],axis=1)\n",
    "\n",
    "\n",
    "test_cat=pd.get_dummies(test.loc[:,test_cat_col])\n",
    "test_num=pd.DataFrame(scaler.fit_transform(test.loc[:,test_num_col]),columns=test_num_col)\n",
    "\n",
    "test_sol=pd.concat([test_cat,test_num],axis=1)\n",
    "\n",
    "\n",
    "len(df1_sol.columns)\n",
    "len(test_sol.columns)"
   ]
  },
  {
   "cell_type": "markdown",
   "metadata": {},
   "source": [
    "#### test의 범주형 변수의 수가 train데이터보다 작음 변수축소를 해야 모델에 적용가능"
   ]
  },
  {
   "cell_type": "code",
   "execution_count": 7,
   "metadata": {},
   "outputs": [],
   "source": [
    "df1_sol=df1_sol.reindex(test_sol.columns.values,axis=1)\n",
    "len(df1_sol.columns)\n",
    "\n",
    "df1_sol=pd.concat([r_code,df1_sol,df1_target],axis=1)\n",
    "test_sol=pd.concat([r_code_t,test_sol],axis=1)\n",
    "#df1_target 이 차량등록수임\n",
    "\n",
    "\n",
    "df1_sol.dtypes\n",
    "f1 = lambda x : x.mode().median()\n",
    "\n",
    "df1_sol=df1_sol.groupby('단지코드').agg(f1).reset_index()\n",
    "\n",
    "df1_target=df1_sol.등록차량수\n",
    "\n",
    "df1_sol=df1_sol.iloc[:,1:-1]\n",
    "\n",
    "test_sol=test_sol.groupby('단지코드').agg(f1).reset_index()\n",
    "test_sol=test_sol.iloc[:,1:]"
   ]
  },
  {
   "cell_type": "markdown",
   "metadata": {},
   "source": [
    "#### XGBoost의 회귀모델을 사용하고 최적의 하이퍼파라미터 값을 찾기위해 gridsearch진행"
   ]
  },
  {
   "cell_type": "code",
   "execution_count": 8,
   "metadata": {},
   "outputs": [
    {
     "data": {
      "text/plain": [
       "184893.38622383113"
      ]
     },
     "execution_count": 8,
     "metadata": {},
     "output_type": "execute_result"
    }
   ],
   "source": [
    "from xgboost import XGBRegressor\n",
    "\n",
    "xgbreg=XGBRegressor()\n",
    "\n",
    "from sklearn.model_selection import GridSearchCV\n",
    "from sklearn.model_selection import cross_val_score\n",
    "\n",
    "params= {'max_depth':[2,8,15,20,40],'n_estimators':[10,50,100],'learning_rate':[0.1,0.2,0.3]}\n",
    "gridcv=GridSearchCV(xgbreg,params,scoring='neg_mean_squared_error',cv=5)\n",
    "\n",
    "gridcv.fit(df1_sol,df1_target)\n",
    "\n",
    "gridcv.best_params_\n",
    "# {'learning_rate': 0.2, 'max_depth': 8, 'n_estimators': 50}\n",
    "\n",
    "xgbreg=XGBRegressor(learning_rate=0.1,max_depth=2,n_estimators=10)\n",
    "\n",
    "scores=cross_val_score(xgbreg,df1_sol,df1_target,scoring='neg_mean_squared_error',cv=10)\n",
    "scores=-scores\n",
    "scores.mean() "
   ]
  },
  {
   "cell_type": "code",
   "execution_count": 9,
   "metadata": {},
   "outputs": [],
   "source": [
    "xgbreg.fit(df1_sol,df1_target)\n",
    "y_pred=xgbreg.predict(test_sol)"
   ]
  },
  {
   "cell_type": "markdown",
   "metadata": {},
   "source": [
    "##### 제출용 데이터 프레임 생성"
   ]
  },
  {
   "cell_type": "code",
   "execution_count": 10,
   "metadata": {},
   "outputs": [],
   "source": [
    "submission=pd.read_csv('C:/Users/sanghyun/Desktop/dacon parking/sample_submission.csv')\n",
    "submission['num']=y_pred\n",
    "\n",
    "\n",
    "submission.to_csv('baseline.csv', index=False)"
   ]
  }
 ],
 "metadata": {
  "kernelspec": {
   "display_name": "Python 3",
   "language": "python",
   "name": "python3"
  },
  "language_info": {
   "codemirror_mode": {
    "name": "ipython",
    "version": 3
   },
   "file_extension": ".py",
   "mimetype": "text/x-python",
   "name": "python",
   "nbconvert_exporter": "python",
   "pygments_lexer": "ipython3",
   "version": "3.7.4"
  }
 },
 "nbformat": 4,
 "nbformat_minor": 2
}
