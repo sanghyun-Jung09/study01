{
 "cells": [
  {
   "cell_type": "markdown",
   "metadata": {},
   "source": [
    "## 롯데 멤버쉽 고객 온라인 쇼핑 데이터 분석\n",
    "#### 데이터 불러오기 및 전처리"
   ]
  },
  {
   "cell_type": "code",
   "execution_count": 1,
   "metadata": {},
   "outputs": [],
   "source": [
    "import pandas as pd\n",
    "import numpy as np\n",
    "import seaborn as sns\n",
    "import matplotlib.pyplot as plt\n",
    "plt.rc('font', family='Malgun Gothic') "
   ]
  },
  {
   "cell_type": "code",
   "execution_count": 2,
   "metadata": {},
   "outputs": [],
   "source": [
    "import os \n",
    "os.chdir(\"C:/Users/sanghyun/Desktop/새 폴더/제6회 L.POINT Big Data Competition\")"
   ]
  },
  {
   "cell_type": "code",
   "execution_count": 3,
   "metadata": {},
   "outputs": [],
   "source": [
    "online_info= pd.read_csv('lotte_oniline_action_info.csv',engine='python')"
   ]
  },
  {
   "cell_type": "code",
   "execution_count": 4,
   "metadata": {},
   "outputs": [],
   "source": [
    "transaction=pd.read_csv('lotte_transaction_info.csv',engine='python')"
   ]
  },
  {
   "cell_type": "code",
   "execution_count": 5,
   "metadata": {},
   "outputs": [],
   "source": [
    "goods=pd.read_csv('lotte_goods_classification_info.csv',engine='python')"
   ]
  },
  {
   "cell_type": "code",
   "execution_count": 6,
   "metadata": {},
   "outputs": [],
   "source": [
    "transaction['pd_c']=transaction.pd_c.replace('unknown',np.nan).astype('float')"
   ]
  },
  {
   "cell_type": "code",
   "execution_count": 7,
   "metadata": {},
   "outputs": [
    {
     "name": "stdout",
     "output_type": "stream",
     "text": [
      "<class 'pandas.core.frame.DataFrame'>\n",
      "RangeIndex: 1667 entries, 0 to 1666\n",
      "Data columns (total 4 columns):\n",
      " #   Column    Non-Null Count  Dtype \n",
      "---  ------    --------------  ----- \n",
      " 0   pd_c      1667 non-null   int64 \n",
      " 1   clac_nm1  1667 non-null   object\n",
      " 2   clac_nm2  1667 non-null   object\n",
      " 3   clac_nm3  1665 non-null   object\n",
      "dtypes: int64(1), object(3)\n",
      "memory usage: 52.2+ KB\n"
     ]
    }
   ],
   "source": [
    "goods.info()"
   ]
  },
  {
   "cell_type": "code",
   "execution_count": 8,
   "metadata": {},
   "outputs": [],
   "source": [
    "transaction=pd.merge(transaction,goods.loc[:,['pd_c','clac_nm1','clac_nm2']],on='pd_c')"
   ]
  },
  {
   "cell_type": "code",
   "execution_count": 9,
   "metadata": {},
   "outputs": [
    {
     "data": {
      "text/html": [
       "<div>\n",
       "<style scoped>\n",
       "    .dataframe tbody tr th:only-of-type {\n",
       "        vertical-align: middle;\n",
       "    }\n",
       "\n",
       "    .dataframe tbody tr th {\n",
       "        vertical-align: top;\n",
       "    }\n",
       "\n",
       "    .dataframe thead th {\n",
       "        text-align: right;\n",
       "    }\n",
       "</style>\n",
       "<table border=\"1\" class=\"dataframe\">\n",
       "  <thead>\n",
       "    <tr style=\"text-align: right;\">\n",
       "      <th></th>\n",
       "      <th>pd_c</th>\n",
       "      <th>clac_nm1</th>\n",
       "      <th>clac_nm2</th>\n",
       "      <th>clac_nm3</th>\n",
       "    </tr>\n",
       "  </thead>\n",
       "  <tbody>\n",
       "    <tr>\n",
       "      <th>0</th>\n",
       "      <td>1</td>\n",
       "      <td>Automotive Products</td>\n",
       "      <td>Automotive Replacement Repair / Maintanance Kits</td>\n",
       "      <td>Automobile Oil / Additives</td>\n",
       "    </tr>\n",
       "    <tr>\n",
       "      <th>1</th>\n",
       "      <td>2</td>\n",
       "      <td>Automotive Products</td>\n",
       "      <td>Automotive Replacement Repair / Maintanance Kits</td>\n",
       "      <td>Car Lights</td>\n",
       "    </tr>\n",
       "    <tr>\n",
       "      <th>2</th>\n",
       "      <td>3</td>\n",
       "      <td>Automotive Products</td>\n",
       "      <td>Automotive Replacement Repair / Maintanance Kits</td>\n",
       "      <td>Car Paint</td>\n",
       "    </tr>\n",
       "    <tr>\n",
       "      <th>3</th>\n",
       "      <td>4</td>\n",
       "      <td>Automotive Products</td>\n",
       "      <td>Automotive Replacement Repair / Maintanance Kits</td>\n",
       "      <td>Filters</td>\n",
       "    </tr>\n",
       "    <tr>\n",
       "      <th>4</th>\n",
       "      <td>5</td>\n",
       "      <td>Automotive Products</td>\n",
       "      <td>Automotive Replacement Repair / Maintanance Kits</td>\n",
       "      <td>Wiper Blades</td>\n",
       "    </tr>\n",
       "    <tr>\n",
       "      <th>...</th>\n",
       "      <td>...</td>\n",
       "      <td>...</td>\n",
       "      <td>...</td>\n",
       "      <td>...</td>\n",
       "    </tr>\n",
       "    <tr>\n",
       "      <th>1662</th>\n",
       "      <td>1663</td>\n",
       "      <td>Women's Clothing</td>\n",
       "      <td>Women's Upper Bodywear / Tops</td>\n",
       "      <td>Women's Cardigans</td>\n",
       "    </tr>\n",
       "    <tr>\n",
       "      <th>1663</th>\n",
       "      <td>1664</td>\n",
       "      <td>Women's Clothing</td>\n",
       "      <td>Women's Upper Bodywear / Tops</td>\n",
       "      <td>Women's Sweaters / Pullover</td>\n",
       "    </tr>\n",
       "    <tr>\n",
       "      <th>1664</th>\n",
       "      <td>1665</td>\n",
       "      <td>Women's Clothing</td>\n",
       "      <td>Women's Upper Bodywear / Tops</td>\n",
       "      <td>Women's Sweatshirts / Hoodies</td>\n",
       "    </tr>\n",
       "    <tr>\n",
       "      <th>1665</th>\n",
       "      <td>1666</td>\n",
       "      <td>Women's Clothing</td>\n",
       "      <td>Women's Upper Bodywear / Tops</td>\n",
       "      <td>Women's T-shirts / Tops</td>\n",
       "    </tr>\n",
       "    <tr>\n",
       "      <th>1666</th>\n",
       "      <td>1667</td>\n",
       "      <td>Women's Clothing</td>\n",
       "      <td>Women's Upper Bodywear / Tops</td>\n",
       "      <td>Women's Vests</td>\n",
       "    </tr>\n",
       "  </tbody>\n",
       "</table>\n",
       "<p>1667 rows × 4 columns</p>\n",
       "</div>"
      ],
      "text/plain": [
       "      pd_c             clac_nm1  \\\n",
       "0        1  Automotive Products   \n",
       "1        2  Automotive Products   \n",
       "2        3  Automotive Products   \n",
       "3        4  Automotive Products   \n",
       "4        5  Automotive Products   \n",
       "...    ...                  ...   \n",
       "1662  1663     Women's Clothing   \n",
       "1663  1664     Women's Clothing   \n",
       "1664  1665     Women's Clothing   \n",
       "1665  1666     Women's Clothing   \n",
       "1666  1667     Women's Clothing   \n",
       "\n",
       "                                              clac_nm2  \\\n",
       "0     Automotive Replacement Repair / Maintanance Kits   \n",
       "1     Automotive Replacement Repair / Maintanance Kits   \n",
       "2     Automotive Replacement Repair / Maintanance Kits   \n",
       "3     Automotive Replacement Repair / Maintanance Kits   \n",
       "4     Automotive Replacement Repair / Maintanance Kits   \n",
       "...                                                ...   \n",
       "1662                     Women's Upper Bodywear / Tops   \n",
       "1663                     Women's Upper Bodywear / Tops   \n",
       "1664                     Women's Upper Bodywear / Tops   \n",
       "1665                     Women's Upper Bodywear / Tops   \n",
       "1666                     Women's Upper Bodywear / Tops   \n",
       "\n",
       "                           clac_nm3  \n",
       "0        Automobile Oil / Additives  \n",
       "1                        Car Lights  \n",
       "2                         Car Paint  \n",
       "3                           Filters  \n",
       "4                      Wiper Blades  \n",
       "...                             ...  \n",
       "1662              Women's Cardigans  \n",
       "1663    Women's Sweaters / Pullover  \n",
       "1664  Women's Sweatshirts / Hoodies  \n",
       "1665        Women's T-shirts / Tops  \n",
       "1666                  Women's Vests  \n",
       "\n",
       "[1667 rows x 4 columns]"
      ]
     },
     "execution_count": 9,
     "metadata": {},
     "output_type": "execute_result"
    }
   ],
   "source": [
    "goods"
   ]
  },
  {
   "cell_type": "code",
   "execution_count": 10,
   "metadata": {},
   "outputs": [],
   "source": [
    "customer=pd.read_csv('lotte_customer_demographic_info.csv',engine='python')"
   ]
  },
  {
   "cell_type": "code",
   "execution_count": 11,
   "metadata": {},
   "outputs": [
    {
     "data": {
      "text/html": [
       "<div>\n",
       "<style scoped>\n",
       "    .dataframe tbody tr th:only-of-type {\n",
       "        vertical-align: middle;\n",
       "    }\n",
       "\n",
       "    .dataframe tbody tr th {\n",
       "        vertical-align: top;\n",
       "    }\n",
       "\n",
       "    .dataframe thead th {\n",
       "        text-align: right;\n",
       "    }\n",
       "</style>\n",
       "<table border=\"1\" class=\"dataframe\">\n",
       "  <thead>\n",
       "    <tr style=\"text-align: right;\">\n",
       "      <th></th>\n",
       "      <th>clnt_id</th>\n",
       "      <th>sess_id</th>\n",
       "      <th>hit_seq</th>\n",
       "      <th>action_type</th>\n",
       "      <th>biz_unit</th>\n",
       "      <th>sess_dt</th>\n",
       "      <th>hit_tm</th>\n",
       "      <th>hit_pss_tm</th>\n",
       "      <th>trans_id</th>\n",
       "      <th>sech_kwd</th>\n",
       "      <th>tot_pag_view_ct</th>\n",
       "      <th>tot_sess_hr_v</th>\n",
       "      <th>trfc_src</th>\n",
       "      <th>dvc_ctg_nm</th>\n",
       "    </tr>\n",
       "  </thead>\n",
       "  <tbody>\n",
       "    <tr>\n",
       "      <th>0</th>\n",
       "      <td>7809</td>\n",
       "      <td>1</td>\n",
       "      <td>8</td>\n",
       "      <td>5</td>\n",
       "      <td>A03</td>\n",
       "      <td>20190913</td>\n",
       "      <td>01:16</td>\n",
       "      <td>2571103</td>\n",
       "      <td>NaN</td>\n",
       "      <td>NaN</td>\n",
       "      <td>34.0</td>\n",
       "      <td>2663.0</td>\n",
       "      <td>DIRECT</td>\n",
       "      <td>NaN</td>\n",
       "    </tr>\n",
       "    <tr>\n",
       "      <th>1</th>\n",
       "      <td>7809</td>\n",
       "      <td>1</td>\n",
       "      <td>4</td>\n",
       "      <td>2</td>\n",
       "      <td>A03</td>\n",
       "      <td>20190913</td>\n",
       "      <td>01:14</td>\n",
       "      <td>2485909</td>\n",
       "      <td>NaN</td>\n",
       "      <td>NaN</td>\n",
       "      <td>34.0</td>\n",
       "      <td>2663.0</td>\n",
       "      <td>DIRECT</td>\n",
       "      <td>NaN</td>\n",
       "    </tr>\n",
       "    <tr>\n",
       "      <th>2</th>\n",
       "      <td>7809</td>\n",
       "      <td>1</td>\n",
       "      <td>11</td>\n",
       "      <td>5</td>\n",
       "      <td>A03</td>\n",
       "      <td>20190913</td>\n",
       "      <td>01:17</td>\n",
       "      <td>2646597</td>\n",
       "      <td>NaN</td>\n",
       "      <td>NaN</td>\n",
       "      <td>34.0</td>\n",
       "      <td>2663.0</td>\n",
       "      <td>DIRECT</td>\n",
       "      <td>NaN</td>\n",
       "    </tr>\n",
       "    <tr>\n",
       "      <th>3</th>\n",
       "      <td>7809</td>\n",
       "      <td>1</td>\n",
       "      <td>1</td>\n",
       "      <td>2</td>\n",
       "      <td>A03</td>\n",
       "      <td>20190913</td>\n",
       "      <td>00:46</td>\n",
       "      <td>788304</td>\n",
       "      <td>NaN</td>\n",
       "      <td>NaN</td>\n",
       "      <td>34.0</td>\n",
       "      <td>2663.0</td>\n",
       "      <td>DIRECT</td>\n",
       "      <td>NaN</td>\n",
       "    </tr>\n",
       "    <tr>\n",
       "      <th>4</th>\n",
       "      <td>7809</td>\n",
       "      <td>1</td>\n",
       "      <td>9</td>\n",
       "      <td>5</td>\n",
       "      <td>A03</td>\n",
       "      <td>20190913</td>\n",
       "      <td>01:17</td>\n",
       "      <td>2617609</td>\n",
       "      <td>NaN</td>\n",
       "      <td>NaN</td>\n",
       "      <td>34.0</td>\n",
       "      <td>2663.0</td>\n",
       "      <td>DIRECT</td>\n",
       "      <td>NaN</td>\n",
       "    </tr>\n",
       "  </tbody>\n",
       "</table>\n",
       "</div>"
      ],
      "text/plain": [
       "   clnt_id  sess_id  hit_seq  action_type biz_unit   sess_dt hit_tm  \\\n",
       "0     7809        1        8            5      A03  20190913  01:16   \n",
       "1     7809        1        4            2      A03  20190913  01:14   \n",
       "2     7809        1       11            5      A03  20190913  01:17   \n",
       "3     7809        1        1            2      A03  20190913  00:46   \n",
       "4     7809        1        9            5      A03  20190913  01:17   \n",
       "\n",
       "   hit_pss_tm  trans_id sech_kwd  tot_pag_view_ct  tot_sess_hr_v trfc_src  \\\n",
       "0     2571103       NaN      NaN             34.0         2663.0   DIRECT   \n",
       "1     2485909       NaN      NaN             34.0         2663.0   DIRECT   \n",
       "2     2646597       NaN      NaN             34.0         2663.0   DIRECT   \n",
       "3      788304       NaN      NaN             34.0         2663.0   DIRECT   \n",
       "4     2617609       NaN      NaN             34.0         2663.0   DIRECT   \n",
       "\n",
       "  dvc_ctg_nm  \n",
       "0        NaN  \n",
       "1        NaN  \n",
       "2        NaN  \n",
       "3        NaN  \n",
       "4        NaN  "
      ]
     },
     "execution_count": 11,
     "metadata": {},
     "output_type": "execute_result"
    }
   ],
   "source": [
    "online_info.head()"
   ]
  },
  {
   "cell_type": "code",
   "execution_count": 12,
   "metadata": {},
   "outputs": [
    {
     "name": "stdout",
     "output_type": "stream",
     "text": [
      "<class 'pandas.core.frame.DataFrame'>\n",
      "RangeIndex: 3196362 entries, 0 to 3196361\n",
      "Data columns (total 14 columns):\n",
      " #   Column           Dtype  \n",
      "---  ------           -----  \n",
      " 0   clnt_id          int64  \n",
      " 1   sess_id          int64  \n",
      " 2   hit_seq          int64  \n",
      " 3   action_type      int64  \n",
      " 4   biz_unit         object \n",
      " 5   sess_dt          int64  \n",
      " 6   hit_tm           object \n",
      " 7   hit_pss_tm       int64  \n",
      " 8   trans_id         float64\n",
      " 9   sech_kwd         object \n",
      " 10  tot_pag_view_ct  float64\n",
      " 11  tot_sess_hr_v    float64\n",
      " 12  trfc_src         object \n",
      " 13  dvc_ctg_nm       object \n",
      "dtypes: float64(3), int64(6), object(5)\n",
      "memory usage: 341.4+ MB\n"
     ]
    }
   ],
   "source": [
    "online_info.info()"
   ]
  },
  {
   "cell_type": "code",
   "execution_count": 13,
   "metadata": {},
   "outputs": [
    {
     "data": {
      "text/html": [
       "<div>\n",
       "<style scoped>\n",
       "    .dataframe tbody tr th:only-of-type {\n",
       "        vertical-align: middle;\n",
       "    }\n",
       "\n",
       "    .dataframe tbody tr th {\n",
       "        vertical-align: top;\n",
       "    }\n",
       "\n",
       "    .dataframe thead th {\n",
       "        text-align: right;\n",
       "    }\n",
       "</style>\n",
       "<table border=\"1\" class=\"dataframe\">\n",
       "  <thead>\n",
       "    <tr style=\"text-align: right;\">\n",
       "      <th></th>\n",
       "      <th>clnt_id</th>\n",
       "      <th>sess_id</th>\n",
       "      <th>hit_seq</th>\n",
       "      <th>action_type</th>\n",
       "      <th>sess_dt</th>\n",
       "      <th>hit_pss_tm</th>\n",
       "      <th>trans_id</th>\n",
       "      <th>tot_pag_view_ct</th>\n",
       "      <th>tot_sess_hr_v</th>\n",
       "    </tr>\n",
       "  </thead>\n",
       "  <tbody>\n",
       "    <tr>\n",
       "      <th>count</th>\n",
       "      <td>3.196362e+06</td>\n",
       "      <td>3.196362e+06</td>\n",
       "      <td>3.196362e+06</td>\n",
       "      <td>3.196362e+06</td>\n",
       "      <td>3.196362e+06</td>\n",
       "      <td>3.196362e+06</td>\n",
       "      <td>56989.000000</td>\n",
       "      <td>3.194934e+06</td>\n",
       "      <td>3.138755e+06</td>\n",
       "    </tr>\n",
       "    <tr>\n",
       "      <th>mean</th>\n",
       "      <td>3.743773e+04</td>\n",
       "      <td>2.095944e+01</td>\n",
       "      <td>1.807125e+01</td>\n",
       "      <td>2.574070e+00</td>\n",
       "      <td>2.019081e+07</td>\n",
       "      <td>8.266403e+05</td>\n",
       "      <td>76363.908017</td>\n",
       "      <td>4.573830e+01</td>\n",
       "      <td>1.653183e+03</td>\n",
       "    </tr>\n",
       "    <tr>\n",
       "      <th>std</th>\n",
       "      <td>2.056772e+04</td>\n",
       "      <td>3.362655e+01</td>\n",
       "      <td>2.228087e+01</td>\n",
       "      <td>1.850338e+00</td>\n",
       "      <td>8.179515e+01</td>\n",
       "      <td>1.074719e+06</td>\n",
       "      <td>21731.295983</td>\n",
       "      <td>4.677333e+01</td>\n",
       "      <td>1.610989e+03</td>\n",
       "    </tr>\n",
       "    <tr>\n",
       "      <th>min</th>\n",
       "      <td>1.000000e+00</td>\n",
       "      <td>1.000000e+00</td>\n",
       "      <td>1.000000e+00</td>\n",
       "      <td>0.000000e+00</td>\n",
       "      <td>2.019070e+07</td>\n",
       "      <td>0.000000e+00</td>\n",
       "      <td>38728.000000</td>\n",
       "      <td>1.000000e+00</td>\n",
       "      <td>1.000000e+00</td>\n",
       "    </tr>\n",
       "    <tr>\n",
       "      <th>25%</th>\n",
       "      <td>1.990900e+04</td>\n",
       "      <td>3.000000e+00</td>\n",
       "      <td>3.000000e+00</td>\n",
       "      <td>1.000000e+00</td>\n",
       "      <td>2.019072e+07</td>\n",
       "      <td>1.227002e+05</td>\n",
       "      <td>57404.000000</td>\n",
       "      <td>1.500000e+01</td>\n",
       "      <td>4.960000e+02</td>\n",
       "    </tr>\n",
       "    <tr>\n",
       "      <th>50%</th>\n",
       "      <td>3.755400e+04</td>\n",
       "      <td>9.000000e+00</td>\n",
       "      <td>1.000000e+01</td>\n",
       "      <td>2.000000e+00</td>\n",
       "      <td>2.019081e+07</td>\n",
       "      <td>4.278215e+05</td>\n",
       "      <td>76548.000000</td>\n",
       "      <td>3.200000e+01</td>\n",
       "      <td>1.197000e+03</td>\n",
       "    </tr>\n",
       "    <tr>\n",
       "      <th>75%</th>\n",
       "      <td>5.570400e+04</td>\n",
       "      <td>2.500000e+01</td>\n",
       "      <td>2.400000e+01</td>\n",
       "      <td>5.000000e+00</td>\n",
       "      <td>2.019091e+07</td>\n",
       "      <td>1.122707e+06</td>\n",
       "      <td>95531.000000</td>\n",
       "      <td>6.100000e+01</td>\n",
       "      <td>2.300000e+03</td>\n",
       "    </tr>\n",
       "    <tr>\n",
       "      <th>max</th>\n",
       "      <td>7.242900e+04</td>\n",
       "      <td>5.500000e+02</td>\n",
       "      <td>3.570000e+02</td>\n",
       "      <td>7.000000e+00</td>\n",
       "      <td>2.019093e+07</td>\n",
       "      <td>2.700729e+07</td>\n",
       "      <td>112951.000000</td>\n",
       "      <td>4.640000e+02</td>\n",
       "      <td>2.763500e+04</td>\n",
       "    </tr>\n",
       "  </tbody>\n",
       "</table>\n",
       "</div>"
      ],
      "text/plain": [
       "            clnt_id       sess_id       hit_seq   action_type       sess_dt  \\\n",
       "count  3.196362e+06  3.196362e+06  3.196362e+06  3.196362e+06  3.196362e+06   \n",
       "mean   3.743773e+04  2.095944e+01  1.807125e+01  2.574070e+00  2.019081e+07   \n",
       "std    2.056772e+04  3.362655e+01  2.228087e+01  1.850338e+00  8.179515e+01   \n",
       "min    1.000000e+00  1.000000e+00  1.000000e+00  0.000000e+00  2.019070e+07   \n",
       "25%    1.990900e+04  3.000000e+00  3.000000e+00  1.000000e+00  2.019072e+07   \n",
       "50%    3.755400e+04  9.000000e+00  1.000000e+01  2.000000e+00  2.019081e+07   \n",
       "75%    5.570400e+04  2.500000e+01  2.400000e+01  5.000000e+00  2.019091e+07   \n",
       "max    7.242900e+04  5.500000e+02  3.570000e+02  7.000000e+00  2.019093e+07   \n",
       "\n",
       "         hit_pss_tm       trans_id  tot_pag_view_ct  tot_sess_hr_v  \n",
       "count  3.196362e+06   56989.000000     3.194934e+06   3.138755e+06  \n",
       "mean   8.266403e+05   76363.908017     4.573830e+01   1.653183e+03  \n",
       "std    1.074719e+06   21731.295983     4.677333e+01   1.610989e+03  \n",
       "min    0.000000e+00   38728.000000     1.000000e+00   1.000000e+00  \n",
       "25%    1.227002e+05   57404.000000     1.500000e+01   4.960000e+02  \n",
       "50%    4.278215e+05   76548.000000     3.200000e+01   1.197000e+03  \n",
       "75%    1.122707e+06   95531.000000     6.100000e+01   2.300000e+03  \n",
       "max    2.700729e+07  112951.000000     4.640000e+02   2.763500e+04  "
      ]
     },
     "execution_count": 13,
     "metadata": {},
     "output_type": "execute_result"
    }
   ],
   "source": [
    "online_info.describe()"
   ]
  },
  {
   "cell_type": "code",
   "execution_count": 14,
   "metadata": {},
   "outputs": [
    {
     "data": {
      "text/plain": [
       "clnt_id                  0\n",
       "sess_id                  0\n",
       "hit_seq                  0\n",
       "action_type              0\n",
       "biz_unit                 0\n",
       "sess_dt                  0\n",
       "hit_tm                   0\n",
       "hit_pss_tm               0\n",
       "trans_id           3139373\n",
       "sech_kwd           2544724\n",
       "tot_pag_view_ct       1428\n",
       "tot_sess_hr_v        57607\n",
       "trfc_src                 0\n",
       "dvc_ctg_nm         1782577\n",
       "dtype: int64"
      ]
     },
     "execution_count": 14,
     "metadata": {},
     "output_type": "execute_result"
    }
   ],
   "source": [
    "online_info.isnull().sum()"
   ]
  },
  {
   "cell_type": "code",
   "execution_count": 15,
   "metadata": {},
   "outputs": [],
   "source": [
    "# 컬럼정의서에는 오프라인 정보라고 하였으나 오프라인에서 검색이 다수 있다는 것은 말이 안되므로 신뢰도가 부족한 컬럼 제거\n",
    "online_info=online_info.drop('biz_unit',axis=1)"
   ]
  },
  {
   "cell_type": "markdown",
   "metadata": {},
   "source": [
    "#### 접속기기를 알 수 없는 오가닉 데이터가 전체의 절반이 넘음"
   ]
  },
  {
   "cell_type": "code",
   "execution_count": 16,
   "metadata": {},
   "outputs": [
    {
     "data": {
      "text/plain": [
       "0.5576893355633686"
      ]
     },
     "execution_count": 16,
     "metadata": {},
     "output_type": "execute_result"
    }
   ],
   "source": [
    "online_info.dvc_ctg_nm.isnull().sum()/online_info.shape[0]"
   ]
  },
  {
   "cell_type": "markdown",
   "metadata": {},
   "source": [
    "### 1) 온라인 행동유형 분석"
   ]
  },
  {
   "cell_type": "markdown",
   "metadata": {},
   "source": [
    "#### - 행동 유형 비중"
   ]
  },
  {
   "cell_type": "code",
   "execution_count": 17,
   "metadata": {},
   "outputs": [
    {
     "data": {
      "text/plain": [
       "mobile_web    0.475982\n",
       "mobile_app    0.335878\n",
       "PC            0.188140\n",
       "Name: dvc_ctg_nm, dtype: float64"
      ]
     },
     "execution_count": 17,
     "metadata": {},
     "output_type": "execute_result"
    }
   ],
   "source": [
    "online_info.dvc_ctg_nm.value_counts(normalize=True)"
   ]
  },
  {
   "cell_type": "markdown",
   "metadata": {},
   "source": [
    "- 접속기기는 모바일 비중이 높다 웹이 제일높고 그다음이 앱인데 전체 중 81%가 모바일로 접속한다.\n",
    "- 더 상세화하기 위해 행동유형별 접속기기를 분석해 본다."
   ]
  },
  {
   "cell_type": "markdown",
   "metadata": {},
   "source": [
    "#### - 종류\n",
    "#### 0.검색 / 1.제품 목록 / 2.제품 세부정보 보기 / 3.장바구니 제품 추가 /  \n",
    "#### 4.장바구니 제품 삭제 / 5.결제 시도 / 6.구매 완료 / 7.구매 환불 / 8.결제 옵션"
   ]
  },
  {
   "cell_type": "code",
   "execution_count": 18,
   "metadata": {},
   "outputs": [],
   "source": [
    "dict={0:'0검색',1:'1제품목록',2:'2세부정보', 3: '3장바구니',4:'4장바구니삭제',5:'5결제시도',6:'6구매완료',7:'7환불',8:'8결제옵션'}"
   ]
  },
  {
   "cell_type": "code",
   "execution_count": 19,
   "metadata": {},
   "outputs": [
    {
     "data": {
      "text/plain": [
       "{0: '0검색',\n",
       " 1: '1제품목록',\n",
       " 2: '2세부정보',\n",
       " 3: '3장바구니',\n",
       " 4: '4장바구니삭제',\n",
       " 5: '5결제시도',\n",
       " 6: '6구매완료',\n",
       " 7: '7환불',\n",
       " 8: '8결제옵션'}"
      ]
     },
     "execution_count": 19,
     "metadata": {},
     "output_type": "execute_result"
    }
   ],
   "source": [
    "dict"
   ]
  },
  {
   "cell_type": "markdown",
   "metadata": {},
   "source": [
    "#### - 행동유형과 접속기기로 구분된 이중 파이차트 그리기"
   ]
  },
  {
   "cell_type": "code",
   "execution_count": 20,
   "metadata": {},
   "outputs": [],
   "source": [
    "online_info['행동정보']=[dict[i] for i in online_info.action_type]"
   ]
  },
  {
   "cell_type": "code",
   "execution_count": 21,
   "metadata": {},
   "outputs": [],
   "source": [
    "at2=online_info.groupby(['action_type','dvc_ctg_nm'])['clnt_id'].count().reset_index()"
   ]
  },
  {
   "cell_type": "code",
   "execution_count": 22,
   "metadata": {},
   "outputs": [],
   "source": [
    "at2=at2.sort_values(by='dvc_ctg_nm',ascending=False)"
   ]
  },
  {
   "cell_type": "code",
   "execution_count": 23,
   "metadata": {},
   "outputs": [],
   "source": [
    "group_names=at2.action_type\n",
    "group_sizes=at2.clnt_id"
   ]
  },
  {
   "cell_type": "code",
   "execution_count": 24,
   "metadata": {},
   "outputs": [],
   "source": [
    "subgroup_names=at2.dvc_ctg_nm\n",
    "subgroup_sizes=at2.clnt_id"
   ]
  },
  {
   "cell_type": "code",
   "execution_count": 25,
   "metadata": {},
   "outputs": [],
   "source": [
    "# info. of groups\n",
    "\n",
    "group_names = group_names\n",
    "\n",
    "group_sizes = group_sizes\n",
    "\n",
    "\n",
    "\n",
    "# info. of subgroups\n",
    "\n",
    "subgroup_names = subgroup_names\n",
    "subgroup_sizes = subgroup_sizes\n",
    "\n",
    "\n",
    "# width\n",
    "\n",
    "width_num = 0.4"
   ]
  },
  {
   "cell_type": "code",
   "execution_count": 26,
   "metadata": {
    "scrolled": false
   },
   "outputs": [
    {
     "data": {
      "image/png": "[encoded data removed]",
      "text/plain": [
       "<Figure size 1440x1440 with 1 Axes>"
      ]
     },
     "metadata": {},
     "output_type": "display_data"
    }
   ],
   "source": [
    "# Outside Ring\n",
    "pie, ax = plt.subplots(figsize=[20,20])\n",
    "\n",
    "pie_outside, _ = ax.pie(subgroup_sizes, \n",
    "\n",
    "                        radius=1.3,\n",
    "\n",
    "                        labels=subgroup_names, \n",
    "\n",
    "                        labeldistance=0.8)\n",
    "\n",
    "plt.setp(pie_outside, \n",
    "\n",
    "         width=width_num, \n",
    "\n",
    "         edgecolor='white')\n",
    "\n",
    "\n",
    "\n",
    "# Inside Ring\n",
    "\n",
    "pie_inside, plt_labels, junk = ax.pie(group_sizes, \n",
    "\n",
    "           radius=(1.3 - width_num), \n",
    "\n",
    "           labels=group_names, \n",
    "\n",
    "           labeldistance=0.75, \n",
    "\n",
    "           autopct='%1.1f%%')\n",
    "\n",
    "plt.setp(pie_inside, \n",
    "\n",
    "         width=width_num, \n",
    "\n",
    "         edgecolor='white')\n",
    "\n",
    "plt.show()\n"
   ]
  },
  {
   "cell_type": "markdown",
   "metadata": {},
   "source": [
    "#### 접속기기와 행동유형을 고려하여 분석하면 접속 기기별로 주로 활동하는 행동유형이 다른 것을 알 수 있다.\n",
    "- PC는 검색>제품 세부정보 보기>장바구니 추가 순이다.\n",
    "- 모바일app은 세부정보보기>검색>결제시도 순이다.\n",
    "- 모바일 web은 세부정보보기>결제시도>검색순이다.\n",
    "    일부 오가닉 데이터를 제외한 데이터에서 모바일 접속 기준이 높으며 모바일 고객은 결제시도의 비중이 높은 것을 알 수 있다.\n",
    "    반면, pc의 경우는 검색 후 장바구니에 넣고 제품목록으로 가는 가격 비교 고객이 많다."
   ]
  },
  {
   "cell_type": "markdown",
   "metadata": {},
   "source": [
    "#### - 각 퍼널 시각화 및 분석"
   ]
  },
  {
   "cell_type": "code",
   "execution_count": 27,
   "metadata": {},
   "outputs": [
    {
     "data": {
      "text/plain": [
       "5결제시도      0.234808\n",
       "2세부정보      0.205004\n",
       "0검색        0.203869\n",
       "3장바구니      0.186701\n",
       "1제품목록      0.096359\n",
       "4장바구니삭제    0.053886\n",
       "6구매완료      0.017598\n",
       "7환불        0.001776\n",
       "Name: 행동정보, dtype: float64"
      ]
     },
     "execution_count": 27,
     "metadata": {},
     "output_type": "execute_result"
    }
   ],
   "source": [
    "online_info.행동정보.value_counts(normalize=True)"
   ]
  },
  {
   "cell_type": "code",
   "execution_count": 28,
   "metadata": {},
   "outputs": [],
   "source": [
    "#grouped= online_info.groupby('행동정보')['hit_tm'].count()\n",
    "#from plotly import graph_objects as go\n",
    "\n",
    "#fig = go.Figure(go.Funnel(\n",
    "#    y = np.sort(online_info.행동정보.unique()).tolist(),\n",
    "#    x = grouped.values.tolist()))\n",
    "\n",
    "#fig.show()"
   ]
  },
  {
   "cell_type": "code",
   "execution_count": 29,
   "metadata": {},
   "outputs": [
    {
     "data": {
      "image/png": "[encoded data removed]",
      "text/plain": [
       "<IPython.core.display.Image object>"
      ]
     },
     "execution_count": 29,
     "metadata": {},
     "output_type": "execute_result"
    }
   ],
   "source": [
    "# jupyter notebook에서는 plotly의 그래프를 출력할 수 있으나, github에서 안되는 경우가 많아서 출력결과를 이미지로 대체한다.\n",
    "from IPython.display import Image\n",
    "Image('funnel.png')"
   ]
  },
  {
   "cell_type": "markdown",
   "metadata": {},
   "source": [
    "- 가장 큰 특징은 결제시도에 비해 구매완료에 해당하는 고객이 매우 작은 점이다."
   ]
  },
  {
   "cell_type": "markdown",
   "metadata": {},
   "source": [
    "### 2) 고객 분석"
   ]
  },
  {
   "cell_type": "markdown",
   "metadata": {},
   "source": [
    "#### 데이터 전처리"
   ]
  },
  {
   "cell_type": "code",
   "execution_count": 30,
   "metadata": {},
   "outputs": [
    {
     "data": {
      "text/html": [
       "<div>\n",
       "<style scoped>\n",
       "    .dataframe tbody tr th:only-of-type {\n",
       "        vertical-align: middle;\n",
       "    }\n",
       "\n",
       "    .dataframe tbody tr th {\n",
       "        vertical-align: top;\n",
       "    }\n",
       "\n",
       "    .dataframe thead th {\n",
       "        text-align: right;\n",
       "    }\n",
       "</style>\n",
       "<table border=\"1\" class=\"dataframe\">\n",
       "  <thead>\n",
       "    <tr style=\"text-align: right;\">\n",
       "      <th></th>\n",
       "      <th>clnt_id</th>\n",
       "      <th>clnt_gender</th>\n",
       "      <th>clnt_age</th>\n",
       "    </tr>\n",
       "  </thead>\n",
       "  <tbody>\n",
       "    <tr>\n",
       "      <th>0</th>\n",
       "      <td>1</td>\n",
       "      <td>unknown</td>\n",
       "      <td>unknown</td>\n",
       "    </tr>\n",
       "    <tr>\n",
       "      <th>1</th>\n",
       "      <td>2</td>\n",
       "      <td>F</td>\n",
       "      <td>30</td>\n",
       "    </tr>\n",
       "    <tr>\n",
       "      <th>2</th>\n",
       "      <td>3</td>\n",
       "      <td>unknown</td>\n",
       "      <td>unknown</td>\n",
       "    </tr>\n",
       "    <tr>\n",
       "      <th>3</th>\n",
       "      <td>4</td>\n",
       "      <td>unknown</td>\n",
       "      <td>unknown</td>\n",
       "    </tr>\n",
       "    <tr>\n",
       "      <th>4</th>\n",
       "      <td>5</td>\n",
       "      <td>unknown</td>\n",
       "      <td>unknown</td>\n",
       "    </tr>\n",
       "    <tr>\n",
       "      <th>...</th>\n",
       "      <td>...</td>\n",
       "      <td>...</td>\n",
       "      <td>...</td>\n",
       "    </tr>\n",
       "    <tr>\n",
       "      <th>72394</th>\n",
       "      <td>72425</td>\n",
       "      <td>unknown</td>\n",
       "      <td>unknown</td>\n",
       "    </tr>\n",
       "    <tr>\n",
       "      <th>72395</th>\n",
       "      <td>72426</td>\n",
       "      <td>unknown</td>\n",
       "      <td>unknown</td>\n",
       "    </tr>\n",
       "    <tr>\n",
       "      <th>72396</th>\n",
       "      <td>72427</td>\n",
       "      <td>unknown</td>\n",
       "      <td>unknown</td>\n",
       "    </tr>\n",
       "    <tr>\n",
       "      <th>72397</th>\n",
       "      <td>72428</td>\n",
       "      <td>unknown</td>\n",
       "      <td>unknown</td>\n",
       "    </tr>\n",
       "    <tr>\n",
       "      <th>72398</th>\n",
       "      <td>72429</td>\n",
       "      <td>unknown</td>\n",
       "      <td>unknown</td>\n",
       "    </tr>\n",
       "  </tbody>\n",
       "</table>\n",
       "<p>72399 rows × 3 columns</p>\n",
       "</div>"
      ],
      "text/plain": [
       "       clnt_id clnt_gender clnt_age\n",
       "0            1     unknown  unknown\n",
       "1            2           F       30\n",
       "2            3     unknown  unknown\n",
       "3            4     unknown  unknown\n",
       "4            5     unknown  unknown\n",
       "...        ...         ...      ...\n",
       "72394    72425     unknown  unknown\n",
       "72395    72426     unknown  unknown\n",
       "72396    72427     unknown  unknown\n",
       "72397    72428     unknown  unknown\n",
       "72398    72429     unknown  unknown\n",
       "\n",
       "[72399 rows x 3 columns]"
      ]
     },
     "execution_count": 30,
     "metadata": {},
     "output_type": "execute_result"
    }
   ],
   "source": [
    "customer"
   ]
  },
  {
   "cell_type": "code",
   "execution_count": 31,
   "metadata": {},
   "outputs": [],
   "source": [
    "customer['clnt_gender']=customer.clnt_gender.replace('unknown',np.nan)"
   ]
  },
  {
   "cell_type": "code",
   "execution_count": 32,
   "metadata": {},
   "outputs": [],
   "source": [
    "customer['clnt_age']=customer['clnt_age'].replace('unknown',np.nan)"
   ]
  },
  {
   "cell_type": "code",
   "execution_count": 33,
   "metadata": {},
   "outputs": [],
   "source": [
    "transaction['pd_c']=transaction['pd_c'].replace('unknown',np.nan)"
   ]
  },
  {
   "cell_type": "code",
   "execution_count": 34,
   "metadata": {},
   "outputs": [],
   "source": [
    "transaction=transaction.dropna()"
   ]
  },
  {
   "cell_type": "code",
   "execution_count": 35,
   "metadata": {},
   "outputs": [],
   "source": [
    "customer=pd.merge(customer,transaction,on='clnt_id',how='inner')"
   ]
  },
  {
   "cell_type": "code",
   "execution_count": 36,
   "metadata": {},
   "outputs": [],
   "source": [
    "customer.columns=['clnt_id', '성별', 'age', 'trans_id', '거래일련번호',\n",
    "       'biz_unit', 'pd_c', '구매일자', '구매시각', '구매금액', '구매수량','상품대분류','상품중분류']"
   ]
  },
  {
   "cell_type": "code",
   "execution_count": 37,
   "metadata": {},
   "outputs": [
    {
     "data": {
      "text/html": [
       "<div>\n",
       "<style scoped>\n",
       "    .dataframe tbody tr th:only-of-type {\n",
       "        vertical-align: middle;\n",
       "    }\n",
       "\n",
       "    .dataframe tbody tr th {\n",
       "        vertical-align: top;\n",
       "    }\n",
       "\n",
       "    .dataframe thead th {\n",
       "        text-align: right;\n",
       "    }\n",
       "</style>\n",
       "<table border=\"1\" class=\"dataframe\">\n",
       "  <thead>\n",
       "    <tr style=\"text-align: right;\">\n",
       "      <th></th>\n",
       "      <th>clnt_id</th>\n",
       "      <th>성별</th>\n",
       "      <th>age</th>\n",
       "      <th>trans_id</th>\n",
       "      <th>거래일련번호</th>\n",
       "      <th>biz_unit</th>\n",
       "      <th>pd_c</th>\n",
       "      <th>구매일자</th>\n",
       "      <th>구매시각</th>\n",
       "      <th>구매금액</th>\n",
       "      <th>구매수량</th>\n",
       "      <th>상품대분류</th>\n",
       "      <th>상품중분류</th>\n",
       "    </tr>\n",
       "  </thead>\n",
       "  <tbody>\n",
       "    <tr>\n",
       "      <th>0</th>\n",
       "      <td>2</td>\n",
       "      <td>F</td>\n",
       "      <td>30</td>\n",
       "      <td>88495</td>\n",
       "      <td>2</td>\n",
       "      <td>A03</td>\n",
       "      <td>1395.0</td>\n",
       "      <td>20190830</td>\n",
       "      <td>22:00</td>\n",
       "      <td>2850</td>\n",
       "      <td>1</td>\n",
       "      <td>Substitute Foods</td>\n",
       "      <td>Instant Noodles</td>\n",
       "    </tr>\n",
       "    <tr>\n",
       "      <th>1</th>\n",
       "      <td>2</td>\n",
       "      <td>F</td>\n",
       "      <td>30</td>\n",
       "      <td>88495</td>\n",
       "      <td>3</td>\n",
       "      <td>A03</td>\n",
       "      <td>1395.0</td>\n",
       "      <td>20190830</td>\n",
       "      <td>22:00</td>\n",
       "      <td>5700</td>\n",
       "      <td>2</td>\n",
       "      <td>Substitute Foods</td>\n",
       "      <td>Instant Noodles</td>\n",
       "    </tr>\n",
       "    <tr>\n",
       "      <th>2</th>\n",
       "      <td>2</td>\n",
       "      <td>F</td>\n",
       "      <td>30</td>\n",
       "      <td>88495</td>\n",
       "      <td>1</td>\n",
       "      <td>A03</td>\n",
       "      <td>1395.0</td>\n",
       "      <td>20190830</td>\n",
       "      <td>22:00</td>\n",
       "      <td>3590</td>\n",
       "      <td>1</td>\n",
       "      <td>Substitute Foods</td>\n",
       "      <td>Instant Noodles</td>\n",
       "    </tr>\n",
       "    <tr>\n",
       "      <th>3</th>\n",
       "      <td>2</td>\n",
       "      <td>F</td>\n",
       "      <td>30</td>\n",
       "      <td>64691</td>\n",
       "      <td>2</td>\n",
       "      <td>A03</td>\n",
       "      <td>151.0</td>\n",
       "      <td>20190731</td>\n",
       "      <td>21:25</td>\n",
       "      <td>3990</td>\n",
       "      <td>1</td>\n",
       "      <td>Canned / Jarred Foods</td>\n",
       "      <td>Canned Agricultural Foods</td>\n",
       "    </tr>\n",
       "    <tr>\n",
       "      <th>4</th>\n",
       "      <td>2</td>\n",
       "      <td>F</td>\n",
       "      <td>30</td>\n",
       "      <td>64691</td>\n",
       "      <td>4</td>\n",
       "      <td>A03</td>\n",
       "      <td>189.0</td>\n",
       "      <td>20190731</td>\n",
       "      <td>21:25</td>\n",
       "      <td>4290</td>\n",
       "      <td>1</td>\n",
       "      <td>Chilled Foods</td>\n",
       "      <td>Fish Cakes and Crab Sticks</td>\n",
       "    </tr>\n",
       "    <tr>\n",
       "      <th>...</th>\n",
       "      <td>...</td>\n",
       "      <td>...</td>\n",
       "      <td>...</td>\n",
       "      <td>...</td>\n",
       "      <td>...</td>\n",
       "      <td>...</td>\n",
       "      <td>...</td>\n",
       "      <td>...</td>\n",
       "      <td>...</td>\n",
       "      <td>...</td>\n",
       "      <td>...</td>\n",
       "      <td>...</td>\n",
       "      <td>...</td>\n",
       "    </tr>\n",
       "    <tr>\n",
       "      <th>582304</th>\n",
       "      <td>72424</td>\n",
       "      <td>M</td>\n",
       "      <td>40</td>\n",
       "      <td>136530</td>\n",
       "      <td>3</td>\n",
       "      <td>B01</td>\n",
       "      <td>213.0</td>\n",
       "      <td>20190718</td>\n",
       "      <td>20:05</td>\n",
       "      <td>19800</td>\n",
       "      <td>1</td>\n",
       "      <td>Cleaning / Laundry / Bathroom Accessories</td>\n",
       "      <td>Bathroom Fixtures</td>\n",
       "    </tr>\n",
       "    <tr>\n",
       "      <th>582305</th>\n",
       "      <td>72424</td>\n",
       "      <td>M</td>\n",
       "      <td>40</td>\n",
       "      <td>136530</td>\n",
       "      <td>1</td>\n",
       "      <td>B01</td>\n",
       "      <td>70.0</td>\n",
       "      <td>20190718</td>\n",
       "      <td>20:05</td>\n",
       "      <td>10000</td>\n",
       "      <td>1</td>\n",
       "      <td>Bedding / Handicraft</td>\n",
       "      <td>Adults' Bedding</td>\n",
       "    </tr>\n",
       "    <tr>\n",
       "      <th>582306</th>\n",
       "      <td>72424</td>\n",
       "      <td>M</td>\n",
       "      <td>40</td>\n",
       "      <td>85065</td>\n",
       "      <td>1</td>\n",
       "      <td>A01</td>\n",
       "      <td>1316.0</td>\n",
       "      <td>20190826</td>\n",
       "      <td>11:54</td>\n",
       "      <td>99000</td>\n",
       "      <td>1</td>\n",
       "      <td>Sport Fashion</td>\n",
       "      <td>Women's Sport Shoes</td>\n",
       "    </tr>\n",
       "    <tr>\n",
       "      <th>582307</th>\n",
       "      <td>72424</td>\n",
       "      <td>M</td>\n",
       "      <td>40</td>\n",
       "      <td>85066</td>\n",
       "      <td>1</td>\n",
       "      <td>A01</td>\n",
       "      <td>1316.0</td>\n",
       "      <td>20190826</td>\n",
       "      <td>11:56</td>\n",
       "      <td>99000</td>\n",
       "      <td>1</td>\n",
       "      <td>Sport Fashion</td>\n",
       "      <td>Women's Sport Shoes</td>\n",
       "    </tr>\n",
       "    <tr>\n",
       "      <th>582308</th>\n",
       "      <td>72424</td>\n",
       "      <td>M</td>\n",
       "      <td>40</td>\n",
       "      <td>136530</td>\n",
       "      <td>9</td>\n",
       "      <td>B01</td>\n",
       "      <td>2.0</td>\n",
       "      <td>20190718</td>\n",
       "      <td>20:05</td>\n",
       "      <td>3400</td>\n",
       "      <td>1</td>\n",
       "      <td>Automotive Products</td>\n",
       "      <td>Automotive Replacement Repair / Maintanance Kits</td>\n",
       "    </tr>\n",
       "  </tbody>\n",
       "</table>\n",
       "<p>582309 rows × 13 columns</p>\n",
       "</div>"
      ],
      "text/plain": [
       "        clnt_id 성별 age  trans_id  거래일련번호 biz_unit    pd_c      구매일자   구매시각  \\\n",
       "0             2  F  30     88495       2      A03  1395.0  20190830  22:00   \n",
       "1             2  F  30     88495       3      A03  1395.0  20190830  22:00   \n",
       "2             2  F  30     88495       1      A03  1395.0  20190830  22:00   \n",
       "3             2  F  30     64691       2      A03   151.0  20190731  21:25   \n",
       "4             2  F  30     64691       4      A03   189.0  20190731  21:25   \n",
       "...         ... ..  ..       ...     ...      ...     ...       ...    ...   \n",
       "582304    72424  M  40    136530       3      B01   213.0  20190718  20:05   \n",
       "582305    72424  M  40    136530       1      B01    70.0  20190718  20:05   \n",
       "582306    72424  M  40     85065       1      A01  1316.0  20190826  11:54   \n",
       "582307    72424  M  40     85066       1      A01  1316.0  20190826  11:56   \n",
       "582308    72424  M  40    136530       9      B01     2.0  20190718  20:05   \n",
       "\n",
       "         구매금액  구매수량                                      상품대분류  \\\n",
       "0        2850     1                           Substitute Foods   \n",
       "1        5700     2                           Substitute Foods   \n",
       "2        3590     1                           Substitute Foods   \n",
       "3        3990     1                      Canned / Jarred Foods   \n",
       "4        4290     1                              Chilled Foods   \n",
       "...       ...   ...                                        ...   \n",
       "582304  19800     1  Cleaning / Laundry / Bathroom Accessories   \n",
       "582305  10000     1                       Bedding / Handicraft   \n",
       "582306  99000     1                              Sport Fashion   \n",
       "582307  99000     1                              Sport Fashion   \n",
       "582308   3400     1                        Automotive Products   \n",
       "\n",
       "                                                   상품중분류  \n",
       "0                                        Instant Noodles  \n",
       "1                                        Instant Noodles  \n",
       "2                                        Instant Noodles  \n",
       "3                              Canned Agricultural Foods  \n",
       "4                             Fish Cakes and Crab Sticks  \n",
       "...                                                  ...  \n",
       "582304                                 Bathroom Fixtures  \n",
       "582305                                   Adults' Bedding  \n",
       "582306                               Women's Sport Shoes  \n",
       "582307                               Women's Sport Shoes  \n",
       "582308  Automotive Replacement Repair / Maintanance Kits  \n",
       "\n",
       "[582309 rows x 13 columns]"
      ]
     },
     "execution_count": 37,
     "metadata": {},
     "output_type": "execute_result"
    }
   ],
   "source": [
    "customer"
   ]
  },
  {
   "cell_type": "code",
   "execution_count": 38,
   "metadata": {},
   "outputs": [
    {
     "name": "stdout",
     "output_type": "stream",
     "text": [
      "<class 'pandas.core.frame.DataFrame'>\n",
      "Int64Index: 582309 entries, 0 to 582308\n",
      "Data columns (total 13 columns):\n",
      " #   Column    Non-Null Count   Dtype  \n",
      "---  ------    --------------   -----  \n",
      " 0   clnt_id   582309 non-null  int64  \n",
      " 1   성별        582309 non-null  object \n",
      " 2   age       582309 non-null  object \n",
      " 3   trans_id  582309 non-null  int64  \n",
      " 4   거래일련번호    582309 non-null  int64  \n",
      " 5   biz_unit  582309 non-null  object \n",
      " 6   pd_c      582309 non-null  float64\n",
      " 7   구매일자      582309 non-null  int64  \n",
      " 8   구매시각      582309 non-null  object \n",
      " 9   구매금액      582309 non-null  int64  \n",
      " 10  구매수량      582309 non-null  int64  \n",
      " 11  상품대분류     582309 non-null  object \n",
      " 12  상품중분류     582309 non-null  object \n",
      "dtypes: float64(1), int64(6), object(6)\n",
      "memory usage: 62.2+ MB\n"
     ]
    }
   ],
   "source": [
    "customer.info()"
   ]
  },
  {
   "cell_type": "code",
   "execution_count": 39,
   "metadata": {},
   "outputs": [],
   "source": [
    "cumstomer=customer.dropna()"
   ]
  },
  {
   "cell_type": "code",
   "execution_count": 40,
   "metadata": {},
   "outputs": [],
   "source": [
    "customer['총구매금액']=customer['구매금액']*customer['구매수량']"
   ]
  },
  {
   "cell_type": "code",
   "execution_count": 41,
   "metadata": {
    "scrolled": true
   },
   "outputs": [
    {
     "data": {
      "text/plain": [
       "clnt_id  trans_id\n",
       "2        42449        1\n",
       "         62037        1\n",
       "         64691        5\n",
       "         65505        1\n",
       "         72330        1\n",
       "                     ..\n",
       "72424    85066        1\n",
       "         108309      11\n",
       "         108506       2\n",
       "         136530      11\n",
       "         136596      42\n",
       "Name: 거래일련번호, Length: 115260, dtype: int64"
      ]
     },
     "execution_count": 41,
     "metadata": {},
     "output_type": "execute_result"
    }
   ],
   "source": [
    "customer.groupby(['clnt_id','trans_id'])['거래일련번호'].count()"
   ]
  },
  {
   "cell_type": "code",
   "execution_count": 42,
   "metadata": {},
   "outputs": [
    {
     "name": "stdout",
     "output_type": "stream",
     "text": [
      "<class 'pandas.core.frame.DataFrame'>\n",
      "Int64Index: 582309 entries, 0 to 582308\n",
      "Data columns (total 14 columns):\n",
      " #   Column    Non-Null Count   Dtype  \n",
      "---  ------    --------------   -----  \n",
      " 0   clnt_id   582309 non-null  int64  \n",
      " 1   성별        582309 non-null  object \n",
      " 2   age       582309 non-null  object \n",
      " 3   trans_id  582309 non-null  int64  \n",
      " 4   거래일련번호    582309 non-null  int64  \n",
      " 5   biz_unit  582309 non-null  object \n",
      " 6   pd_c      582309 non-null  float64\n",
      " 7   구매일자      582309 non-null  int64  \n",
      " 8   구매시각      582309 non-null  object \n",
      " 9   구매금액      582309 non-null  int64  \n",
      " 10  구매수량      582309 non-null  int64  \n",
      " 11  상품대분류     582309 non-null  object \n",
      " 12  상품중분류     582309 non-null  object \n",
      " 13  총구매금액     582309 non-null  int64  \n",
      "dtypes: float64(1), int64(7), object(6)\n",
      "memory usage: 66.6+ MB\n"
     ]
    }
   ],
   "source": [
    "customer.info()"
   ]
  },
  {
   "cell_type": "code",
   "execution_count": 43,
   "metadata": {},
   "outputs": [],
   "source": [
    "customer['구매일자']=pd.to_datetime(customer.구매일자.astype('str'),format='%Y%m%d')"
   ]
  },
  {
   "cell_type": "markdown",
   "metadata": {},
   "source": [
    "#### 고객 데이터에서 가입일을 알 수 없으므로 리텐션은 추출할 수 없고 \n",
    "#### - 고객들의 평균구매가치(APV) 구하기"
   ]
  },
  {
   "cell_type": "code",
   "execution_count": 44,
   "metadata": {},
   "outputs": [
    {
     "name": "stdout",
     "output_type": "stream",
     "text": [
      "롯데멤버쉽 온라인 쇼핑의 APV는 1646449.47 이다.\n"
     ]
    }
   ],
   "source": [
    "print( '롯데멤버쉽 온라인 쇼핑의 APV는 %.2f 이다.'% round(customer['총구매금액'].sum()/len(customer.trans_id.unique()),2))"
   ]
  },
  {
   "cell_type": "markdown",
   "metadata": {},
   "source": [
    "#### - 평균구매빈도율(APFR) 구하기"
   ]
  },
  {
   "cell_type": "code",
   "execution_count": 45,
   "metadata": {},
   "outputs": [
    {
     "name": "stdout",
     "output_type": "stream",
     "text": [
      "롯데멤버쉽 온라인 쇼핑의 APFR는 10.23 이다.\n"
     ]
    }
   ],
   "source": [
    "print( '롯데멤버쉽 온라인 쇼핑의 APFR는 %.2f 이다.'% round(len(customer.trans_id.unique())/len(customer.clnt_id.unique()),2))"
   ]
  },
  {
   "cell_type": "markdown",
   "metadata": {},
   "source": [
    "#### - 고객별 LTR(Life time Revenue) 구하기 -CAC를 구할 수 없기 때문에 고객의 가치를 파악하기 위해 사용함"
   ]
  },
  {
   "cell_type": "code",
   "execution_count": 46,
   "metadata": {},
   "outputs": [
    {
     "data": {
      "text/plain": [
       "clnt_id\n",
       "50600    100015896647\n",
       "43143     36655608845\n",
       "63500     31586420228\n",
       "5492       2722131490\n",
       "70438       695698210\n",
       "             ...     \n",
       "30509               0\n",
       "27623               0\n",
       "59321               0\n",
       "59282               0\n",
       "39693               0\n",
       "Name: 총구매금액, Length: 11271, dtype: int64"
      ]
     },
     "execution_count": 46,
     "metadata": {},
     "output_type": "execute_result"
    }
   ],
   "source": [
    "ltr_cust=customer.groupby('clnt_id')['총구매금액'].sum().sort_values(ascending=False)\n",
    "ltr_cust"
   ]
  },
  {
   "cell_type": "code",
   "execution_count": 47,
   "metadata": {},
   "outputs": [],
   "source": [
    "ltr_cust=ltr_cust.reset_index()\n",
    "ltr_cust['ltr_rank']=[ i+1 for i in range(ltr_cust.shape[0])]"
   ]
  },
  {
   "cell_type": "code",
   "execution_count": 48,
   "metadata": {},
   "outputs": [],
   "source": [
    "ltr_cust.columns=['clnt_id', 'ltr', 'ltr_rank']"
   ]
  },
  {
   "cell_type": "code",
   "execution_count": 49,
   "metadata": {},
   "outputs": [],
   "source": [
    "customer=pd.merge(customer,ltr_cust,on='clnt_id').sort_values(by='ltr_rank')"
   ]
  },
  {
   "cell_type": "markdown",
   "metadata": {},
   "source": [
    "#### 고객별 ltr의 성별 평균은 다음과 같다.\n",
    "    중복을 제거하고 성별 Life Time Revenue를 구한다."
   ]
  },
  {
   "cell_type": "code",
   "execution_count": 50,
   "metadata": {
    "scrolled": true
   },
   "outputs": [
    {
     "data": {
      "text/plain": [
       "성별\n",
       "F    1.228932e+07\n",
       "M    4.339176e+07\n",
       "Name: ltr, dtype: float64"
      ]
     },
     "execution_count": 50,
     "metadata": {},
     "output_type": "execute_result"
    }
   ],
   "source": [
    "gender_cus=customer.loc[:,['clnt_id','성별','ltr']].drop_duplicates().groupby('성별')['ltr'].mean()\n",
    "gender_cus"
   ]
  },
  {
   "cell_type": "code",
   "execution_count": 51,
   "metadata": {},
   "outputs": [
    {
     "data": {
      "text/plain": [
       "([<matplotlib.patches.Wedge at 0x22384517408>,\n",
       "  <matplotlib.patches.Wedge at 0x2246ef322c8>],\n",
       " [Text(0.8460004408244544, 0.703052810338476, 'F'),\n",
       "  Text(-0.8460003749998959, -0.7030528895467507, 'M')],\n",
       " [Text(0.46145478590424777, 0.3834833510937141, '22.1%'),\n",
       "  Text(-0.4614547499999432, -0.3834833942982276, '77.9%')])"
      ]
     },
     "execution_count": 51,
     "metadata": {},
     "output_type": "execute_result"
    },
    {
     "data": {
      "image/png": "[encoded data removed]",
      "text/plain": [
       "<Figure size 432x432 with 1 Axes>"
      ]
     },
     "metadata": {},
     "output_type": "display_data"
    }
   ],
   "source": [
    "pie, ax = plt.subplots(figsize=[6,6])\n",
    "plt.pie(gender_cus,labels=gender_cus.index,autopct='%1.1f%%')"
   ]
  },
  {
   "cell_type": "markdown",
   "metadata": {},
   "source": [
    "- 평균적으로 남성의 경우가 여성의 경우보다 LTR의 평균이 높다.\n",
    "- LTR은 고객이 해당 서비스를 이용하는 동안 결제하는 총 금액이다.\n",
    "- 즉, 남성고객을 유치하는 쪽이 롯데맴버쉽이 가입된 온라인 몰에서는 회사에 매출액을 증대하는데 더 도움이 된다."
   ]
  },
  {
   "cell_type": "markdown",
   "metadata": {},
   "source": [
    "#### - 성별 데이터를 요일데이터로 세분화하여 구분하기\n",
    "    한개의 년도에 3개월간의 데이터이므로, 요일만 사용하여 세분화한다. "
   ]
  },
  {
   "cell_type": "code",
   "execution_count": 52,
   "metadata": {},
   "outputs": [],
   "source": [
    "customer['요일']=customer.구매일자.dt.day_name()"
   ]
  },
  {
   "cell_type": "code",
   "execution_count": 53,
   "metadata": {},
   "outputs": [],
   "source": [
    "gd_weekday_cus=customer.loc[:,['clnt_id','성별','요일','ltr']].drop_duplicates().groupby(['성별','요일'])['ltr'].mean()"
   ]
  },
  {
   "cell_type": "code",
   "execution_count": 54,
   "metadata": {},
   "outputs": [],
   "source": [
    "gd_weekday_cus=gd_weekday_cus.reset_index()"
   ]
  },
  {
   "cell_type": "code",
   "execution_count": 55,
   "metadata": {},
   "outputs": [
    {
     "data": {
      "text/plain": [
       "Text(0.5, 1.0, '요일별 성별 총 결제금액의 평균')"
      ]
     },
     "execution_count": 55,
     "metadata": {},
     "output_type": "execute_result"
    },
    {
     "data": {
      "image/png": "[encoded data removed]",
      "text/plain": [
       "<Figure size 720x864 with 1 Axes>"
      ]
     },
     "metadata": {
      "needs_background": "light"
     },
     "output_type": "display_data"
    }
   ],
   "source": [
    "plt.rc('font', family='Malgun Gothic') \n",
    "pie, ax = plt.subplots(figsize=[10,12])\n",
    "sns.barplot(x='요일',y='ltr',data=gd_weekday_cus,hue='성별')\n",
    "plt.title(\"요일별 성별 총 결제금액의 평균\")"
   ]
  },
  {
   "cell_type": "markdown",
   "metadata": {},
   "source": [
    "- 요일별로 분석하면, 일요일에 결제하는 고객이 금액이 제일 적고 남녀 요일별 총 결제금액의 편차도 제일 적음(여자 결제금액이 올라감)"
   ]
  },
  {
   "cell_type": "markdown",
   "metadata": {},
   "source": [
    "#### 사용자별 성별 상품대분류별 총결제금액의 평균"
   ]
  },
  {
   "cell_type": "code",
   "execution_count": 56,
   "metadata": {},
   "outputs": [
    {
     "data": {
      "text/html": [
       "<div>\n",
       "<style scoped>\n",
       "    .dataframe tbody tr th:only-of-type {\n",
       "        vertical-align: middle;\n",
       "    }\n",
       "\n",
       "    .dataframe tbody tr th {\n",
       "        vertical-align: top;\n",
       "    }\n",
       "\n",
       "    .dataframe thead th {\n",
       "        text-align: right;\n",
       "    }\n",
       "</style>\n",
       "<table border=\"1\" class=\"dataframe\">\n",
       "  <thead>\n",
       "    <tr style=\"text-align: right;\">\n",
       "      <th></th>\n",
       "      <th>성별</th>\n",
       "      <th>상품대분류</th>\n",
       "      <th>ltr</th>\n",
       "    </tr>\n",
       "  </thead>\n",
       "  <tbody>\n",
       "    <tr>\n",
       "      <th>0</th>\n",
       "      <td>M</td>\n",
       "      <td>Home Decor / Lighting</td>\n",
       "      <td>6.744499e+08</td>\n",
       "    </tr>\n",
       "    <tr>\n",
       "      <th>1</th>\n",
       "      <td>M</td>\n",
       "      <td>Outdoor / Leisure Activities</td>\n",
       "      <td>4.454466e+08</td>\n",
       "    </tr>\n",
       "    <tr>\n",
       "      <th>2</th>\n",
       "      <td>M</td>\n",
       "      <td>Toy</td>\n",
       "      <td>2.610772e+08</td>\n",
       "    </tr>\n",
       "    <tr>\n",
       "      <th>3</th>\n",
       "      <td>M</td>\n",
       "      <td>Coffee / Tea</td>\n",
       "      <td>2.476542e+08</td>\n",
       "    </tr>\n",
       "    <tr>\n",
       "      <th>4</th>\n",
       "      <td>M</td>\n",
       "      <td>Health Foods</td>\n",
       "      <td>2.215066e+08</td>\n",
       "    </tr>\n",
       "    <tr>\n",
       "      <th>...</th>\n",
       "      <td>...</td>\n",
       "      <td>...</td>\n",
       "      <td>...</td>\n",
       "    </tr>\n",
       "    <tr>\n",
       "      <th>114</th>\n",
       "      <td>F</td>\n",
       "      <td>Computers</td>\n",
       "      <td>1.621885e+06</td>\n",
       "    </tr>\n",
       "    <tr>\n",
       "      <th>115</th>\n",
       "      <td>M</td>\n",
       "      <td>Tobacco</td>\n",
       "      <td>1.576237e+06</td>\n",
       "    </tr>\n",
       "    <tr>\n",
       "      <th>116</th>\n",
       "      <td>M</td>\n",
       "      <td>Travel / Leisure Services</td>\n",
       "      <td>1.524332e+06</td>\n",
       "    </tr>\n",
       "    <tr>\n",
       "      <th>117</th>\n",
       "      <td>F</td>\n",
       "      <td>Gift Certificates / Cards</td>\n",
       "      <td>1.437102e+06</td>\n",
       "    </tr>\n",
       "    <tr>\n",
       "      <th>118</th>\n",
       "      <td>F</td>\n",
       "      <td>Travel / Leisure Services</td>\n",
       "      <td>1.158557e+06</td>\n",
       "    </tr>\n",
       "  </tbody>\n",
       "</table>\n",
       "<p>119 rows × 3 columns</p>\n",
       "</div>"
      ],
      "text/plain": [
       "    성별                         상품대분류           ltr\n",
       "0    M         Home Decor / Lighting  6.744499e+08\n",
       "1    M  Outdoor / Leisure Activities  4.454466e+08\n",
       "2    M                           Toy  2.610772e+08\n",
       "3    M                  Coffee / Tea  2.476542e+08\n",
       "4    M                  Health Foods  2.215066e+08\n",
       "..  ..                           ...           ...\n",
       "114  F                     Computers  1.621885e+06\n",
       "115  M                       Tobacco  1.576237e+06\n",
       "116  M     Travel / Leisure Services  1.524332e+06\n",
       "117  F     Gift Certificates / Cards  1.437102e+06\n",
       "118  F     Travel / Leisure Services  1.158557e+06\n",
       "\n",
       "[119 rows x 3 columns]"
      ]
     },
     "execution_count": 56,
     "metadata": {},
     "output_type": "execute_result"
    }
   ],
   "source": [
    "gd_goods_cus=customer.loc[:,['clnt_id','성별','상품대분류','ltr']].drop_duplicates().groupby(['성별','상품대분류'])['ltr'].mean().sort_values(ascending=False).reset_index()\n",
    "gd_goods_cus"
   ]
  },
  {
   "cell_type": "code",
   "execution_count": 57,
   "metadata": {},
   "outputs": [
    {
     "data": {
      "text/plain": [
       "성별\n",
       "F    1.184085e+08\n",
       "M    6.744499e+08\n",
       "Name: ltr, dtype: float64"
      ]
     },
     "execution_count": 57,
     "metadata": {},
     "output_type": "execute_result"
    }
   ],
   "source": [
    "gd_goods_cus.groupby('성별')['ltr'].max()"
   ]
  },
  {
   "cell_type": "code",
   "execution_count": 58,
   "metadata": {},
   "outputs": [
    {
     "data": {
      "text/plain": [
       "성별                                  F\n",
       "상품대분류    Tableware / Cooking Utensils\n",
       "ltr                  118408487.752283\n",
       "Name: 10, dtype: object"
      ]
     },
     "execution_count": 58,
     "metadata": {},
     "output_type": "execute_result"
    }
   ],
   "source": [
    "gd_goods_cus.iloc[10,:]"
   ]
  },
  {
   "cell_type": "markdown",
   "metadata": {},
   "source": [
    "- 여성 결제총금액 최대값과 해당 제품"
   ]
  },
  {
   "cell_type": "code",
   "execution_count": 59,
   "metadata": {},
   "outputs": [
    {
     "data": {
      "text/plain": [
       "성별                           M\n",
       "상품대분류    Home Decor / Lighting\n",
       "ltr           674449917.638298\n",
       "Name: 0, dtype: object"
      ]
     },
     "execution_count": 59,
     "metadata": {},
     "output_type": "execute_result"
    }
   ],
   "source": [
    "gd_goods_cus.iloc[0,:]"
   ]
  },
  {
   "cell_type": "markdown",
   "metadata": {},
   "source": [
    "- 남성 결제총금액 최대값과 해당 제품"
   ]
  },
  {
   "cell_type": "markdown",
   "metadata": {},
   "source": [
    "#### 남성과 여성의 총결제금액 평균 상위 10개 품목"
   ]
  },
  {
   "cell_type": "code",
   "execution_count": 60,
   "metadata": {},
   "outputs": [
    {
     "data": {
      "text/html": [
       "<div>\n",
       "<style scoped>\n",
       "    .dataframe tbody tr th:only-of-type {\n",
       "        vertical-align: middle;\n",
       "    }\n",
       "\n",
       "    .dataframe tbody tr th {\n",
       "        vertical-align: top;\n",
       "    }\n",
       "\n",
       "    .dataframe thead th {\n",
       "        text-align: right;\n",
       "    }\n",
       "</style>\n",
       "<table border=\"1\" class=\"dataframe\">\n",
       "  <thead>\n",
       "    <tr style=\"text-align: right;\">\n",
       "      <th></th>\n",
       "      <th>성별</th>\n",
       "      <th>상품대분류</th>\n",
       "      <th>ltr</th>\n",
       "    </tr>\n",
       "  </thead>\n",
       "  <tbody>\n",
       "    <tr>\n",
       "      <th>0</th>\n",
       "      <td>M</td>\n",
       "      <td>Home Decor / Lighting</td>\n",
       "      <td>6.744499e+08</td>\n",
       "    </tr>\n",
       "    <tr>\n",
       "      <th>1</th>\n",
       "      <td>M</td>\n",
       "      <td>Outdoor / Leisure Activities</td>\n",
       "      <td>4.454466e+08</td>\n",
       "    </tr>\n",
       "    <tr>\n",
       "      <th>2</th>\n",
       "      <td>M</td>\n",
       "      <td>Toy</td>\n",
       "      <td>2.610772e+08</td>\n",
       "    </tr>\n",
       "    <tr>\n",
       "      <th>3</th>\n",
       "      <td>M</td>\n",
       "      <td>Coffee / Tea</td>\n",
       "      <td>2.476542e+08</td>\n",
       "    </tr>\n",
       "    <tr>\n",
       "      <th>4</th>\n",
       "      <td>M</td>\n",
       "      <td>Health Foods</td>\n",
       "      <td>2.215066e+08</td>\n",
       "    </tr>\n",
       "    <tr>\n",
       "      <th>5</th>\n",
       "      <td>M</td>\n",
       "      <td>Cosmetics / Beauty Care</td>\n",
       "      <td>2.120455e+08</td>\n",
       "    </tr>\n",
       "    <tr>\n",
       "      <th>6</th>\n",
       "      <td>M</td>\n",
       "      <td>Underwear / Socks and Hosiery / Homewear</td>\n",
       "      <td>1.844922e+08</td>\n",
       "    </tr>\n",
       "    <tr>\n",
       "      <th>7</th>\n",
       "      <td>M</td>\n",
       "      <td>Fashion Accessories</td>\n",
       "      <td>1.803650e+08</td>\n",
       "    </tr>\n",
       "    <tr>\n",
       "      <th>8</th>\n",
       "      <td>M</td>\n",
       "      <td>Personal Care</td>\n",
       "      <td>1.601491e+08</td>\n",
       "    </tr>\n",
       "    <tr>\n",
       "      <th>9</th>\n",
       "      <td>M</td>\n",
       "      <td>Liquors / Alcoholic Beverages</td>\n",
       "      <td>1.547041e+08</td>\n",
       "    </tr>\n",
       "  </tbody>\n",
       "</table>\n",
       "</div>"
      ],
      "text/plain": [
       "  성별                                     상품대분류           ltr\n",
       "0  M                     Home Decor / Lighting  6.744499e+08\n",
       "1  M              Outdoor / Leisure Activities  4.454466e+08\n",
       "2  M                                       Toy  2.610772e+08\n",
       "3  M                              Coffee / Tea  2.476542e+08\n",
       "4  M                              Health Foods  2.215066e+08\n",
       "5  M                   Cosmetics / Beauty Care  2.120455e+08\n",
       "6  M  Underwear / Socks and Hosiery / Homewear  1.844922e+08\n",
       "7  M                       Fashion Accessories  1.803650e+08\n",
       "8  M                             Personal Care  1.601491e+08\n",
       "9  M             Liquors / Alcoholic Beverages  1.547041e+08"
      ]
     },
     "execution_count": 60,
     "metadata": {},
     "output_type": "execute_result"
    }
   ],
   "source": [
    "gd_goods_cus.query(\"성별=='M'\").sort_values(by='ltr',ascending=False).iloc[:10,:]"
   ]
  },
  {
   "cell_type": "code",
   "execution_count": 61,
   "metadata": {},
   "outputs": [
    {
     "data": {
      "text/html": [
       "<div>\n",
       "<style scoped>\n",
       "    .dataframe tbody tr th:only-of-type {\n",
       "        vertical-align: middle;\n",
       "    }\n",
       "\n",
       "    .dataframe tbody tr th {\n",
       "        vertical-align: top;\n",
       "    }\n",
       "\n",
       "    .dataframe thead th {\n",
       "        text-align: right;\n",
       "    }\n",
       "</style>\n",
       "<table border=\"1\" class=\"dataframe\">\n",
       "  <thead>\n",
       "    <tr style=\"text-align: right;\">\n",
       "      <th></th>\n",
       "      <th>성별</th>\n",
       "      <th>상품대분류</th>\n",
       "      <th>ltr</th>\n",
       "    </tr>\n",
       "  </thead>\n",
       "  <tbody>\n",
       "    <tr>\n",
       "      <th>10</th>\n",
       "      <td>F</td>\n",
       "      <td>Tableware / Cooking Utensils</td>\n",
       "      <td>1.184085e+08</td>\n",
       "    </tr>\n",
       "    <tr>\n",
       "      <th>12</th>\n",
       "      <td>F</td>\n",
       "      <td>Health Foods</td>\n",
       "      <td>9.310968e+07</td>\n",
       "    </tr>\n",
       "    <tr>\n",
       "      <th>21</th>\n",
       "      <td>F</td>\n",
       "      <td>Tenants / Restaurants</td>\n",
       "      <td>6.841275e+07</td>\n",
       "    </tr>\n",
       "    <tr>\n",
       "      <th>23</th>\n",
       "      <td>F</td>\n",
       "      <td>Cooked Foods</td>\n",
       "      <td>5.642759e+07</td>\n",
       "    </tr>\n",
       "    <tr>\n",
       "      <th>24</th>\n",
       "      <td>F</td>\n",
       "      <td>Grains</td>\n",
       "      <td>5.625153e+07</td>\n",
       "    </tr>\n",
       "    <tr>\n",
       "      <th>25</th>\n",
       "      <td>F</td>\n",
       "      <td>Coffee / Tea</td>\n",
       "      <td>5.521867e+07</td>\n",
       "    </tr>\n",
       "    <tr>\n",
       "      <th>26</th>\n",
       "      <td>F</td>\n",
       "      <td>Women's Clothing</td>\n",
       "      <td>5.493654e+07</td>\n",
       "    </tr>\n",
       "    <tr>\n",
       "      <th>29</th>\n",
       "      <td>F</td>\n",
       "      <td>Liquors / Alcoholic Beverages</td>\n",
       "      <td>4.067673e+07</td>\n",
       "    </tr>\n",
       "    <tr>\n",
       "      <th>30</th>\n",
       "      <td>F</td>\n",
       "      <td>Cosmetics / Beauty Care</td>\n",
       "      <td>3.961295e+07</td>\n",
       "    </tr>\n",
       "    <tr>\n",
       "      <th>31</th>\n",
       "      <td>F</td>\n",
       "      <td>Sea Foods</td>\n",
       "      <td>3.778062e+07</td>\n",
       "    </tr>\n",
       "  </tbody>\n",
       "</table>\n",
       "</div>"
      ],
      "text/plain": [
       "   성별                          상품대분류           ltr\n",
       "10  F   Tableware / Cooking Utensils  1.184085e+08\n",
       "12  F                   Health Foods  9.310968e+07\n",
       "21  F          Tenants / Restaurants  6.841275e+07\n",
       "23  F                   Cooked Foods  5.642759e+07\n",
       "24  F                         Grains  5.625153e+07\n",
       "25  F                   Coffee / Tea  5.521867e+07\n",
       "26  F               Women's Clothing  5.493654e+07\n",
       "29  F  Liquors / Alcoholic Beverages  4.067673e+07\n",
       "30  F        Cosmetics / Beauty Care  3.961295e+07\n",
       "31  F                      Sea Foods  3.778062e+07"
      ]
     },
     "execution_count": 61,
     "metadata": {},
     "output_type": "execute_result"
    }
   ],
   "source": [
    "gd_goods_cus.query(\"성별=='F'\").sort_values(by='ltr',ascending=False).iloc[:10,:]"
   ]
  },
  {
   "cell_type": "markdown",
   "metadata": {},
   "source": [
    "- 모든 요일에 남자의 구매가 높으므로 조명기기,아웃도어 및 레저용품,장난감,커피,헬스음식,화장품,속옷이나 실내복,악세사리,술 등의 프로모션을 협력사와 추진하여 경쟁력있는 가격으로 제공해야한다.\n",
    "- 일요일에는 여성의 총 구매금액이 올라가므로 일요일에 주방조리도구나, 레트로트식품,곡물,여성복,화장품,해산물 등을 집중적으로 프로모션하는 것이 효과가 좋을 것으로 판단된다."
   ]
  },
  {
   "cell_type": "markdown",
   "metadata": {},
   "source": [
    "#### 나이대별 총결제금액의 평균"
   ]
  },
  {
   "cell_type": "code",
   "execution_count": 62,
   "metadata": {
    "scrolled": false
   },
   "outputs": [
    {
     "data": {
      "text/html": [
       "<div>\n",
       "<style scoped>\n",
       "    .dataframe tbody tr th:only-of-type {\n",
       "        vertical-align: middle;\n",
       "    }\n",
       "\n",
       "    .dataframe tbody tr th {\n",
       "        vertical-align: top;\n",
       "    }\n",
       "\n",
       "    .dataframe thead th {\n",
       "        text-align: right;\n",
       "    }\n",
       "</style>\n",
       "<table border=\"1\" class=\"dataframe\">\n",
       "  <thead>\n",
       "    <tr style=\"text-align: right;\">\n",
       "      <th></th>\n",
       "      <th>age</th>\n",
       "      <th>상품중분류</th>\n",
       "      <th>ltr</th>\n",
       "    </tr>\n",
       "  </thead>\n",
       "  <tbody>\n",
       "    <tr>\n",
       "      <th>0</th>\n",
       "      <td>40</td>\n",
       "      <td>Sprits / Liquors</td>\n",
       "      <td>4.778827e+09</td>\n",
       "    </tr>\n",
       "    <tr>\n",
       "      <th>1</th>\n",
       "      <td>40</td>\n",
       "      <td>Snack Sets</td>\n",
       "      <td>1.755680e+09</td>\n",
       "    </tr>\n",
       "    <tr>\n",
       "      <th>2</th>\n",
       "      <td>40</td>\n",
       "      <td>Canned Food Gift Sets</td>\n",
       "      <td>1.436855e+09</td>\n",
       "    </tr>\n",
       "    <tr>\n",
       "      <th>3</th>\n",
       "      <td>30</td>\n",
       "      <td>Coffee Sets and Tea Sets</td>\n",
       "      <td>1.416474e+09</td>\n",
       "    </tr>\n",
       "    <tr>\n",
       "      <th>4</th>\n",
       "      <td>40</td>\n",
       "      <td>Dried Sea Food Gift Sets</td>\n",
       "      <td>1.359140e+09</td>\n",
       "    </tr>\n",
       "    <tr>\n",
       "      <th>...</th>\n",
       "      <td>...</td>\n",
       "      <td>...</td>\n",
       "      <td>...</td>\n",
       "    </tr>\n",
       "    <tr>\n",
       "      <th>1563</th>\n",
       "      <td>20</td>\n",
       "      <td>Office / Student's Furniture</td>\n",
       "      <td>1.976000e+04</td>\n",
       "    </tr>\n",
       "    <tr>\n",
       "      <th>1564</th>\n",
       "      <td>30</td>\n",
       "      <td>Other Furniture</td>\n",
       "      <td>1.718000e+04</td>\n",
       "    </tr>\n",
       "    <tr>\n",
       "      <th>1565</th>\n",
       "      <td>10</td>\n",
       "      <td>Sport Accessories</td>\n",
       "      <td>1.242000e+04</td>\n",
       "    </tr>\n",
       "    <tr>\n",
       "      <th>1566</th>\n",
       "      <td>10</td>\n",
       "      <td>Pies</td>\n",
       "      <td>8.390000e+03</td>\n",
       "    </tr>\n",
       "    <tr>\n",
       "      <th>1567</th>\n",
       "      <td>20</td>\n",
       "      <td>Mobile Gift Cards</td>\n",
       "      <td>7.200000e+03</td>\n",
       "    </tr>\n",
       "  </tbody>\n",
       "</table>\n",
       "<p>1568 rows × 3 columns</p>\n",
       "</div>"
      ],
      "text/plain": [
       "     age                         상품중분류           ltr\n",
       "0     40              Sprits / Liquors  4.778827e+09\n",
       "1     40                    Snack Sets  1.755680e+09\n",
       "2     40         Canned Food Gift Sets  1.436855e+09\n",
       "3     30      Coffee Sets and Tea Sets  1.416474e+09\n",
       "4     40      Dried Sea Food Gift Sets  1.359140e+09\n",
       "...   ..                           ...           ...\n",
       "1563  20  Office / Student's Furniture  1.976000e+04\n",
       "1564  30               Other Furniture  1.718000e+04\n",
       "1565  10             Sport Accessories  1.242000e+04\n",
       "1566  10                          Pies  8.390000e+03\n",
       "1567  20             Mobile Gift Cards  7.200000e+03\n",
       "\n",
       "[1568 rows x 3 columns]"
      ]
     },
     "execution_count": 62,
     "metadata": {},
     "output_type": "execute_result"
    }
   ],
   "source": [
    "age_cus=customer.loc[:,['clnt_id','age','상품중분류','ltr']].drop_duplicates().groupby(['age','상품중분류'])['ltr'].mean().sort_values(ascending=False).reset_index()\n",
    "gd_goods_cus\n",
    "age_cus"
   ]
  },
  {
   "cell_type": "code",
   "execution_count": 63,
   "metadata": {},
   "outputs": [
    {
     "data": {
      "text/plain": [
       "Text(0.5, 1.0, '나이대별 총결제금액의 평균')"
      ]
     },
     "execution_count": 63,
     "metadata": {},
     "output_type": "execute_result"
    },
    {
     "data": {
      "image/png": "[encoded data removed]",
      "text/plain": [
       "<Figure size 432x288 with 1 Axes>"
      ]
     },
     "metadata": {
      "needs_background": "light"
     },
     "output_type": "display_data"
    }
   ],
   "source": [
    "sns.barplot(x='age',y='ltr',data=age_cus.reset_index())\n",
    "plt.title(\"나이대별 총결제금액의 평균\")"
   ]
  },
  {
   "cell_type": "code",
   "execution_count": 64,
   "metadata": {},
   "outputs": [
    {
     "data": {
      "text/html": [
       "<div>\n",
       "<style scoped>\n",
       "    .dataframe tbody tr th:only-of-type {\n",
       "        vertical-align: middle;\n",
       "    }\n",
       "\n",
       "    .dataframe tbody tr th {\n",
       "        vertical-align: top;\n",
       "    }\n",
       "\n",
       "    .dataframe thead th {\n",
       "        text-align: right;\n",
       "    }\n",
       "</style>\n",
       "<table border=\"1\" class=\"dataframe\">\n",
       "  <thead>\n",
       "    <tr style=\"text-align: right;\">\n",
       "      <th></th>\n",
       "      <th>age</th>\n",
       "      <th>상품중분류</th>\n",
       "      <th>ltr</th>\n",
       "    </tr>\n",
       "  </thead>\n",
       "  <tbody>\n",
       "    <tr>\n",
       "      <th>0</th>\n",
       "      <td>40</td>\n",
       "      <td>Sprits / Liquors</td>\n",
       "      <td>4.778827e+09</td>\n",
       "    </tr>\n",
       "    <tr>\n",
       "      <th>1</th>\n",
       "      <td>40</td>\n",
       "      <td>Snack Sets</td>\n",
       "      <td>1.755680e+09</td>\n",
       "    </tr>\n",
       "    <tr>\n",
       "      <th>2</th>\n",
       "      <td>40</td>\n",
       "      <td>Canned Food Gift Sets</td>\n",
       "      <td>1.436855e+09</td>\n",
       "    </tr>\n",
       "    <tr>\n",
       "      <th>4</th>\n",
       "      <td>40</td>\n",
       "      <td>Dried Sea Food Gift Sets</td>\n",
       "      <td>1.359140e+09</td>\n",
       "    </tr>\n",
       "    <tr>\n",
       "      <th>5</th>\n",
       "      <td>40</td>\n",
       "      <td>Health Extracts</td>\n",
       "      <td>1.335787e+09</td>\n",
       "    </tr>\n",
       "    <tr>\n",
       "      <th>6</th>\n",
       "      <td>40</td>\n",
       "      <td>Cooked Side Dishes</td>\n",
       "      <td>9.726213e+08</td>\n",
       "    </tr>\n",
       "    <tr>\n",
       "      <th>9</th>\n",
       "      <td>40</td>\n",
       "      <td>Wine</td>\n",
       "      <td>7.497112e+08</td>\n",
       "    </tr>\n",
       "    <tr>\n",
       "      <th>10</th>\n",
       "      <td>40</td>\n",
       "      <td>Tableware</td>\n",
       "      <td>6.236951e+08</td>\n",
       "    </tr>\n",
       "    <tr>\n",
       "      <th>12</th>\n",
       "      <td>40</td>\n",
       "      <td>Dietary Supplements</td>\n",
       "      <td>5.973588e+08</td>\n",
       "    </tr>\n",
       "    <tr>\n",
       "      <th>15</th>\n",
       "      <td>40</td>\n",
       "      <td>Coffee Sets and Tea Sets</td>\n",
       "      <td>5.190684e+08</td>\n",
       "    </tr>\n",
       "  </tbody>\n",
       "</table>\n",
       "</div>"
      ],
      "text/plain": [
       "   age                     상품중분류           ltr\n",
       "0   40          Sprits / Liquors  4.778827e+09\n",
       "1   40                Snack Sets  1.755680e+09\n",
       "2   40     Canned Food Gift Sets  1.436855e+09\n",
       "4   40  Dried Sea Food Gift Sets  1.359140e+09\n",
       "5   40           Health Extracts  1.335787e+09\n",
       "6   40        Cooked Side Dishes  9.726213e+08\n",
       "9   40                      Wine  7.497112e+08\n",
       "10  40                 Tableware  6.236951e+08\n",
       "12  40       Dietary Supplements  5.973588e+08\n",
       "15  40  Coffee Sets and Tea Sets  5.190684e+08"
      ]
     },
     "execution_count": 64,
     "metadata": {},
     "output_type": "execute_result"
    }
   ],
   "source": [
    "age_cus.query(\"age=='40'\").sort_values(by='ltr',ascending=False).iloc[:10,:]"
   ]
  },
  {
   "cell_type": "code",
   "execution_count": 65,
   "metadata": {},
   "outputs": [
    {
     "data": {
      "text/html": [
       "<div>\n",
       "<style scoped>\n",
       "    .dataframe tbody tr th:only-of-type {\n",
       "        vertical-align: middle;\n",
       "    }\n",
       "\n",
       "    .dataframe tbody tr th {\n",
       "        vertical-align: top;\n",
       "    }\n",
       "\n",
       "    .dataframe thead th {\n",
       "        text-align: right;\n",
       "    }\n",
       "</style>\n",
       "<table border=\"1\" class=\"dataframe\">\n",
       "  <thead>\n",
       "    <tr style=\"text-align: right;\">\n",
       "      <th></th>\n",
       "      <th>age</th>\n",
       "      <th>상품중분류</th>\n",
       "      <th>ltr</th>\n",
       "    </tr>\n",
       "  </thead>\n",
       "  <tbody>\n",
       "    <tr>\n",
       "      <th>3</th>\n",
       "      <td>30</td>\n",
       "      <td>Coffee Sets and Tea Sets</td>\n",
       "      <td>1.416474e+09</td>\n",
       "    </tr>\n",
       "    <tr>\n",
       "      <th>7</th>\n",
       "      <td>30</td>\n",
       "      <td>Fruit Gift Sets</td>\n",
       "      <td>8.790063e+08</td>\n",
       "    </tr>\n",
       "    <tr>\n",
       "      <th>8</th>\n",
       "      <td>30</td>\n",
       "      <td>Canned Food Gift Sets</td>\n",
       "      <td>7.803667e+08</td>\n",
       "    </tr>\n",
       "    <tr>\n",
       "      <th>11</th>\n",
       "      <td>30</td>\n",
       "      <td>Red Ginsengs / Dried Ginseng Processed Foods</td>\n",
       "      <td>6.158127e+08</td>\n",
       "    </tr>\n",
       "    <tr>\n",
       "      <th>13</th>\n",
       "      <td>30</td>\n",
       "      <td>Snack Sets</td>\n",
       "      <td>5.677927e+08</td>\n",
       "    </tr>\n",
       "    <tr>\n",
       "      <th>14</th>\n",
       "      <td>30</td>\n",
       "      <td>Dried Fruits</td>\n",
       "      <td>5.513502e+08</td>\n",
       "    </tr>\n",
       "    <tr>\n",
       "      <th>17</th>\n",
       "      <td>30</td>\n",
       "      <td>Kids' Socks and Hosiery</td>\n",
       "      <td>4.102483e+08</td>\n",
       "    </tr>\n",
       "    <tr>\n",
       "      <th>27</th>\n",
       "      <td>30</td>\n",
       "      <td>Camping</td>\n",
       "      <td>3.085008e+08</td>\n",
       "    </tr>\n",
       "    <tr>\n",
       "      <th>30</th>\n",
       "      <td>30</td>\n",
       "      <td>Women's Shoes</td>\n",
       "      <td>2.828413e+08</td>\n",
       "    </tr>\n",
       "    <tr>\n",
       "      <th>33</th>\n",
       "      <td>30</td>\n",
       "      <td>Outdoor / Sports Toys</td>\n",
       "      <td>2.014973e+08</td>\n",
       "    </tr>\n",
       "  </tbody>\n",
       "</table>\n",
       "</div>"
      ],
      "text/plain": [
       "   age                                         상품중분류           ltr\n",
       "3   30                      Coffee Sets and Tea Sets  1.416474e+09\n",
       "7   30                               Fruit Gift Sets  8.790063e+08\n",
       "8   30                         Canned Food Gift Sets  7.803667e+08\n",
       "11  30  Red Ginsengs / Dried Ginseng Processed Foods  6.158127e+08\n",
       "13  30                                    Snack Sets  5.677927e+08\n",
       "14  30                                  Dried Fruits  5.513502e+08\n",
       "17  30                       Kids' Socks and Hosiery  4.102483e+08\n",
       "27  30                                       Camping  3.085008e+08\n",
       "30  30                                 Women's Shoes  2.828413e+08\n",
       "33  30                         Outdoor / Sports Toys  2.014973e+08"
      ]
     },
     "execution_count": 65,
     "metadata": {},
     "output_type": "execute_result"
    }
   ],
   "source": [
    "age_cus.query(\"age=='30'\").sort_values(by='ltr',ascending=False).iloc[:10,:]"
   ]
  },
  {
   "cell_type": "markdown",
   "metadata": {},
   "source": [
    "- 평균적으로 보면 40대의 고객이 LTR이 앞도적으로 높고 30대가 그 다음이며 10대와 20대는 미미하다.\n",
    "- 그러므로 마케팅을 주로 30~40대, 그중 특히 40대에 집중할 필요가 있다.\n",
    "- 40대가 총결제금액 기준으로 가장 선호하는 제품은 증류주,스낵세트,캔음식선물세트,건오징어나 건멸치선물세트,건강즙 등이 있으므로\n",
    "    해당 제품에 집중하여 프로모션을 진행한다.\n",
    "- 30대의 경우에는 커피와 차세트를 위주로 프로모션을 진행하는데 위에서 성별 선호 품목에도 커피가 있었으므로 롯데에서는 어느 정도 마진을 낮추더라도 커피를 공격적으로 판매하여 고객들의 리텐션을 올릴 필요가 있다."
   ]
  },
  {
   "cell_type": "code",
   "execution_count": 66,
   "metadata": {},
   "outputs": [],
   "source": [
    "online_info=pd.merge(customer,online_info.loc[:,['clnt_id','trfc_src']].drop_duplicates(),on='clnt_id',how='inner')"
   ]
  },
  {
   "cell_type": "code",
   "execution_count": 67,
   "metadata": {},
   "outputs": [
    {
     "data": {
      "text/html": [
       "<div>\n",
       "<style scoped>\n",
       "    .dataframe tbody tr th:only-of-type {\n",
       "        vertical-align: middle;\n",
       "    }\n",
       "\n",
       "    .dataframe tbody tr th {\n",
       "        vertical-align: top;\n",
       "    }\n",
       "\n",
       "    .dataframe thead th {\n",
       "        text-align: right;\n",
       "    }\n",
       "</style>\n",
       "<table border=\"1\" class=\"dataframe\">\n",
       "  <thead>\n",
       "    <tr style=\"text-align: right;\">\n",
       "      <th></th>\n",
       "      <th>clnt_id</th>\n",
       "      <th>성별</th>\n",
       "      <th>age</th>\n",
       "      <th>trans_id</th>\n",
       "      <th>거래일련번호</th>\n",
       "      <th>biz_unit</th>\n",
       "      <th>pd_c</th>\n",
       "      <th>구매일자</th>\n",
       "      <th>구매시각</th>\n",
       "      <th>구매금액</th>\n",
       "      <th>구매수량</th>\n",
       "      <th>상품대분류</th>\n",
       "      <th>상품중분류</th>\n",
       "      <th>총구매금액</th>\n",
       "      <th>ltr</th>\n",
       "      <th>ltr_rank</th>\n",
       "      <th>요일</th>\n",
       "      <th>trfc_src</th>\n",
       "    </tr>\n",
       "  </thead>\n",
       "  <tbody>\n",
       "    <tr>\n",
       "      <th>0</th>\n",
       "      <td>50600</td>\n",
       "      <td>F</td>\n",
       "      <td>40</td>\n",
       "      <td>143218</td>\n",
       "      <td>1</td>\n",
       "      <td>B01</td>\n",
       "      <td>352.0</td>\n",
       "      <td>2019-07-04</td>\n",
       "      <td>18:52</td>\n",
       "      <td>13400</td>\n",
       "      <td>5</td>\n",
       "      <td>Dairy Products</td>\n",
       "      <td>Processed Milk</td>\n",
       "      <td>67000</td>\n",
       "      <td>100015896647</td>\n",
       "      <td>1</td>\n",
       "      <td>Thursday</td>\n",
       "      <td>DIRECT</td>\n",
       "    </tr>\n",
       "    <tr>\n",
       "      <th>1</th>\n",
       "      <td>50600</td>\n",
       "      <td>F</td>\n",
       "      <td>40</td>\n",
       "      <td>143433</td>\n",
       "      <td>4</td>\n",
       "      <td>B01</td>\n",
       "      <td>522.0</td>\n",
       "      <td>2019-09-09</td>\n",
       "      <td>22:20</td>\n",
       "      <td>7160</td>\n",
       "      <td>2</td>\n",
       "      <td>Frozen Foods</td>\n",
       "      <td>Frozen Instant Foods</td>\n",
       "      <td>14320</td>\n",
       "      <td>100015896647</td>\n",
       "      <td>1</td>\n",
       "      <td>Monday</td>\n",
       "      <td>DIRECT</td>\n",
       "    </tr>\n",
       "    <tr>\n",
       "      <th>2</th>\n",
       "      <td>50600</td>\n",
       "      <td>F</td>\n",
       "      <td>40</td>\n",
       "      <td>143325</td>\n",
       "      <td>8</td>\n",
       "      <td>B01</td>\n",
       "      <td>278.0</td>\n",
       "      <td>2019-08-09</td>\n",
       "      <td>22:16</td>\n",
       "      <td>1700</td>\n",
       "      <td>1</td>\n",
       "      <td>Cooked Foods</td>\n",
       "      <td>Chilled Snacks</td>\n",
       "      <td>1700</td>\n",
       "      <td>100015896647</td>\n",
       "      <td>1</td>\n",
       "      <td>Friday</td>\n",
       "      <td>DIRECT</td>\n",
       "    </tr>\n",
       "    <tr>\n",
       "      <th>3</th>\n",
       "      <td>50600</td>\n",
       "      <td>F</td>\n",
       "      <td>40</td>\n",
       "      <td>143280</td>\n",
       "      <td>9</td>\n",
       "      <td>B01</td>\n",
       "      <td>668.0</td>\n",
       "      <td>2019-07-25</td>\n",
       "      <td>15:33</td>\n",
       "      <td>1780</td>\n",
       "      <td>1</td>\n",
       "      <td>Grains</td>\n",
       "      <td>Rice</td>\n",
       "      <td>1780</td>\n",
       "      <td>100015896647</td>\n",
       "      <td>1</td>\n",
       "      <td>Thursday</td>\n",
       "      <td>DIRECT</td>\n",
       "    </tr>\n",
       "    <tr>\n",
       "      <th>4</th>\n",
       "      <td>50600</td>\n",
       "      <td>F</td>\n",
       "      <td>40</td>\n",
       "      <td>143280</td>\n",
       "      <td>8</td>\n",
       "      <td>B01</td>\n",
       "      <td>668.0</td>\n",
       "      <td>2019-07-25</td>\n",
       "      <td>15:33</td>\n",
       "      <td>1780</td>\n",
       "      <td>1</td>\n",
       "      <td>Grains</td>\n",
       "      <td>Rice</td>\n",
       "      <td>1780</td>\n",
       "      <td>100015896647</td>\n",
       "      <td>1</td>\n",
       "      <td>Thursday</td>\n",
       "      <td>DIRECT</td>\n",
       "    </tr>\n",
       "    <tr>\n",
       "      <th>...</th>\n",
       "      <td>...</td>\n",
       "      <td>...</td>\n",
       "      <td>...</td>\n",
       "      <td>...</td>\n",
       "      <td>...</td>\n",
       "      <td>...</td>\n",
       "      <td>...</td>\n",
       "      <td>...</td>\n",
       "      <td>...</td>\n",
       "      <td>...</td>\n",
       "      <td>...</td>\n",
       "      <td>...</td>\n",
       "      <td>...</td>\n",
       "      <td>...</td>\n",
       "      <td>...</td>\n",
       "      <td>...</td>\n",
       "      <td>...</td>\n",
       "      <td>...</td>\n",
       "    </tr>\n",
       "    <tr>\n",
       "      <th>787389</th>\n",
       "      <td>59321</td>\n",
       "      <td>M</td>\n",
       "      <td>40</td>\n",
       "      <td>46995</td>\n",
       "      <td>3</td>\n",
       "      <td>A03</td>\n",
       "      <td>177.0</td>\n",
       "      <td>2019-07-13</td>\n",
       "      <td>00:50</td>\n",
       "      <td>0</td>\n",
       "      <td>0</td>\n",
       "      <td>Chilled Foods</td>\n",
       "      <td>Chilled Instant Foods</td>\n",
       "      <td>0</td>\n",
       "      <td>0</td>\n",
       "      <td>11269</td>\n",
       "      <td>Saturday</td>\n",
       "      <td>DIRECT</td>\n",
       "    </tr>\n",
       "    <tr>\n",
       "      <th>787390</th>\n",
       "      <td>59321</td>\n",
       "      <td>M</td>\n",
       "      <td>40</td>\n",
       "      <td>46995</td>\n",
       "      <td>1</td>\n",
       "      <td>A03</td>\n",
       "      <td>105.0</td>\n",
       "      <td>2019-07-13</td>\n",
       "      <td>00:50</td>\n",
       "      <td>0</td>\n",
       "      <td>0</td>\n",
       "      <td>Beverages</td>\n",
       "      <td>Functional Drinks</td>\n",
       "      <td>0</td>\n",
       "      <td>0</td>\n",
       "      <td>11269</td>\n",
       "      <td>Saturday</td>\n",
       "      <td>DIRECT</td>\n",
       "    </tr>\n",
       "    <tr>\n",
       "      <th>787391</th>\n",
       "      <td>59321</td>\n",
       "      <td>M</td>\n",
       "      <td>40</td>\n",
       "      <td>46995</td>\n",
       "      <td>2</td>\n",
       "      <td>A03</td>\n",
       "      <td>1215.0</td>\n",
       "      <td>2019-07-13</td>\n",
       "      <td>00:50</td>\n",
       "      <td>0</td>\n",
       "      <td>0</td>\n",
       "      <td>Snack Foods</td>\n",
       "      <td>Snacks</td>\n",
       "      <td>0</td>\n",
       "      <td>0</td>\n",
       "      <td>11269</td>\n",
       "      <td>Saturday</td>\n",
       "      <td>DIRECT</td>\n",
       "    </tr>\n",
       "    <tr>\n",
       "      <th>787392</th>\n",
       "      <td>59282</td>\n",
       "      <td>F</td>\n",
       "      <td>40</td>\n",
       "      <td>56592</td>\n",
       "      <td>1</td>\n",
       "      <td>A02</td>\n",
       "      <td>513.0</td>\n",
       "      <td>2019-07-21</td>\n",
       "      <td>08:45</td>\n",
       "      <td>0</td>\n",
       "      <td>1</td>\n",
       "      <td>Finance / Insurance Service</td>\n",
       "      <td>Insurance Services</td>\n",
       "      <td>0</td>\n",
       "      <td>0</td>\n",
       "      <td>11270</td>\n",
       "      <td>Sunday</td>\n",
       "      <td>unknown</td>\n",
       "    </tr>\n",
       "    <tr>\n",
       "      <th>787393</th>\n",
       "      <td>39693</td>\n",
       "      <td>F</td>\n",
       "      <td>40</td>\n",
       "      <td>59923</td>\n",
       "      <td>1</td>\n",
       "      <td>A02</td>\n",
       "      <td>913.0</td>\n",
       "      <td>2019-07-25</td>\n",
       "      <td>23:04</td>\n",
       "      <td>0</td>\n",
       "      <td>1</td>\n",
       "      <td>Living / Rental Services</td>\n",
       "      <td>Living Services</td>\n",
       "      <td>0</td>\n",
       "      <td>0</td>\n",
       "      <td>11271</td>\n",
       "      <td>Thursday</td>\n",
       "      <td>unknown</td>\n",
       "    </tr>\n",
       "  </tbody>\n",
       "</table>\n",
       "<p>787394 rows × 18 columns</p>\n",
       "</div>"
      ],
      "text/plain": [
       "        clnt_id 성별 age  trans_id  거래일련번호 biz_unit    pd_c       구매일자   구매시각  \\\n",
       "0         50600  F  40    143218       1      B01   352.0 2019-07-04  18:52   \n",
       "1         50600  F  40    143433       4      B01   522.0 2019-09-09  22:20   \n",
       "2         50600  F  40    143325       8      B01   278.0 2019-08-09  22:16   \n",
       "3         50600  F  40    143280       9      B01   668.0 2019-07-25  15:33   \n",
       "4         50600  F  40    143280       8      B01   668.0 2019-07-25  15:33   \n",
       "...         ... ..  ..       ...     ...      ...     ...        ...    ...   \n",
       "787389    59321  M  40     46995       3      A03   177.0 2019-07-13  00:50   \n",
       "787390    59321  M  40     46995       1      A03   105.0 2019-07-13  00:50   \n",
       "787391    59321  M  40     46995       2      A03  1215.0 2019-07-13  00:50   \n",
       "787392    59282  F  40     56592       1      A02   513.0 2019-07-21  08:45   \n",
       "787393    39693  F  40     59923       1      A02   913.0 2019-07-25  23:04   \n",
       "\n",
       "         구매금액  구매수량                        상품대분류                  상품중분류  \\\n",
       "0       13400     5               Dairy Products         Processed Milk   \n",
       "1        7160     2                 Frozen Foods   Frozen Instant Foods   \n",
       "2        1700     1                 Cooked Foods         Chilled Snacks   \n",
       "3        1780     1                       Grains                   Rice   \n",
       "4        1780     1                       Grains                   Rice   \n",
       "...       ...   ...                          ...                    ...   \n",
       "787389      0     0                Chilled Foods  Chilled Instant Foods   \n",
       "787390      0     0                    Beverages      Functional Drinks   \n",
       "787391      0     0                  Snack Foods                 Snacks   \n",
       "787392      0     1  Finance / Insurance Service     Insurance Services   \n",
       "787393      0     1     Living / Rental Services        Living Services   \n",
       "\n",
       "        총구매금액           ltr  ltr_rank        요일 trfc_src  \n",
       "0       67000  100015896647         1  Thursday   DIRECT  \n",
       "1       14320  100015896647         1    Monday   DIRECT  \n",
       "2        1700  100015896647         1    Friday   DIRECT  \n",
       "3        1780  100015896647         1  Thursday   DIRECT  \n",
       "4        1780  100015896647         1  Thursday   DIRECT  \n",
       "...       ...           ...       ...       ...      ...  \n",
       "787389      0             0     11269  Saturday   DIRECT  \n",
       "787390      0             0     11269  Saturday   DIRECT  \n",
       "787391      0             0     11269  Saturday   DIRECT  \n",
       "787392      0             0     11270    Sunday  unknown  \n",
       "787393      0             0     11271  Thursday  unknown  \n",
       "\n",
       "[787394 rows x 18 columns]"
      ]
     },
     "execution_count": 67,
     "metadata": {},
     "output_type": "execute_result"
    }
   ],
   "source": [
    "online_info"
   ]
  },
  {
   "cell_type": "code",
   "execution_count": 68,
   "metadata": {},
   "outputs": [
    {
     "data": {
      "text/plain": [
       "<matplotlib.axes._subplots.AxesSubplot at 0x2247b223dc8>"
      ]
     },
     "execution_count": 68,
     "metadata": {},
     "output_type": "execute_result"
    },
    {
     "data": {
      "image/png": "[encoded data removed]",
      "text/plain": [
       "<Figure size 432x288 with 1 Axes>"
      ]
     },
     "metadata": {
      "needs_background": "light"
     },
     "output_type": "display_data"
    }
   ],
   "source": [
    "sns.barplot(x='trfc_src',y='ltr',data=online_info.groupby('trfc_src')['ltr'].mean().reset_index())"
   ]
  },
  {
   "cell_type": "markdown",
   "metadata": {},
   "source": [
    "- 고객유입채널이 Portal_2 > direct > website>portal_3 순으로 사용자별 결제총금액의 평균이 높고 push나 portal_1으로  \n",
    "    유입된 고객은 총결제금액이 미미하다."
   ]
  },
  {
   "cell_type": "markdown",
   "metadata": {},
   "source": [
    "###  3) Action Plan 도출\n",
    "    a) 접속 경로는 모바일이 70%나 되고 제품별 상세보기 화면이 모든 접속경로에서 상위권에 속할 정도로 꼭 지나가는 화면으로 추천 시스템구현으로 상품추천은 상세보기 화면에서 이루어져야 할 것이다.\n",
    "    b) 퍼널 시각화를 통해 결제시도에 비해 비정상적으로 결제완료가 적은 것을 확인했으므로, 결제 시도 화면에서 UI/UX나 시스템 속도적인 측면등 여러 측면에서 어떤 문제점이 있는지 파악한다.\n",
    "    c) 사용자별 총 결제금액의 평균기준으로 남자 고객이 여자 고객에 비해 훨씬 결제금액이 높으므로 남성 고객이 선호하는 상품(조명기구 등)을 기준으로 주로 마케팅을 진행하며, 여성이 주로 선호하는 상품(주방도구 등)은 일요일에 프로모션을 진행한다.\n",
    "    d) 나이대로는 40대~ 30대 까지를 주로 타겟팅하여 프로모션을 진행한다.증류주와 통조림선물세트는 프로모션 효과가 좋을 것이다.\n",
    "    e) push는 생각보다 효과가 없고 짜증만 일으킬 수 있어서 push 프로모션은 자제하고, portal_2이 디자인이나 고객 편이성등에서 포탈1과 3의 디자인과 고객편의성과 어떤점에서 차이가 나는지 파악하여 포탈1과 3을 개선한다.\n"
   ]
  }
 ],
 "metadata": {
  "kernelspec": {
   "display_name": "Python 3",
   "language": "python",
   "name": "python3"
  },
  "language_info": {
   "codemirror_mode": {
    "name": "ipython",
    "version": 3
   },
   "file_extension": ".py",
   "mimetype": "text/x-python",
   "name": "python",
   "nbconvert_exporter": "python",
   "pygments_lexer": "ipython3",
   "version": "3.7.4"
  }
 },
 "nbformat": 4,
 "nbformat_minor": 2
}
