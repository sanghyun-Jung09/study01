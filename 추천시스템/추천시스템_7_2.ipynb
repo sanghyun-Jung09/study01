{
 "cells": [
  {
   "cell_type": "markdown",
   "metadata": {},
   "source": [
    "### 하이브리드 추천 시스템\n",
    " 복수의 알고리즘을 결합 하는 경우 한 알고리즘은 다른 알고리즘의 오류를 보정하는 역할을 하는 경우가 많기 때문에 더 정확한 경우가 많다."
   ]
  },
  {
   "cell_type": "code",
   "execution_count": 1,
   "metadata": {},
   "outputs": [],
   "source": [
    "import numpy as np\n",
    "import pandas as pd\n",
    "import random\n",
    "from sklearn.utils import shuffle\n",
    "\n",
    "# csv 파일에서 불러오기\n",
    "r_cols = ['user_id', 'movie_id', 'rating', 'timestamp']\n",
    "ratings = pd.read_csv('u.data', names=r_cols,  sep='\\t',encoding='latin-1')\n",
    "ratings = ratings[['user_id', 'movie_id', 'rating']].astype(int)            # timestamp 제거\n",
    "\n",
    "# train test 분리\n",
    "TRAIN_SIZE = 0.75\n",
    "ratings = shuffle(ratings, random_state=1)\n",
    "cutoff = int(TRAIN_SIZE * len(ratings))\n",
    "ratings_train = ratings.iloc[:cutoff]\n",
    "ratings_test = ratings.iloc[cutoff:]\n",
    "\n",
    "# RMSE 계산을 위한 함수\n",
    "def RMSE2(y_true, y_pred):\n",
    "    return np.sqrt(np.mean((np.array(y_true) - np.array(y_pred))**2))"
   ]
  },
  {
   "cell_type": "code",
   "execution_count": 2,
   "metadata": {},
   "outputs": [],
   "source": [
    "# Dummy recommender 0\n",
    "def recommender0(recomm_list):\n",
    "    recommendations = []\n",
    "    for pair in recomm_list:\n",
    "        recommendations.append(random.random() * 4 + 1)\n",
    "    return np.array(recommendations)\n",
    "\n",
    "# Dummy recommender 1\n",
    "def recommender1(recomm_list):\n",
    "    recommendations = []\n",
    "    for pair in recomm_list:\n",
    "        recommendations.append(random.random() * 4 + 1)\n",
    "    return np.array(recommendations)"
   ]
  },
  {
   "cell_type": "markdown",
   "metadata": {},
   "source": [
    "- 하이브리드 결과 얻기"
   ]
  },
  {
   "cell_type": "code",
   "execution_count": 3,
   "metadata": {},
   "outputs": [
    {
     "data": {
      "text/plain": [
       "1.5666468625795054"
      ]
     },
     "execution_count": 3,
     "metadata": {},
     "output_type": "execute_result"
    }
   ],
   "source": [
    "weight = [0.8, 0.2]\n",
    "recomm_list = np.array(ratings_test)\n",
    "predictions0 = recommender0(recomm_list)\n",
    "predictions1 = recommender1(recomm_list)\n",
    "predictions = predictions0 * weight[0] + predictions1 * weight[1]\n",
    "RMSE2(recomm_list[:, 2], predictions)"
   ]
  },
  {
   "cell_type": "markdown",
   "metadata": {},
   "source": [
    "- CF 추천 알고리즘"
   ]
  },
  {
   "cell_type": "code",
   "execution_count": 4,
   "metadata": {},
   "outputs": [],
   "source": [
    "rating_matrix = ratings_train.pivot(index='user_id', columns='movie_id', values='rating')\n",
    "\n",
    "# train set 사용자들의 Cosine similarities 계산\n",
    "from sklearn.metrics.pairwise import cosine_similarity\n",
    "matrix_dummy = rating_matrix.copy().fillna(0)\n",
    "user_similarity = cosine_similarity(matrix_dummy, matrix_dummy)\n",
    "user_similarity = pd.DataFrame(user_similarity, index=rating_matrix.index, columns=rating_matrix.index)\n",
    "\n",
    "# train 데이터의 user의 rating 평균과 영화의 평점편차 계산 \n",
    "rating_mean = rating_matrix.mean(axis=1)\n",
    "rating_bias = (rating_matrix.T - rating_mean).T"
   ]
  },
  {
   "cell_type": "markdown",
   "metadata": {},
   "source": [
    "- train 데이터의 user의 rating 평균과 영화의 평점편차 계산 "
   ]
  },
  {
   "cell_type": "code",
   "execution_count": 5,
   "metadata": {},
   "outputs": [],
   "source": [
    "rating_mean = rating_matrix.mean(axis=1)\n",
    "rating_bias = (rating_matrix.T - rating_mean).T"
   ]
  },
  {
   "cell_type": "markdown",
   "metadata": {},
   "source": [
    "- cf 추천 알고리즘"
   ]
  },
  {
   "cell_type": "code",
   "execution_count": 6,
   "metadata": {},
   "outputs": [],
   "source": [
    "def CF_knn_bias(user_id, movie_id, neighbor_size=0):\n",
    "    if movie_id in rating_bias:\n",
    "        sim_scores = user_similarity[user_id]\n",
    "        movie_ratings = rating_bias[movie_id]\n",
    "        none_rating_idx = movie_ratings[movie_ratings.isnull()].index\n",
    "        movie_ratings = movie_ratings.drop(none_rating_idx)\n",
    "        sim_scores = sim_scores.drop(none_rating_idx)\n",
    "        if neighbor_size == 0:\n",
    "            prediction = np.dot(sim_scores, movie_ratings) / sim_scores.sum()\n",
    "            prediction = prediction + rating_mean[user_id]\n",
    "        else:\n",
    "            if len(sim_scores) > 1:\n",
    "                neighbor_size = min(neighbor_size, len(sim_scores))\n",
    "                sim_scores = np.array(sim_scores)\n",
    "                movie_ratings = np.array(movie_ratings)\n",
    "                user_idx = np.argsort(sim_scores)\n",
    "                sim_scores = sim_scores[user_idx][-neighbor_size:]\n",
    "                movie_ratings = movie_ratings[user_idx][-neighbor_size:]\n",
    "                prediction = np.dot(sim_scores, movie_ratings) / sim_scores.sum()\n",
    "                prediction = prediction + rating_mean[user_id]\n",
    "            else:\n",
    "                prediction = rating_mean[user_id]\n",
    "    else:\n",
    "        prediction = rating_mean[user_id]\n",
    "    return prediction"
   ]
  },
  {
   "cell_type": "markdown",
   "metadata": {},
   "source": [
    "- MF 추천 알고리즘"
   ]
  },
  {
   "cell_type": "code",
   "execution_count": 7,
   "metadata": {},
   "outputs": [],
   "source": [
    "class NEW_MF():\n",
    "    def __init__(self, ratings, K, alpha, beta, iterations, verbose=True):\n",
    "        self.R = np.array(ratings)\n",
    "        item_id_index = []\n",
    "        index_item_id = []\n",
    "        for i, one_id in enumerate(ratings):\n",
    "            item_id_index.append([one_id, i])\n",
    "            index_item_id.append([i, one_id])\n",
    "        self.item_id_index = dict(item_id_index)\n",
    "        self.index_item_id = dict(index_item_id)        \n",
    "        user_id_index = []\n",
    "        index_user_id = []\n",
    "        for i, one_id in enumerate(ratings.T):\n",
    "            user_id_index.append([one_id, i])\n",
    "            index_user_id.append([i, one_id])\n",
    "        self.user_id_index = dict(user_id_index)\n",
    "        self.index_user_id = dict(index_user_id)\n",
    "        self.num_users, self.num_items = np.shape(self.R)\n",
    "        self.K = K\n",
    "        self.alpha = alpha\n",
    "        self.beta = beta\n",
    "        self.iterations = iterations\n",
    "        self.verbose = verbose\n",
    "\n",
    "    # train set의 RMSE 계산\n",
    "    def rmse(self):\n",
    "        xs, ys = self.R.nonzero()\n",
    "        self.predictions = []\n",
    "        self.errors = []\n",
    "        for x, y in zip(xs, ys):\n",
    "            prediction = self.get_prediction(x, y)\n",
    "            self.predictions.append(prediction)\n",
    "            self.errors.append(self.R[x, y] - prediction)\n",
    "        self.predictions = np.array(self.predictions)\n",
    "        self.errors = np.array(self.errors)\n",
    "        return np.sqrt(np.mean(self.errors**2))\n",
    "\n",
    "    # Ratings for user i and item j\n",
    "    def get_prediction(self, i, j):\n",
    "        prediction = self.b + self.b_u[i] + self.b_d[j] + self.P[i, :].dot(self.Q[j, :].T)\n",
    "        return prediction\n",
    "\n",
    "    # Stochastic gradient descent to get optimized P and Q matrix\n",
    "    def sgd(self):\n",
    "        for i, j, r in self.samples:\n",
    "            prediction = self.get_prediction(i, j)\n",
    "            e = (r - prediction)\n",
    "\n",
    "            self.b_u[i] += self.alpha * (e - self.beta * self.b_u[i])\n",
    "            self.b_d[j] += self.alpha * (e - self.beta * self.b_d[j])\n",
    "\n",
    "            self.P[i, :] += self.alpha * (e * self.Q[j, :] - self.beta * self.P[i,:])\n",
    "            self.Q[j, :] += self.alpha * (e * self.P[i, :] - self.beta * self.Q[j,:])\n",
    "\n",
    "    # Test set을 선정\n",
    "    def set_test(self, ratings_test):\n",
    "        test_set = []\n",
    "        for i in range(len(ratings_test)):\n",
    "            x = self.user_id_index[ratings_test.iloc[i, 0]]\n",
    "            y = self.item_id_index[ratings_test.iloc[i, 1]]\n",
    "            z = ratings_test.iloc[i, 2]\n",
    "            test_set.append([x, y, z])\n",
    "            self.R[x, y] = 0                    # Setting test set ratings to 0\n",
    "        self.test_set = test_set\n",
    "        return test_set                         # Return test set\n",
    "\n",
    "    # Test set의 RMSE 계산\n",
    "    def test_rmse(self):\n",
    "        error = 0\n",
    "        for one_set in self.test_set:\n",
    "            predicted = self.get_prediction(one_set[0], one_set[1])\n",
    "            error += pow(one_set[2] - predicted, 2)\n",
    "        return np.sqrt(error/len(self.test_set))\n",
    "\n",
    "    # Training 하면서 test set의 정확도를 계산\n",
    "    def test(self):\n",
    "        # Initializing user-feature and item-feature matrix\n",
    "        self.P = np.random.normal(scale=1./self.K, size=(self.num_users, self.K))\n",
    "        self.Q = np.random.normal(scale=1./self.K, size=(self.num_items, self.K))\n",
    "\n",
    "        # Initializing the bias terms\n",
    "        self.b_u = np.zeros(self.num_users)\n",
    "        self.b_d = np.zeros(self.num_items)\n",
    "        self.b = np.mean(self.R[self.R.nonzero()])\n",
    "\n",
    "        # List of training samples\n",
    "        rows, columns = self.R.nonzero()\n",
    "        self.samples = [(i, j, self.R[i,j]) for i, j in zip(rows, columns)]\n",
    "\n",
    "        # 주어진 반복 횟수에서의 SGD\n",
    "        training_process = []\n",
    "        for i in range(self.iterations):\n",
    "            np.random.shuffle(self.samples)\n",
    "            self.sgd()\n",
    "            rmse1 = self.rmse()\n",
    "            rmse2 = self.test_rmse()\n",
    "            training_process.append((i+1, rmse1, rmse2))\n",
    "            if self.verbose:\n",
    "                if (i+1) % 10 == 0:\n",
    "                    print(\"Iteration: %d ; Train RMSE = %.4f ; Test RMSE = %.4f\" % (i+1, rmse1, rmse2))\n",
    "        return training_process\n",
    "\n",
    "    # Ratings for given user_id and item_id\n",
    "    def get_one_prediction(self, user_id, item_id):\n",
    "        prediction = self.get_prediction(self.user_id_index[user_id], self.item_id_index[item_id])\n",
    "        return prediction\n",
    "\n",
    "    # Full user-movie rating matrix\n",
    "    def full_prediction(self):\n",
    "        return self.b + self.b_u[:,np.newaxis] + self.b_d[np.newaxis,:] + self.P.dot(self.Q.T)\n"
   ]
  },
  {
   "cell_type": "markdown",
   "metadata": {},
   "source": [
    "- MF클래스 생성 및 학습"
   ]
  },
  {
   "cell_type": "code",
   "execution_count": 8,
   "metadata": {},
   "outputs": [
    {
     "name": "stdout",
     "output_type": "stream",
     "text": [
      "Iteration: 10 ; Train RMSE = 0.9664 ; Test RMSE = 0.9834\n",
      "Iteration: 20 ; Train RMSE = 0.9420 ; Test RMSE = 0.9644\n",
      "Iteration: 30 ; Train RMSE = 0.9313 ; Test RMSE = 0.9566\n",
      "Iteration: 40 ; Train RMSE = 0.9253 ; Test RMSE = 0.9524\n",
      "Iteration: 50 ; Train RMSE = 0.9214 ; Test RMSE = 0.9497\n",
      "Iteration: 60 ; Train RMSE = 0.9186 ; Test RMSE = 0.9480\n",
      "Iteration: 70 ; Train RMSE = 0.9165 ; Test RMSE = 0.9468\n",
      "Iteration: 80 ; Train RMSE = 0.9147 ; Test RMSE = 0.9459\n",
      "Iteration: 90 ; Train RMSE = 0.9130 ; Test RMSE = 0.9451\n",
      "Iteration: 100 ; Train RMSE = 0.9111 ; Test RMSE = 0.9444\n",
      "Iteration: 110 ; Train RMSE = 0.9088 ; Test RMSE = 0.9435\n",
      "Iteration: 120 ; Train RMSE = 0.9056 ; Test RMSE = 0.9423\n",
      "Iteration: 130 ; Train RMSE = 0.9010 ; Test RMSE = 0.9405\n",
      "Iteration: 140 ; Train RMSE = 0.8946 ; Test RMSE = 0.9380\n",
      "Iteration: 150 ; Train RMSE = 0.8859 ; Test RMSE = 0.9348\n",
      "Iteration: 160 ; Train RMSE = 0.8753 ; Test RMSE = 0.9311\n",
      "Iteration: 170 ; Train RMSE = 0.8630 ; Test RMSE = 0.9273\n",
      "Iteration: 180 ; Train RMSE = 0.8495 ; Test RMSE = 0.9239\n",
      "Iteration: 190 ; Train RMSE = 0.8348 ; Test RMSE = 0.9207\n",
      "Iteration: 200 ; Train RMSE = 0.8185 ; Test RMSE = 0.9178\n",
      "Iteration: 210 ; Train RMSE = 0.8007 ; Test RMSE = 0.9153\n",
      "Iteration: 220 ; Train RMSE = 0.7811 ; Test RMSE = 0.9132\n",
      "Iteration: 230 ; Train RMSE = 0.7601 ; Test RMSE = 0.9115\n",
      "Iteration: 240 ; Train RMSE = 0.7377 ; Test RMSE = 0.9103\n",
      "Iteration: 250 ; Train RMSE = 0.7144 ; Test RMSE = 0.9097\n"
     ]
    }
   ],
   "source": [
    "R_temp = ratings.pivot(index='user_id', columns='movie_id', values='rating').fillna(0)\n",
    "mf = NEW_MF(R_temp, K=200, alpha=0.001, beta=0.02, iterations=250, verbose=True)\n",
    "test_set = mf.set_test(ratings_test)\n",
    "result = mf.test()"
   ]
  },
  {
   "cell_type": "markdown",
   "metadata": {},
   "source": [
    "- Hybrid 추천 알고리즘"
   ]
  },
  {
   "cell_type": "code",
   "execution_count": 9,
   "metadata": {},
   "outputs": [],
   "source": [
    "def recommender0(recomm_list, mf):\n",
    "    recommendations = np.array([mf.get_one_prediction(user, movie) for (user, movie) in recomm_list])\n",
    "    return recommendations\n",
    "\n",
    "def recommender1(recomm_list, neighbor_size=0):\n",
    "    recommendations = np.array([CF_knn_bias(user, movie, neighbor_size) for (user, movie) in recomm_list])\n",
    "    return recommendations"
   ]
  },
  {
   "cell_type": "code",
   "execution_count": 10,
   "metadata": {},
   "outputs": [
    {
     "data": {
      "text/plain": [
       "0.9096585288088456"
      ]
     },
     "execution_count": 10,
     "metadata": {},
     "output_type": "execute_result"
    }
   ],
   "source": [
    "recomm_list = np.array(ratings_test.iloc[:, [0, 1]])\n",
    "predictions0 = recommender0(recomm_list, mf)\n",
    "RMSE2(ratings_test.iloc[:, 2], predictions0)"
   ]
  },
  {
   "cell_type": "code",
   "execution_count": 11,
   "metadata": {},
   "outputs": [
    {
     "data": {
      "text/plain": [
       "0.9467199341641682"
      ]
     },
     "execution_count": 11,
     "metadata": {},
     "output_type": "execute_result"
    }
   ],
   "source": [
    "predictions1 = recommender1(recomm_list, 37)\n",
    "RMSE2(ratings_test.iloc[:, 2], predictions1)"
   ]
  },
  {
   "cell_type": "code",
   "execution_count": 12,
   "metadata": {},
   "outputs": [
    {
     "data": {
      "text/plain": [
       "0.909240483870335"
      ]
     },
     "execution_count": 12,
     "metadata": {},
     "output_type": "execute_result"
    }
   ],
   "source": [
    "weight = [0.8, 0.2]\n",
    "predictions = predictions0 * weight[0] + predictions1 * weight[1]\n",
    "RMSE2(ratings_test.iloc[:, 2], predictions)"
   ]
  },
  {
   "cell_type": "markdown",
   "metadata": {},
   "source": [
    "- 최적의 가중치 찾기\n",
    "    아래는 가중치를 0-1까지 0.01의 간격으로 바꿔가면서 하이브리드 예측의 RMSE를 계산하는 방식"
   ]
  },
  {
   "cell_type": "code",
   "execution_count": 13,
   "metadata": {},
   "outputs": [
    {
     "name": "stdout",
     "output_type": "stream",
     "text": [
      "Weights - 0.00 : 1.00 ; RMSE = 0.9467199\n",
      "Weights - 0.01 : 0.99 ; RMSE = 0.9458817\n",
      "Weights - 0.02 : 0.98 ; RMSE = 0.9450523\n",
      "Weights - 0.03 : 0.97 ; RMSE = 0.9442318\n",
      "Weights - 0.04 : 0.96 ; RMSE = 0.9434202\n",
      "Weights - 0.05 : 0.95 ; RMSE = 0.9426176\n",
      "Weights - 0.06 : 0.94 ; RMSE = 0.9418239\n",
      "Weights - 0.07 : 0.93 ; RMSE = 0.9410391\n",
      "Weights - 0.08 : 0.92 ; RMSE = 0.9402634\n",
      "Weights - 0.09 : 0.91 ; RMSE = 0.9394967\n",
      "Weights - 0.10 : 0.90 ; RMSE = 0.9387390\n",
      "Weights - 0.11 : 0.89 ; RMSE = 0.9379904\n",
      "Weights - 0.12 : 0.88 ; RMSE = 0.9372509\n",
      "Weights - 0.13 : 0.87 ; RMSE = 0.9365204\n",
      "Weights - 0.14 : 0.86 ; RMSE = 0.9357991\n",
      "Weights - 0.15 : 0.85 ; RMSE = 0.9350870\n",
      "Weights - 0.16 : 0.84 ; RMSE = 0.9343840\n",
      "Weights - 0.17 : 0.83 ; RMSE = 0.9336902\n",
      "Weights - 0.18 : 0.82 ; RMSE = 0.9330057\n",
      "Weights - 0.19 : 0.81 ; RMSE = 0.9323303\n",
      "Weights - 0.20 : 0.80 ; RMSE = 0.9316642\n",
      "Weights - 0.21 : 0.79 ; RMSE = 0.9310074\n",
      "Weights - 0.22 : 0.78 ; RMSE = 0.9303599\n",
      "Weights - 0.23 : 0.77 ; RMSE = 0.9297217\n",
      "Weights - 0.24 : 0.76 ; RMSE = 0.9290928\n",
      "Weights - 0.25 : 0.75 ; RMSE = 0.9284732\n",
      "Weights - 0.26 : 0.74 ; RMSE = 0.9278631\n",
      "Weights - 0.27 : 0.73 ; RMSE = 0.9272623\n",
      "Weights - 0.28 : 0.72 ; RMSE = 0.9266709\n",
      "Weights - 0.29 : 0.71 ; RMSE = 0.9260889\n",
      "Weights - 0.30 : 0.70 ; RMSE = 0.9255164\n",
      "Weights - 0.31 : 0.69 ; RMSE = 0.9249534\n",
      "Weights - 0.32 : 0.68 ; RMSE = 0.9243998\n",
      "Weights - 0.33 : 0.67 ; RMSE = 0.9238557\n",
      "Weights - 0.34 : 0.66 ; RMSE = 0.9233211\n",
      "Weights - 0.35 : 0.65 ; RMSE = 0.9227960\n",
      "Weights - 0.36 : 0.64 ; RMSE = 0.9222805\n",
      "Weights - 0.37 : 0.63 ; RMSE = 0.9217745\n",
      "Weights - 0.38 : 0.62 ; RMSE = 0.9212781\n",
      "Weights - 0.39 : 0.61 ; RMSE = 0.9207913\n",
      "Weights - 0.40 : 0.60 ; RMSE = 0.9203141\n",
      "Weights - 0.41 : 0.59 ; RMSE = 0.9198465\n",
      "Weights - 0.42 : 0.58 ; RMSE = 0.9193886\n",
      "Weights - 0.43 : 0.57 ; RMSE = 0.9189403\n",
      "Weights - 0.44 : 0.56 ; RMSE = 0.9185016\n",
      "Weights - 0.45 : 0.55 ; RMSE = 0.9180727\n",
      "Weights - 0.46 : 0.54 ; RMSE = 0.9176534\n",
      "Weights - 0.47 : 0.53 ; RMSE = 0.9172438\n",
      "Weights - 0.48 : 0.52 ; RMSE = 0.9168440\n",
      "Weights - 0.49 : 0.51 ; RMSE = 0.9164538\n",
      "Weights - 0.50 : 0.50 ; RMSE = 0.9160734\n",
      "Weights - 0.51 : 0.49 ; RMSE = 0.9157028\n",
      "Weights - 0.52 : 0.48 ; RMSE = 0.9153419\n",
      "Weights - 0.53 : 0.47 ; RMSE = 0.9149908\n",
      "Weights - 0.54 : 0.46 ; RMSE = 0.9146495\n",
      "Weights - 0.55 : 0.45 ; RMSE = 0.9143180\n",
      "Weights - 0.56 : 0.44 ; RMSE = 0.9139963\n",
      "Weights - 0.57 : 0.43 ; RMSE = 0.9136844\n",
      "Weights - 0.58 : 0.42 ; RMSE = 0.9133824\n",
      "Weights - 0.59 : 0.41 ; RMSE = 0.9130902\n",
      "Weights - 0.60 : 0.40 ; RMSE = 0.9128078\n",
      "Weights - 0.61 : 0.39 ; RMSE = 0.9125353\n",
      "Weights - 0.62 : 0.38 ; RMSE = 0.9122726\n",
      "Weights - 0.63 : 0.37 ; RMSE = 0.9120199\n",
      "Weights - 0.64 : 0.36 ; RMSE = 0.9117770\n",
      "Weights - 0.65 : 0.35 ; RMSE = 0.9115440\n",
      "Weights - 0.66 : 0.34 ; RMSE = 0.9113209\n",
      "Weights - 0.67 : 0.33 ; RMSE = 0.9111077\n",
      "Weights - 0.68 : 0.32 ; RMSE = 0.9109045\n",
      "Weights - 0.69 : 0.31 ; RMSE = 0.9107111\n",
      "Weights - 0.70 : 0.30 ; RMSE = 0.9105277\n",
      "Weights - 0.71 : 0.29 ; RMSE = 0.9103542\n",
      "Weights - 0.72 : 0.28 ; RMSE = 0.9101906\n",
      "Weights - 0.73 : 0.27 ; RMSE = 0.9100370\n",
      "Weights - 0.74 : 0.26 ; RMSE = 0.9098933\n",
      "Weights - 0.75 : 0.25 ; RMSE = 0.9097596\n",
      "Weights - 0.76 : 0.24 ; RMSE = 0.9096359\n",
      "Weights - 0.77 : 0.23 ; RMSE = 0.9095221\n",
      "Weights - 0.78 : 0.22 ; RMSE = 0.9094182\n",
      "Weights - 0.79 : 0.21 ; RMSE = 0.9093244\n",
      "Weights - 0.80 : 0.20 ; RMSE = 0.9092405\n",
      "Weights - 0.81 : 0.19 ; RMSE = 0.9091666\n",
      "Weights - 0.82 : 0.18 ; RMSE = 0.9091026\n",
      "Weights - 0.83 : 0.17 ; RMSE = 0.9090487\n",
      "Weights - 0.84 : 0.16 ; RMSE = 0.9090047\n",
      "Weights - 0.85 : 0.15 ; RMSE = 0.9089707\n",
      "Weights - 0.86 : 0.14 ; RMSE = 0.9089467\n",
      "Weights - 0.87 : 0.13 ; RMSE = 0.9089326\n",
      "Weights - 0.88 : 0.12 ; RMSE = 0.9089286\n",
      "Weights - 0.89 : 0.11 ; RMSE = 0.9089345\n",
      "Weights - 0.90 : 0.10 ; RMSE = 0.9089505\n",
      "Weights - 0.91 : 0.09 ; RMSE = 0.9089764\n",
      "Weights - 0.92 : 0.08 ; RMSE = 0.9090122\n",
      "Weights - 0.93 : 0.07 ; RMSE = 0.9090581\n",
      "Weights - 0.94 : 0.06 ; RMSE = 0.9091140\n",
      "Weights - 0.95 : 0.05 ; RMSE = 0.9091798\n",
      "Weights - 0.96 : 0.04 ; RMSE = 0.9092556\n",
      "Weights - 0.97 : 0.03 ; RMSE = 0.9093414\n",
      "Weights - 0.98 : 0.02 ; RMSE = 0.9094371\n",
      "Weights - 0.99 : 0.01 ; RMSE = 0.9095428\n"
     ]
    }
   ],
   "source": [
    "for i in np.arange(0, 1, 0.01):\n",
    "    weight = [i, 1.0 - i]\n",
    "    predictions = predictions0 * weight[0] + predictions1 * weight[1]\n",
    "    print(\"Weights - %.2f : %.2f ; RMSE = %.7f\" % (weight[0], \n",
    "           weight[1], RMSE2(ratings_test.iloc[:, 2], predictions)))"
   ]
  },
  {
   "cell_type": "markdown",
   "metadata": {},
   "source": [
    "가중치가 0.88 : 0.12 이고 RMSE는  0.9089286일대 최적의 가중치라는 것을 알 수 있음"
   ]
  }
 ],
 "metadata": {
  "kernelspec": {
   "display_name": "Python 3",
   "language": "python",
   "name": "python3"
  },
  "language_info": {
   "codemirror_mode": {
    "name": "ipython",
    "version": 3
   },
   "file_extension": ".py",
   "mimetype": "text/x-python",
   "name": "python",
   "nbconvert_exporter": "python",
   "pygments_lexer": "ipython3",
   "version": "3.7.4"
  }
 },
 "nbformat": 4,
 "nbformat_minor": 5
}
