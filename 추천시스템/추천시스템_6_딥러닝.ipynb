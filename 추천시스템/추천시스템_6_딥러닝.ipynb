{
 "cells": [
  {
   "cell_type": "markdown",
   "id": "a3949869",
   "metadata": {},
   "source": [
    "#### 1. Keras로 MF 구현하기"
   ]
  },
  {
   "cell_type": "code",
   "execution_count": 1,
   "id": "114cf0fc",
   "metadata": {},
   "outputs": [],
   "source": [
    "import tensorflow as tf\n",
    "from tensorflow import keras\n",
    "from tensorflow.keras import layers\n",
    "from tensorflow.keras.models import Model\n",
    "from tensorflow.keras.layers import Input, Embedding, Dot, Add, Flatten\n",
    "from tensorflow.keras.regularizers import l2\n",
    "from tensorflow.keras.optimizers import SGD, Adamax"
   ]
  },
  {
   "cell_type": "code",
   "execution_count": 2,
   "id": "c4fe8e42",
   "metadata": {},
   "outputs": [],
   "source": [
    "import pandas as pd\n",
    "import numpy as np\n",
    "\n",
    "# csv 파일에서 불러오기\n",
    "r_cols = ['user_id', 'movie_id', 'rating', 'timestamp']\n",
    "ratings = pd.read_csv('u.data', names=r_cols,  sep='\\t',encoding='latin-1')\n",
    "ratings = ratings[['user_id', 'movie_id', 'rating']].astype(int)            # timestamp 제거\n",
    "\n",
    "# train test 분리\n",
    "from sklearn.utils import shuffle\n",
    "TRAIN_SIZE = 0.75\n",
    "ratings = shuffle(ratings)\n",
    "cutoff = int(TRAIN_SIZE * len(ratings))\n",
    "ratings_train = ratings.iloc[:cutoff]\n",
    "ratings_test = ratings.iloc[cutoff:]\n"
   ]
  },
  {
   "cell_type": "markdown",
   "id": "b1e22457",
   "metadata": {},
   "source": [
    "- Variable 초기화"
   ]
  },
  {
   "cell_type": "code",
   "execution_count": 3,
   "id": "945eccac",
   "metadata": {},
   "outputs": [],
   "source": [
    "K= 200                                # (잠재요인)Latent factor 수\n",
    "mu = ratings_train.rating.mean()      # 전체평균\n",
    "M = ratings.user_id.max() +1          # Number of users\n",
    "N = ratings.movie_id.max() +1         # Number of movies\n",
    "# 사용자 아이다와 영화 아이디의 최대값을 구한다. 나중에 embedding에 사용된다."
   ]
  },
  {
   "cell_type": "markdown",
   "id": "f63b167b",
   "metadata": {},
   "source": [
    "- RMSE 정의"
   ]
  },
  {
   "cell_type": "code",
   "execution_count": 4,
   "id": "6d1e4900",
   "metadata": {},
   "outputs": [],
   "source": [
    "def RMSE(y_true, y_pred):\n",
    "    return tf.sqrt(tf.reduce_mean(tf.square(y_true-y_pred))) # 여기서는 np.sqrt가 아님을 주의\n",
    "# y_pred와 y_true는 신경망에서 예측값, 실제값을 나타내는 Tensorflow/Keras의 표준변수이다. "
   ]
  },
  {
   "cell_type": "markdown",
   "id": "f342d23a",
   "metadata": {},
   "source": [
    "- Keras model"
   ]
  },
  {
   "cell_type": "code",
   "execution_count": 5,
   "id": "18680c2c",
   "metadata": {},
   "outputs": [],
   "source": [
    "user = Input(shape=(1,)) # 사용자 데이터 입력 형식을 지정한다.\n",
    "item = Input(shape=(1,)) # 아이템 데이터 입력 형식을 지정한다.\n",
    "P_embedding = Embedding(M,K,embeddings_regularizer=l2())(user) \n",
    "# 사용자 embedding layer 지정. 이미 설명한 것과 같이 (M x K)의 연결을 가진다.\n",
    "Q_embedding = Embedding(N,K, embeddings_regularizer=l2())(item)\n",
    "# 아이템 embedding layyer 지정. (N x K)의 연결을 가진다.\n",
    "user_bias = Embedding(M,1, embeddings_regularizer=l2())(user)\n",
    "# 사용자 bias embedding 지정. (M x 1)의 연결을 가진다.\n",
    "item_bias = Embedding(N,1, embeddings_regularizer=l2())(item)\n",
    "# 아이템 bias embedding layer 지정. (N x 1)의 연결을 가진다."
   ]
  },
  {
   "cell_type": "markdown",
   "id": "f9876109",
   "metadata": {},
   "source": [
    "이 코드에서 추가적인 설명인 필요한 부분은 RMSE() 함수이다. 지금까지 추천 시스템의 정확도지표로서 RMSE를 사용해 왔다.    \n",
    "Keras에는 미리 정의된 RMSE 측정지표가 없기 때문에 RMSE 계산을 위한 함수를 새로 정의한 것이 코드에 있는 RMSE()이다.   \n",
    "이 RMSE 함수는 지금까지 RMSE의 계산을 위해서 사용한 함수와 형태는 비슷하지만 구체적인 코드는 다르다. \n",
    "예를 들어 전에는 제곱근을 계산하기 위해서 np.sqrt()함수를 사용했는데 여기서는 Tensorflow의 함수인 tf.sqrt()를 사용한다.\n",
    "그 이유는 Tensorflow/Keras에서 신경망과 관련된 값을 계산하기 위해서는 Tensorflow/Keras에 미리 정의된 함수와 클래스를 사용해야 하기 때문이다."
   ]
  },
  {
   "cell_type": "code",
   "execution_count": 6,
   "id": "8696d1ca",
   "metadata": {},
   "outputs": [],
   "source": [
    "#R = Dot(axes=2)([P_embedding, Q_embedding)\n",
    "R = layers.dot([P_embedding, Q_embedding], axes=2)                      # (1, 1, 1)\n",
    "# 사용자, 아이템 embedding 레이어를 내적 연산(dot product)을 한다. \n",
    "# 같은 일을 하는 다른 코드로 R=Dot(axes=2)([P_embedding,Q_embedding])도 가능하다.\n",
    "# R = Add()([R, user_bias, item_bias])\n",
    "R = layers.add([R, user_bias, item_bias])\n",
    "# 사용자 bias, 아이템 bias르 더한다. 다른 코드로 R = Add()([R,user_bias,item_bias])도 가능하다.\n",
    "R = Flatten()(R)                                                        # (1, 1)\n",
    "# 차원을 압축한다. 즉 1차원 형태의 배열로 변경한다."
   ]
  },
  {
   "cell_type": "code",
   "execution_count": 7,
   "id": "1cc4893c",
   "metadata": {},
   "outputs": [],
   "source": [
    "model = Model(inputs=[user,item],outputs=R)\n",
    "# 입력과 출력의 정의한다."
   ]
  },
  {
   "cell_type": "code",
   "execution_count": 8,
   "id": "ecc4f6ee",
   "metadata": {},
   "outputs": [
    {
     "name": "stdout",
     "output_type": "stream",
     "text": [
      "Model: \"model\"\n",
      "__________________________________________________________________________________________________\n",
      "Layer (type)                    Output Shape         Param #     Connected to                     \n",
      "==================================================================================================\n",
      "input_1 (InputLayer)            [(None, 1)]          0                                            \n",
      "__________________________________________________________________________________________________\n",
      "input_2 (InputLayer)            [(None, 1)]          0                                            \n",
      "__________________________________________________________________________________________________\n",
      "embedding (Embedding)           (None, 1, 200)       188800      input_1[0][0]                    \n",
      "__________________________________________________________________________________________________\n",
      "embedding_1 (Embedding)         (None, 1, 200)       336600      input_2[0][0]                    \n",
      "__________________________________________________________________________________________________\n",
      "dot (Dot)                       (None, 1, 1)         0           embedding[0][0]                  \n",
      "                                                                 embedding_1[0][0]                \n",
      "__________________________________________________________________________________________________\n",
      "embedding_2 (Embedding)         (None, 1, 1)         944         input_1[0][0]                    \n",
      "__________________________________________________________________________________________________\n",
      "embedding_3 (Embedding)         (None, 1, 1)         1683        input_2[0][0]                    \n",
      "__________________________________________________________________________________________________\n",
      "add (Add)                       (None, 1, 1)         0           dot[0][0]                        \n",
      "                                                                 embedding_2[0][0]                \n",
      "                                                                 embedding_3[0][0]                \n",
      "__________________________________________________________________________________________________\n",
      "flatten (Flatten)               (None, 1)            0           add[0][0]                        \n",
      "==================================================================================================\n",
      "Total params: 528,027\n",
      "Trainable params: 528,027\n",
      "Non-trainable params: 0\n",
      "__________________________________________________________________________________________________\n"
     ]
    }
   ],
   "source": [
    "model.compile(\n",
    "    # 모델 컴파일 조건을 지정한다.\n",
    "    loss=RMSE,\n",
    "    # loss 측정을 RMSE로 정의한다.\n",
    "    optimizer=SGD(),\n",
    "    # optimizer로 SGD를 사용한다. SGD의 다양한 파라미터를 () 안에 지정할 수도 있지만,\n",
    "    # 여기서는 설명의 단순화를 위해 아무것도 지정하지 않고, 기본값을 사용하였다.\n",
    "    # SGD 외에 사용할 수 있는 optimizer가 다수 있다. 예를 들어 Adamax를 사용한다면 \n",
    "    # 이 코드를 optimizer=ADamax(),로 대체하면 된다. \n",
    "    metrics=[RMSE]\n",
    "    # 측정지표를 RMSE로 사용한다.\n",
    ")\n",
    "checkpoint_cb = keras.callbacks.ModelCheckpoint(\"my_keras_model.h5\", save_best_only=True)\n",
    "model.summary()\n",
    "# 모델 요약 정보를 표시한다."
   ]
  },
  {
   "cell_type": "markdown",
   "id": "8ca6ccd7",
   "metadata": {},
   "source": [
    "이 표에서는 Layer의 이름, 데이터 형식, 파라미터 수, 해당 layer가 연결되어 있는 다른 layer 등을 보여준다.  \n",
    "표를 보면 우선 embedding, embedding_1은(Layer이름 끝에 붙는 숫자는 실행할 때마다 다를 수 있음) 각각 사용자와 아이템의 잠재 요인,  \n",
    "즉 P,Q를 나타낸다.현재 train set에서는 사용자가 944, 아이템이 1683이고 (M,N의 값에서 확인 가능) 각 사용자, 아이템에 대해서 K=200  \n",
    "의  잠재요인), 즉 P,Q를 나타낸다. 현재 train set 에서는 사용자가 944, 아이템이 1683이고(M,N의 값에서 확인 가능) 각 사용자, 아이템\n",
    "에 대해서 K=200의 잠재요인을 지정했기 때문에 총 연결(파라미터)은 사용자의 경우 944 X 200 = 188,800, 아이템의 경우 1,683 X 200 = 336,600이 된다. 또한 embedding_2와 embedding_3는 각각 사용자, 아이템 bias layer인데, 사용자와 아이템 하나에 대해서 1개씩의 연결이\n",
    "생기기 때문에 각각 944, 1,683개의 연결(파라미터)이 만들어짐을 확인할 수 있다. 여기까지가 Keras 신경망을 구성하기 위한 코드였다.  \n",
    "여기에 더해서 신경망 학습에 관련된 코드는 아래와 같다."
   ]
  },
  {
   "cell_type": "markdown",
   "id": "96e97db6",
   "metadata": {},
   "source": [
    "- 모델 fitting"
   ]
  },
  {
   "cell_type": "code",
   "execution_count": 9,
   "id": "7298f5ff",
   "metadata": {},
   "outputs": [],
   "source": [
    "early_stopping_cb = keras.callbacks.EarlyStopping(patience=10,\n",
    "                                                  restore_best_weights=True)"
   ]
  },
  {
   "cell_type": "code",
   "execution_count": 10,
   "id": "e8a3fb13",
   "metadata": {},
   "outputs": [
    {
     "name": "stdout",
     "output_type": "stream",
     "text": [
      "Epoch 1/60\n",
      "293/293 [==============================] - 2s 5ms/step - loss: 5.2810 - RMSE: 1.1245 - val_loss: 5.0429 - val_RMSE: 1.1261\n",
      "Epoch 2/60\n",
      " 35/293 [==>...........................] - ETA: 1s - loss: 5.0020 - RMSE: 1.1117"
     ]
    },
    {
     "name": "stderr",
     "output_type": "stream",
     "text": [
      "C:\\ProgramData\\Anaconda3\\lib\\site-packages\\tensorflow\\python\\keras\\utils\\generic_utils.py:494: CustomMaskWarning: Custom mask layers require a config and must override get_config. When loading, the custom mask layer must be passed to the custom_objects argument.\n",
      "  warnings.warn('Custom mask layers require a config and must override '\n"
     ]
    },
    {
     "name": "stdout",
     "output_type": "stream",
     "text": [
      "293/293 [==============================] - 1s 5ms/step - loss: 4.8192 - RMSE: 1.1224 - val_loss: 4.6078 - val_RMSE: 1.1241\n",
      "Epoch 3/60\n",
      "293/293 [==============================] - 1s 5ms/step - loss: 4.4085 - RMSE: 1.1206 - val_loss: 4.2209 - val_RMSE: 1.1224\n",
      "Epoch 4/60\n",
      "293/293 [==============================] - 1s 5ms/step - loss: 4.0434 - RMSE: 1.1188 - val_loss: 3.8768 - val_RMSE: 1.1207\n",
      "Epoch 5/60\n",
      "293/293 [==============================] - 1s 5ms/step - loss: 3.7186 - RMSE: 1.1172 - val_loss: 3.5708 - val_RMSE: 1.1192\n",
      "Epoch 6/60\n",
      "293/293 [==============================] - 1s 5ms/step - loss: 3.4298 - RMSE: 1.1157 - val_loss: 3.2987 - val_RMSE: 1.1178\n",
      "Epoch 7/60\n",
      "293/293 [==============================] - 1s 5ms/step - loss: 3.1729 - RMSE: 1.1143 - val_loss: 3.0567 - val_RMSE: 1.1165\n",
      "Epoch 8/60\n",
      "293/293 [==============================] - 1s 5ms/step - loss: 2.9444 - RMSE: 1.1129 - val_loss: 2.8415 - val_RMSE: 1.1152\n",
      "Epoch 9/60\n",
      "293/293 [==============================] - 1s 5ms/step - loss: 2.7412 - RMSE: 1.1117 - val_loss: 2.6501 - val_RMSE: 1.1141\n",
      "Epoch 10/60\n",
      "293/293 [==============================] - 1s 5ms/step - loss: 2.5606 - RMSE: 1.1106 - val_loss: 2.4799 - val_RMSE: 1.1131\n",
      "Epoch 11/60\n",
      "293/293 [==============================] - 1s 5ms/step - loss: 2.3999 - RMSE: 1.1096 - val_loss: 2.3285 - val_RMSE: 1.1121\n",
      "Epoch 12/60\n",
      "293/293 [==============================] - 1s 5ms/step - loss: 2.2570 - RMSE: 1.1085 - val_loss: 2.1939 - val_RMSE: 1.1112\n",
      "Epoch 13/60\n",
      "293/293 [==============================] - 1s 4ms/step - loss: 2.1300 - RMSE: 1.1077 - val_loss: 2.0741 - val_RMSE: 1.1103\n",
      "Epoch 14/60\n",
      "293/293 [==============================] - 1s 4ms/step - loss: 2.0169 - RMSE: 1.1068 - val_loss: 1.9677 - val_RMSE: 1.1095\n",
      "Epoch 15/60\n",
      "293/293 [==============================] - 1s 4ms/step - loss: 1.9165 - RMSE: 1.1062 - val_loss: 1.8730 - val_RMSE: 1.1088\n",
      "Epoch 16/60\n",
      "293/293 [==============================] - 1s 5ms/step - loss: 1.8270 - RMSE: 1.1053 - val_loss: 1.7888 - val_RMSE: 1.1081\n",
      "Epoch 17/60\n",
      "293/293 [==============================] - 1s 4ms/step - loss: 1.7476 - RMSE: 1.1047 - val_loss: 1.7139 - val_RMSE: 1.1075\n",
      "Epoch 18/60\n",
      "293/293 [==============================] - 1s 4ms/step - loss: 1.6769 - RMSE: 1.1040 - val_loss: 1.6473 - val_RMSE: 1.1069\n",
      "Epoch 19/60\n",
      "293/293 [==============================] - 1s 5ms/step - loss: 1.6139 - RMSE: 1.1033 - val_loss: 1.5881 - val_RMSE: 1.1063\n",
      "Epoch 20/60\n",
      "293/293 [==============================] - 1s 4ms/step - loss: 1.5581 - RMSE: 1.1028 - val_loss: 1.5354 - val_RMSE: 1.1058\n",
      "Epoch 21/60\n",
      "293/293 [==============================] - 1s 4ms/step - loss: 1.5083 - RMSE: 1.1023 - val_loss: 1.4886 - val_RMSE: 1.1053\n",
      "Epoch 22/60\n",
      "293/293 [==============================] - 1s 5ms/step - loss: 1.4641 - RMSE: 1.1018 - val_loss: 1.4469 - val_RMSE: 1.1049\n",
      "Epoch 23/60\n",
      "293/293 [==============================] - 1s 5ms/step - loss: 1.4248 - RMSE: 1.1014 - val_loss: 1.4099 - val_RMSE: 1.1045\n",
      "Epoch 24/60\n",
      "293/293 [==============================] - 1s 5ms/step - loss: 1.3899 - RMSE: 1.1011 - val_loss: 1.3769 - val_RMSE: 1.1041\n",
      "Epoch 25/60\n",
      "293/293 [==============================] - 1s 5ms/step - loss: 1.3587 - RMSE: 1.1006 - val_loss: 1.3476 - val_RMSE: 1.1037\n",
      "Epoch 26/60\n",
      "293/293 [==============================] - 1s 4ms/step - loss: 1.3309 - RMSE: 1.1001 - val_loss: 1.3216 - val_RMSE: 1.1034\n",
      "Epoch 27/60\n",
      "293/293 [==============================] - 1s 5ms/step - loss: 1.3064 - RMSE: 1.0998 - val_loss: 1.2984 - val_RMSE: 1.1030\n",
      "Epoch 28/60\n",
      "293/293 [==============================] - 1s 5ms/step - loss: 1.2846 - RMSE: 1.0996 - val_loss: 1.2778 - val_RMSE: 1.1027\n",
      "Epoch 29/60\n",
      "293/293 [==============================] - 1s 4ms/step - loss: 1.2651 - RMSE: 1.0993 - val_loss: 1.2595 - val_RMSE: 1.1025\n",
      "Epoch 30/60\n",
      "293/293 [==============================] - 1s 5ms/step - loss: 1.2479 - RMSE: 1.0990 - val_loss: 1.2432 - val_RMSE: 1.1022\n",
      "Epoch 31/60\n",
      "293/293 [==============================] - 2s 5ms/step - loss: 1.2325 - RMSE: 1.0988 - val_loss: 1.2287 - val_RMSE: 1.1020\n",
      "Epoch 32/60\n",
      "293/293 [==============================] - 1s 5ms/step - loss: 1.2188 - RMSE: 1.0985 - val_loss: 1.2158 - val_RMSE: 1.1017\n",
      "Epoch 33/60\n",
      "293/293 [==============================] - 1s 5ms/step - loss: 1.2065 - RMSE: 1.0982 - val_loss: 1.2043 - val_RMSE: 1.1015\n",
      "Epoch 34/60\n",
      "293/293 [==============================] - 1s 5ms/step - loss: 1.1956 - RMSE: 1.0979 - val_loss: 1.1941 - val_RMSE: 1.1013\n",
      "Epoch 35/60\n",
      "293/293 [==============================] - 1s 5ms/step - loss: 1.1861 - RMSE: 1.0978 - val_loss: 1.1850 - val_RMSE: 1.1011\n",
      "Epoch 36/60\n",
      "293/293 [==============================] - 1s 5ms/step - loss: 1.1776 - RMSE: 1.0977 - val_loss: 1.1770 - val_RMSE: 1.1010\n",
      "Epoch 37/60\n",
      "293/293 [==============================] - 1s 5ms/step - loss: 1.1700 - RMSE: 1.0975 - val_loss: 1.1698 - val_RMSE: 1.1008\n",
      "Epoch 38/60\n",
      "293/293 [==============================] - 1s 5ms/step - loss: 1.1631 - RMSE: 1.0973 - val_loss: 1.1634 - val_RMSE: 1.1006\n",
      "Epoch 39/60\n",
      "293/293 [==============================] - 1s 5ms/step - loss: 1.1571 - RMSE: 1.0972 - val_loss: 1.1578 - val_RMSE: 1.1005\n",
      "Epoch 40/60\n",
      "293/293 [==============================] - 1s 4ms/step - loss: 1.1518 - RMSE: 1.0970 - val_loss: 1.1527 - val_RMSE: 1.1004\n",
      "Epoch 41/60\n",
      "293/293 [==============================] - 1s 5ms/step - loss: 1.1468 - RMSE: 1.0967 - val_loss: 1.1482 - val_RMSE: 1.1002\n",
      "Epoch 42/60\n",
      "293/293 [==============================] - 1s 5ms/step - loss: 1.1428 - RMSE: 1.0968 - val_loss: 1.1442 - val_RMSE: 1.1001\n",
      "Epoch 43/60\n",
      "293/293 [==============================] - 1s 5ms/step - loss: 1.1391 - RMSE: 1.0967 - val_loss: 1.1407 - val_RMSE: 1.1000\n",
      "Epoch 44/60\n",
      "293/293 [==============================] - 1s 5ms/step - loss: 1.1357 - RMSE: 1.0965 - val_loss: 1.1375 - val_RMSE: 1.0999\n",
      "Epoch 45/60\n",
      "293/293 [==============================] - 1s 5ms/step - loss: 1.1328 - RMSE: 1.0965 - val_loss: 1.1347 - val_RMSE: 1.0998\n",
      "Epoch 46/60\n",
      "293/293 [==============================] - 1s 5ms/step - loss: 1.1299 - RMSE: 1.0962 - val_loss: 1.1322 - val_RMSE: 1.0997\n",
      "Epoch 47/60\n",
      "293/293 [==============================] - 1s 5ms/step - loss: 1.1276 - RMSE: 1.0962 - val_loss: 1.1300 - val_RMSE: 1.0996\n",
      "Epoch 48/60\n",
      "293/293 [==============================] - 1s 5ms/step - loss: 1.1255 - RMSE: 1.0961 - val_loss: 1.1281 - val_RMSE: 1.0996\n",
      "Epoch 49/60\n",
      "293/293 [==============================] - 1s 5ms/step - loss: 1.1236 - RMSE: 1.0960 - val_loss: 1.1263 - val_RMSE: 1.0995\n",
      "Epoch 50/60\n",
      "293/293 [==============================] - 1s 5ms/step - loss: 1.1220 - RMSE: 1.0959 - val_loss: 1.1247 - val_RMSE: 1.0994\n",
      "Epoch 51/60\n",
      "293/293 [==============================] - 1s 5ms/step - loss: 1.1206 - RMSE: 1.0959 - val_loss: 1.1234 - val_RMSE: 1.0994\n",
      "Epoch 52/60\n",
      "293/293 [==============================] - 2s 5ms/step - loss: 1.1192 - RMSE: 1.0958 - val_loss: 1.1221 - val_RMSE: 1.0993\n",
      "Epoch 53/60\n",
      "293/293 [==============================] - 1s 5ms/step - loss: 1.1182 - RMSE: 1.0959 - val_loss: 1.1210 - val_RMSE: 1.0992\n",
      "Epoch 54/60\n",
      "293/293 [==============================] - 1s 5ms/step - loss: 1.1170 - RMSE: 1.0957 - val_loss: 1.1200 - val_RMSE: 1.0992\n",
      "Epoch 55/60\n",
      "293/293 [==============================] - 1s 5ms/step - loss: 1.1160 - RMSE: 1.0956 - val_loss: 1.1192 - val_RMSE: 1.0991\n",
      "Epoch 56/60\n",
      "293/293 [==============================] - 1s 5ms/step - loss: 1.1153 - RMSE: 1.0956 - val_loss: 1.1184 - val_RMSE: 1.0991\n",
      "Epoch 57/60\n",
      "293/293 [==============================] - 1s 5ms/step - loss: 1.1146 - RMSE: 1.0956 - val_loss: 1.1177 - val_RMSE: 1.0991\n",
      "Epoch 58/60\n",
      "293/293 [==============================] - 1s 5ms/step - loss: 1.1138 - RMSE: 1.0954 - val_loss: 1.1171 - val_RMSE: 1.0990\n",
      "Epoch 59/60\n",
      "293/293 [==============================] - 1s 5ms/step - loss: 1.1132 - RMSE: 1.0954 - val_loss: 1.1166 - val_RMSE: 1.0990\n",
      "Epoch 60/60\n",
      "293/293 [==============================] - 1s 5ms/step - loss: 1.1129 - RMSE: 1.0956 - val_loss: 1.1161 - val_RMSE: 1.0989\n"
     ]
    }
   ],
   "source": [
    "result = model.fit(\n",
    "    x=[ratings_train.user_id.values, ratings_train.movie_id.values],\n",
    "    # train set의 입력을 지정하는 부분. 입력은 각 사용자와 아이템을 구분하기 위한 One-hot encoding을 위해서 각 사용자와\n",
    "    # 아이템의 ID가 사용된다.\n",
    "    y=ratings_train.rating.values - mu,\n",
    "    # train set의 출력을 지정하는 부분, 출력은 평점값에서 전체평균을 빼서 샤용한다. 전체평균을 빼는 이유는 앞에서 설명함\n",
    "    epochs=60,\n",
    "    # 반복횟수를 지정한다.\n",
    "    batch_size=256,\n",
    "    # 한 번에 학습하는 batch 크기를 지정한다.\n",
    "    validation_data=(\n",
    "        # 정확도 측정을 위해 test 셋을 지정한다.\n",
    "    [ratings_test.user_id.values,ratings_test.movie_id.values],\n",
    "        # train set과 마찬가지로 test set의 입력은 test set의 사용자, 아이템 ID가 된다.\n",
    "    ratings_test.rating.values - mu),\n",
    "        # 출력 (y_valid로 보면 된다.)은 평점에서 전체평균을 뺀 값이 된다.\n",
    "    callbacks=[checkpoint_cb, early_stopping_cb]\n",
    ")"
   ]
  },
  {
   "cell_type": "markdown",
   "id": "a7ee7854",
   "metadata": {},
   "source": [
    "- epoch별 측정지표의 변화를 그래프로 표시하기 위한 것으로서 실행하면 다음과 같다"
   ]
  },
  {
   "cell_type": "code",
   "execution_count": 11,
   "id": "51fd9f04",
   "metadata": {},
   "outputs": [
    {
     "data": {
      "image/png": "[encoded data removed]",
      "text/plain": [
       "<Figure size 432x288 with 1 Axes>"
      ]
     },
     "metadata": {
      "needs_background": "light"
     },
     "output_type": "display_data"
    }
   ],
   "source": [
    "import matplotlib.pyplot as plt\n",
    "plt.plot(result.history['RMSE'],label=\"Train RMSE\")\n",
    "plt.plot(result.history['val_RMSE'], label= \"Test RMSE\")\n",
    "plt.legend()\n",
    "plt.show()"
   ]
  },
  {
   "cell_type": "markdown",
   "id": "8fcf0a1d",
   "metadata": {},
   "source": [
    "학습을 마친 신경망을 예측에 사용하려면 아래와 같은 코드를 쓰면 된다."
   ]
  },
  {
   "cell_type": "code",
   "execution_count": 12,
   "id": "8307cde1",
   "metadata": {},
   "outputs": [
    {
     "name": "stdout",
     "output_type": "stream",
     "text": [
      "Actuals : \n",
      "        user_id  movie_id  rating\n",
      "28750      250       270       4\n",
      "65311      891       280       3\n",
      "4190       235       898       3\n",
      "93530      561       144       3\n",
      "14071      130       800       4\n",
      "65945      487       156       4\n",
      "\n",
      "Predictions: \n",
      " [[3.548358 ]\n",
      " [3.5293832]\n",
      " [3.5403934]\n",
      " [3.494641 ]\n",
      " [3.5758607]\n",
      " [3.5732164]]\n"
     ]
    }
   ],
   "source": [
    "user_ids = ratings_test.user_id.values[0:6]\n",
    "movie_ids = ratings_test.movie_id.values[0:6]\n",
    "# 예측 대상(사용자-아이템)을 train set의 맨 처음 6개로 정한다.\n",
    "predictions = model.predict([user_ids,movie_ids])+mu\n",
    "# 예측치를 구한 후 전체평균을 더한다.\n",
    "print(\"Actuals : \\n\", ratings_test[0:6])\n",
    "# 실제값과 예측값 출력\n",
    "print()\n",
    "print(\"Predictions: \\n\", predictions)"
   ]
  },
  {
   "cell_type": "markdown",
   "id": "e23deda0",
   "metadata": {},
   "source": [
    "신경망에서 예측한 결과의 실제 RMSE값을 계산해 보도록 한다. 앞에서 보았듯이 Keras는 신경망의 학습과정에서 test set에 대한 예측을  \n",
    "하고 이 때의 RMSE값을 'val_RMSE'값을 출력해 준다. 학습이 끝난 최종 신경망을 사용해서 예측을 하고 이 예측값과 실제값의 차이를  \n",
    "RMSE값으로 측정하는 코드가 아래에 있다."
   ]
  },
  {
   "cell_type": "code",
   "execution_count": 13,
   "id": "b4d4b461",
   "metadata": {},
   "outputs": [],
   "source": [
    "def RMSE2(y_true,y_pred):\n",
    "    return np.sqrt(np.mean((np.array(y_true)- np.array(y_pred))**2))\n",
    "\n",
    "user_ids = ratings_test.user_id.values\n",
    "movie_ids = ratings_test.movie_id.values\n",
    "y_pred = model.predict([user_ids,movie_ids]) +mu\n",
    "y_pred = np.ravel(y_pred,order='C')\n",
    "y_true= np.array(ratings_test.rating)"
   ]
  },
  {
   "cell_type": "code",
   "execution_count": 14,
   "id": "5ea6c24c",
   "metadata": {},
   "outputs": [
    {
     "data": {
      "text/plain": [
       "1.0998959873681406"
      ]
     },
     "execution_count": 14,
     "metadata": {},
     "output_type": "execute_result"
    }
   ],
   "source": [
    "RMSE2(y_true,y_pred)"
   ]
  },
  {
   "cell_type": "markdown",
   "id": "afa13708",
   "metadata": {},
   "source": [
    "학습과정의 최종 epoch의 val_RMSE와 값이 거의 같음을 볼 수 있다. RMSE값이 앞의 제4장에서의 값보다 나쁜 것은  \n",
    "MF와 Keras의 모델이 기본적인 것은 같지만 구체적인 부분에서 아직 최적화가 안되었기 때문이라고 할 수 있다.  \n",
    "예를 들어서 SGD의 파라미터나 학습할 떄의 조건(epoch,batch size 등)이 다르기 때문이다.  "
   ]
  },
  {
   "cell_type": "markdown",
   "id": "a34a948b",
   "metadata": {},
   "source": [
    "#### 2.딥러닝을 적용한 추천 시스템"
   ]
  },
  {
   "cell_type": "code",
   "execution_count": 15,
   "id": "f25eee3b",
   "metadata": {},
   "outputs": [
    {
     "data": {
      "image/png": "[encoded data removed]",
      "text/plain": [
       "<IPython.core.display.Image object>"
      ]
     },
     "execution_count": 15,
     "metadata": {},
     "output_type": "execute_result"
    }
   ],
   "source": [
    "from IPython.display import Image\n",
    "Image(\"C:/Users/USER/Downloads/데이터/추천시스템을 위한 딥러닝의 구조.png\")"
   ]
  },
  {
   "cell_type": "markdown",
   "id": "826a88df",
   "metadata": {},
   "source": [
    "앞에서 선언한 MF모델은 은닉층이 없다. 그렇지만 일반적인 딥러닝은 은닉층이 다수 존재해서 다양한 패턴을 학습할 수 있는 것이 장점이기  \n",
    "떄문에 딥러닝을 추천에 적용하는 경우에도 은닉층은 필수적이다."
   ]
  },
  {
   "cell_type": "markdown",
   "id": "31c9966f",
   "metadata": {},
   "source": [
    "- Keras model"
   ]
  },
  {
   "cell_type": "code",
   "execution_count": 16,
   "id": "eb29fa1b",
   "metadata": {},
   "outputs": [],
   "source": [
    "user = Input(shape=(1,))\n",
    "item = Input(shape=(1,))\n",
    "P_embedding = Embedding(M,K,embeddings_regularizer=l2())(user)\n",
    "Q_embedding = Embedding(N,K, embeddings_regularizer=l2())(item)\n",
    "user_bias = Embedding(M,1 , embeddings_regularizer=l2())(user)\n",
    "item_bias = Embedding(N,1, embeddings_regularizer=l2())(item)"
   ]
  },
  {
   "cell_type": "code",
   "execution_count": 17,
   "id": "33d8726b",
   "metadata": {},
   "outputs": [],
   "source": [
    "from tensorflow.keras.layers import Dense,Concatenate,Activation\n",
    "P_embedding = Flatten()(P_embedding)\n",
    "Q_embedding = Flatten()(Q_embedding)\n",
    "user_bias = Flatten()(user_bias)\n",
    "item_bias = Flatten()(item_bias)\n",
    "R = Concatenate()([P_embedding,Q_embedding,user_bias,item_bias])"
   ]
  },
  {
   "cell_type": "markdown",
   "id": "168f202d",
   "metadata": {},
   "source": [
    "- Neural network"
   ]
  },
  {
   "cell_type": "code",
   "execution_count": 18,
   "id": "d2edeb55",
   "metadata": {},
   "outputs": [
    {
     "name": "stdout",
     "output_type": "stream",
     "text": [
      "Model: \"model_1\"\n",
      "__________________________________________________________________________________________________\n",
      "Layer (type)                    Output Shape         Param #     Connected to                     \n",
      "==================================================================================================\n",
      "input_3 (InputLayer)            [(None, 1)]          0                                            \n",
      "__________________________________________________________________________________________________\n",
      "input_4 (InputLayer)            [(None, 1)]          0                                            \n",
      "__________________________________________________________________________________________________\n",
      "embedding_4 (Embedding)         (None, 1, 200)       188800      input_3[0][0]                    \n",
      "__________________________________________________________________________________________________\n",
      "embedding_5 (Embedding)         (None, 1, 200)       336600      input_4[0][0]                    \n",
      "__________________________________________________________________________________________________\n",
      "embedding_6 (Embedding)         (None, 1, 1)         944         input_3[0][0]                    \n",
      "__________________________________________________________________________________________________\n",
      "embedding_7 (Embedding)         (None, 1, 1)         1683        input_4[0][0]                    \n",
      "__________________________________________________________________________________________________\n",
      "flatten_1 (Flatten)             (None, 200)          0           embedding_4[0][0]                \n",
      "__________________________________________________________________________________________________\n",
      "flatten_2 (Flatten)             (None, 200)          0           embedding_5[0][0]                \n",
      "__________________________________________________________________________________________________\n",
      "flatten_3 (Flatten)             (None, 1)            0           embedding_6[0][0]                \n",
      "__________________________________________________________________________________________________\n",
      "flatten_4 (Flatten)             (None, 1)            0           embedding_7[0][0]                \n",
      "__________________________________________________________________________________________________\n",
      "concatenate (Concatenate)       (None, 402)          0           flatten_1[0][0]                  \n",
      "                                                                 flatten_2[0][0]                  \n",
      "                                                                 flatten_3[0][0]                  \n",
      "                                                                 flatten_4[0][0]                  \n",
      "__________________________________________________________________________________________________\n",
      "dense (Dense)                   (None, 2048)         825344      concatenate[0][0]                \n",
      "__________________________________________________________________________________________________\n",
      "activation (Activation)         (None, 2048)         0           dense[0][0]                      \n",
      "__________________________________________________________________________________________________\n",
      "dense_1 (Dense)                 (None, 256)          524544      activation[0][0]                 \n",
      "__________________________________________________________________________________________________\n",
      "activation_1 (Activation)       (None, 256)          0           dense_1[0][0]                    \n",
      "__________________________________________________________________________________________________\n",
      "dense_2 (Dense)                 (None, 1)            257         activation_1[0][0]               \n",
      "==================================================================================================\n",
      "Total params: 1,878,172\n",
      "Trainable params: 1,878,172\n",
      "Non-trainable params: 0\n",
      "__________________________________________________________________________________________________\n"
     ]
    }
   ],
   "source": [
    "R = Dense(2048)(R)\n",
    "    # 노드가 2048개인 dense layer를 추가한다.\n",
    "R= Activation('linear')(R)\n",
    "    # 이 layer의 활성화 함수를'linear'로 지정한다.\n",
    "R= Dense(256)(R)\n",
    "    # 노드가 256개인 dense layer를 하나 더 추가한다.\n",
    "R= Activation('linear')(R)\n",
    "    # 이 layer도 activation 함수를 'linear'로 지정한다.\n",
    "R= Dense(1)(R)\n",
    "    # 노드가 1개인 dense layer를 하나 더 추가한다. 이 layer가 출력에 연결된다.\n",
    "model = Model(inputs=[user,item],outputs=R)\n",
    "    # 위에서 구성한 신경망과 입력으 연결해서 모델을 구성한다.\n",
    "model.compile(\n",
    "    loss=RMSE,\n",
    "    optimizer=SGD(),\n",
    "    # optimizer=Adamx(),\n",
    "    metrics=[RMSE]\n",
    "    # 측정지표를 RMSE로 지정한다.\n",
    "\n",
    ")\n",
    "model.summary()\n",
    "    # 구성한 신경망의 요약 정보를 표시한다."
   ]
  },
  {
   "cell_type": "markdown",
   "id": "981b8eaa",
   "metadata": {},
   "source": [
    "concatenate_1을 보면 flatten_5,6,7,8을 모두 합쳐 하나의 layer가 되고 layer의 노드 수는 402개가 된다.  \n",
    "이 layer는 다시 2048개의 노드를 갖는 dense layer에 연결되며, 이때 연결 파라미터의 수는 825344개가 된다.  \n",
    "이 layer는 다시 256개의 노드를 갖는 그 다음 dense layer과 연결되는데 이때 파라미터 수는 524,544개가 된다.  \n",
    "이 layer는 다시 노드가 1개인 최종 layer에 연결되고 이때 파라미터의 수는 257개가 된다.  \n",
    "총 파라미터수는 이들을 모두 합한 1878172개가 된다. "
   ]
  },
  {
   "cell_type": "code",
   "execution_count": 19,
   "id": "9d8218b9",
   "metadata": {},
   "outputs": [
    {
     "name": "stdout",
     "output_type": "stream",
     "text": [
      "Epoch 1/65\n",
      "147/147 [==============================] - 5s 33ms/step - loss: 5.3982 - RMSE: 1.1249 - val_loss: 5.2736 - val_RMSE: 1.1257\n",
      "Epoch 2/65\n",
      "147/147 [==============================] - 5s 32ms/step - loss: 5.1523 - RMSE: 1.1226 - val_loss: 5.0350 - val_RMSE: 1.1240\n",
      "Epoch 3/65\n",
      "147/147 [==============================] - 5s 31ms/step - loss: 4.9204 - RMSE: 1.1211 - val_loss: 4.8101 - val_RMSE: 1.1223\n",
      "Epoch 4/65\n",
      "147/147 [==============================] - 5s 32ms/step - loss: 4.7020 - RMSE: 1.1196 - val_loss: 4.5981 - val_RMSE: 1.1207\n",
      "Epoch 5/65\n",
      "147/147 [==============================] - 5s 31ms/step - loss: 4.4959 - RMSE: 1.1178 - val_loss: 4.3980 - val_RMSE: 1.1191\n",
      "Epoch 6/65\n",
      "147/147 [==============================] - 4s 30ms/step - loss: 4.3015 - RMSE: 1.1161 - val_loss: 4.2092 - val_RMSE: 1.1173\n",
      "Epoch 7/65\n",
      "147/147 [==============================] - 5s 31ms/step - loss: 4.1180 - RMSE: 1.1139 - val_loss: 4.0311 - val_RMSE: 1.1155\n",
      "Epoch 8/65\n",
      "147/147 [==============================] - 5s 32ms/step - loss: 3.9447 - RMSE: 1.1126 - val_loss: 3.8629 - val_RMSE: 1.1135\n",
      "Epoch 9/65\n",
      "147/147 [==============================] - 5s 31ms/step - loss: 3.7812 - RMSE: 1.1100 - val_loss: 3.7040 - val_RMSE: 1.1112\n",
      "Epoch 10/65\n",
      "147/147 [==============================] - 4s 31ms/step - loss: 3.6265 - RMSE: 1.1076 - val_loss: 3.5540 - val_RMSE: 1.1088\n",
      "Epoch 11/65\n",
      "147/147 [==============================] - 5s 31ms/step - loss: 3.4805 - RMSE: 1.1048 - val_loss: 3.4119 - val_RMSE: 1.1059\n",
      "Epoch 12/65\n",
      "147/147 [==============================] - 4s 31ms/step - loss: 3.3421 - RMSE: 1.1016 - val_loss: 3.2775 - val_RMSE: 1.1025\n",
      "Epoch 13/65\n",
      "147/147 [==============================] - 5s 33ms/step - loss: 3.2112 - RMSE: 1.0980 - val_loss: 3.1504 - val_RMSE: 1.0989\n",
      "Epoch 14/65\n",
      "147/147 [==============================] - 4s 30ms/step - loss: 3.0870 - RMSE: 1.0942 - val_loss: 3.0296 - val_RMSE: 1.0945\n",
      "Epoch 15/65\n",
      "147/147 [==============================] - 5s 31ms/step - loss: 2.9693 - RMSE: 1.0892 - val_loss: 2.9151 - val_RMSE: 1.0897\n",
      "Epoch 16/65\n",
      "147/147 [==============================] - 4s 30ms/step - loss: 2.8574 - RMSE: 1.0838 - val_loss: 2.8062 - val_RMSE: 1.0840\n",
      "Epoch 17/65\n",
      "147/147 [==============================] - 4s 30ms/step - loss: 2.7510 - RMSE: 1.0773 - val_loss: 2.7027 - val_RMSE: 1.0777\n",
      "Epoch 18/65\n",
      "147/147 [==============================] - 4s 30ms/step - loss: 2.6496 - RMSE: 1.0705 - val_loss: 2.6044 - val_RMSE: 1.0710\n",
      "Epoch 19/65\n",
      "147/147 [==============================] - 4s 30ms/step - loss: 2.5534 - RMSE: 1.0633 - val_loss: 2.5105 - val_RMSE: 1.0633\n",
      "Epoch 20/65\n",
      "147/147 [==============================] - 4s 30ms/step - loss: 2.4614 - RMSE: 1.0549 - val_loss: 2.4211 - val_RMSE: 1.0550\n",
      "Epoch 21/65\n",
      "147/147 [==============================] - 4s 30ms/step - loss: 2.3737 - RMSE: 1.0461 - val_loss: 2.3361 - val_RMSE: 1.0464\n",
      "Epoch 22/65\n",
      "147/147 [==============================] - 5s 32ms/step - loss: 2.2905 - RMSE: 1.0367 - val_loss: 2.2554 - val_RMSE: 1.0376\n",
      "Epoch 23/65\n",
      "147/147 [==============================] - 4s 30ms/step - loss: 2.2112 - RMSE: 1.0276 - val_loss: 2.1788 - val_RMSE: 1.0289\n",
      "Epoch 24/65\n",
      "147/147 [==============================] - 5s 31ms/step - loss: 2.1360 - RMSE: 1.0177 - val_loss: 2.1063 - val_RMSE: 1.0203\n",
      "Epoch 25/65\n",
      "147/147 [==============================] - 5s 31ms/step - loss: 2.0649 - RMSE: 1.0089 - val_loss: 2.0380 - val_RMSE: 1.0123\n",
      "Epoch 26/65\n",
      "147/147 [==============================] - 4s 30ms/step - loss: 1.9977 - RMSE: 1.0007 - val_loss: 1.9732 - val_RMSE: 1.0043\n",
      "Epoch 27/65\n",
      "147/147 [==============================] - 4s 30ms/step - loss: 1.9342 - RMSE: 0.9922 - val_loss: 1.9125 - val_RMSE: 0.9973\n",
      "Epoch 28/65\n",
      "147/147 [==============================] - 5s 32ms/step - loss: 1.8748 - RMSE: 0.9853 - val_loss: 1.8553 - val_RMSE: 0.9907\n",
      "Epoch 29/65\n",
      "147/147 [==============================] - 4s 30ms/step - loss: 1.8189 - RMSE: 0.9784 - val_loss: 1.8018 - val_RMSE: 0.9850\n",
      "Epoch 30/65\n",
      "147/147 [==============================] - 4s 30ms/step - loss: 1.7663 - RMSE: 0.9722 - val_loss: 1.7516 - val_RMSE: 0.9799\n",
      "Epoch 31/65\n",
      "147/147 [==============================] - 4s 30ms/step - loss: 1.7168 - RMSE: 0.9667 - val_loss: 1.7045 - val_RMSE: 0.9754\n",
      "Epoch 32/65\n",
      "147/147 [==============================] - 4s 30ms/step - loss: 1.6705 - RMSE: 0.9618 - val_loss: 1.6604 - val_RMSE: 0.9716\n",
      "Epoch 33/65\n",
      "147/147 [==============================] - 4s 30ms/step - loss: 1.6269 - RMSE: 0.9574 - val_loss: 1.6204 - val_RMSE: 0.9696\n",
      "Epoch 34/65\n",
      "147/147 [==============================] - 4s 30ms/step - loss: 1.5860 - RMSE: 0.9534 - val_loss: 1.5804 - val_RMSE: 0.9655\n",
      "Epoch 35/65\n",
      "147/147 [==============================] - 4s 31ms/step - loss: 1.5476 - RMSE: 0.9499 - val_loss: 1.5432 - val_RMSE: 0.9621\n",
      "Epoch 36/65\n",
      "147/147 [==============================] - 5s 31ms/step - loss: 1.5114 - RMSE: 0.9466 - val_loss: 1.5090 - val_RMSE: 0.9600\n",
      "Epoch 37/65\n",
      "147/147 [==============================] - 5s 31ms/step - loss: 1.4776 - RMSE: 0.9439 - val_loss: 1.4763 - val_RMSE: 0.9574\n",
      "Epoch 38/65\n",
      "147/147 [==============================] - 5s 32ms/step - loss: 1.4458 - RMSE: 0.9415 - val_loss: 1.4458 - val_RMSE: 0.9554\n",
      "Epoch 39/65\n",
      "147/147 [==============================] - 5s 32ms/step - loss: 1.4158 - RMSE: 0.9391 - val_loss: 1.4172 - val_RMSE: 0.9537\n",
      "Epoch 40/65\n",
      "147/147 [==============================] - 5s 31ms/step - loss: 1.3875 - RMSE: 0.9370 - val_loss: 1.3904 - val_RMSE: 0.9522\n",
      "Epoch 41/65\n",
      "147/147 [==============================] - 5s 32ms/step - loss: 1.3609 - RMSE: 0.9350 - val_loss: 1.3650 - val_RMSE: 0.9508\n",
      "Epoch 42/65\n",
      "147/147 [==============================] - 4s 30ms/step - loss: 1.3359 - RMSE: 0.9332 - val_loss: 1.3415 - val_RMSE: 0.9499\n",
      "Epoch 43/65\n",
      "147/147 [==============================] - 5s 31ms/step - loss: 1.3124 - RMSE: 0.9315 - val_loss: 1.3186 - val_RMSE: 0.9483\n",
      "Epoch 44/65\n",
      "147/147 [==============================] - 4s 30ms/step - loss: 1.2903 - RMSE: 0.9302 - val_loss: 1.2975 - val_RMSE: 0.9472\n",
      "Epoch 45/65\n",
      "147/147 [==============================] - 4s 30ms/step - loss: 1.2698 - RMSE: 0.9293 - val_loss: 1.2776 - val_RMSE: 0.9463\n",
      "Epoch 46/65\n",
      "147/147 [==============================] - 5s 31ms/step - loss: 1.2500 - RMSE: 0.9280 - val_loss: 1.2587 - val_RMSE: 0.9454\n",
      "Epoch 47/65\n",
      "147/147 [==============================] - 4s 30ms/step - loss: 1.2316 - RMSE: 0.9266 - val_loss: 1.2431 - val_RMSE: 0.9467\n",
      "Epoch 48/65\n",
      "147/147 [==============================] - 4s 30ms/step - loss: 1.2143 - RMSE: 0.9261 - val_loss: 1.2255 - val_RMSE: 0.9451\n",
      "Epoch 49/65\n",
      "147/147 [==============================] - 4s 30ms/step - loss: 1.1980 - RMSE: 0.9253 - val_loss: 1.2088 - val_RMSE: 0.9434\n",
      "Epoch 50/65\n",
      "147/147 [==============================] - 5s 31ms/step - loss: 1.1827 - RMSE: 0.9250 - val_loss: 1.1984 - val_RMSE: 0.9473\n",
      "Epoch 51/65\n",
      "147/147 [==============================] - 5s 31ms/step - loss: 1.1683 - RMSE: 0.9240 - val_loss: 1.1803 - val_RMSE: 0.9426\n",
      "Epoch 52/65\n",
      "147/147 [==============================] - 4s 30ms/step - loss: 1.1547 - RMSE: 0.9237 - val_loss: 1.1671 - val_RMSE: 0.9421\n",
      "Epoch 53/65\n",
      "147/147 [==============================] - 4s 31ms/step - loss: 1.1418 - RMSE: 0.9232 - val_loss: 1.1546 - val_RMSE: 0.9416\n",
      "Epoch 54/65\n",
      "147/147 [==============================] - 4s 30ms/step - loss: 1.1299 - RMSE: 0.9227 - val_loss: 1.1437 - val_RMSE: 0.9420\n",
      "Epoch 55/65\n",
      "147/147 [==============================] - 4s 30ms/step - loss: 1.1184 - RMSE: 0.9220 - val_loss: 1.1341 - val_RMSE: 0.9430\n",
      "Epoch 56/65\n",
      "147/147 [==============================] - 5s 31ms/step - loss: 1.1078 - RMSE: 0.9220 - val_loss: 1.1219 - val_RMSE: 0.9409\n",
      "Epoch 57/65\n",
      "147/147 [==============================] - 5s 31ms/step - loss: 1.0976 - RMSE: 0.9217 - val_loss: 1.1118 - val_RMSE: 0.9403\n",
      "Epoch 58/65\n",
      "147/147 [==============================] - 4s 30ms/step - loss: 1.0882 - RMSE: 0.9212 - val_loss: 1.1029 - val_RMSE: 0.9404\n",
      "Epoch 59/65\n",
      "147/147 [==============================] - 4s 30ms/step - loss: 1.0793 - RMSE: 0.9213 - val_loss: 1.0943 - val_RMSE: 0.9403\n",
      "Epoch 60/65\n",
      "147/147 [==============================] - 4s 30ms/step - loss: 1.0707 - RMSE: 0.9209 - val_loss: 1.0878 - val_RMSE: 0.9418\n",
      "Epoch 61/65\n"
     ]
    },
    {
     "name": "stdout",
     "output_type": "stream",
     "text": [
      "147/147 [==============================] - 5s 31ms/step - loss: 1.0627 - RMSE: 0.9207 - val_loss: 1.0791 - val_RMSE: 0.9406\n",
      "Epoch 62/65\n",
      "147/147 [==============================] - 4s 30ms/step - loss: 1.0552 - RMSE: 0.9202 - val_loss: 1.0762 - val_RMSE: 0.9448\n",
      "Epoch 63/65\n",
      "147/147 [==============================] - 4s 30ms/step - loss: 1.0484 - RMSE: 0.9205 - val_loss: 1.0653 - val_RMSE: 0.9407\n",
      "Epoch 64/65\n",
      "147/147 [==============================] - 5s 31ms/step - loss: 1.0414 - RMSE: 0.9199 - val_loss: 1.0593 - val_RMSE: 0.9410\n",
      "Epoch 65/65\n",
      "147/147 [==============================] - 4s 30ms/step - loss: 1.0349 - RMSE: 0.9197 - val_loss: 1.0564 - val_RMSE: 0.9441\n"
     ]
    }
   ],
   "source": [
    "result = model.fit(\n",
    "  x=[ratings_train.user_id.values, ratings_train.movie_id.values],\n",
    "    # 입력을 train set의 사용자, 아이템 ID로 지정한다.\n",
    "  y=ratings_train.rating.values - mu,\n",
    "    # 출력을 사용자-아이템별 평점값에서 평균을 뺀것으로 지정한다.\n",
    "  epochs=65,\n",
    "    # 반복 횟수를 65번으로 지정한다.\n",
    "  batch_size=512,\n",
    "    # 한 번에 연산하는 batch 크기를 지정한다.\n",
    "  validation_data=(\n",
    "      # validation을 위한 데이터를 지정한다.\n",
    "    [ratings_test.user_id.values, ratings_test.movie_id.values],\n",
    "      # 검증을 위한 입력을 test set의 사용자, 아이템 아이디로 지정한다.\n",
    "    ratings_test.rating.values - mu\n",
    "      # 검증을 위한 출력을 test set의 사용자-아이템별 평점에서 평균을 뺀 것으로 지정한다.\n",
    "  )\n",
    ")"
   ]
  },
  {
   "cell_type": "code",
   "execution_count": 20,
   "id": "b9edcbee",
   "metadata": {},
   "outputs": [
    {
     "name": "stdout",
     "output_type": "stream",
     "text": [
      "Model: \"model_2\"\n",
      "__________________________________________________________________________________________________\n",
      "Layer (type)                    Output Shape         Param #     Connected to                     \n",
      "==================================================================================================\n",
      "input_5 (InputLayer)            [(None, 1)]          0                                            \n",
      "__________________________________________________________________________________________________\n",
      "input_6 (InputLayer)            [(None, 1)]          0                                            \n",
      "__________________________________________________________________________________________________\n",
      "input_7 (InputLayer)            [(None, 1)]          0                                            \n",
      "__________________________________________________________________________________________________\n",
      "embedding_8 (Embedding)         (None, 1, 200)       188800      input_5[0][0]                    \n",
      "__________________________________________________________________________________________________\n",
      "embedding_9 (Embedding)         (None, 1, 200)       336600      input_6[0][0]                    \n",
      "__________________________________________________________________________________________________\n",
      "embedding_10 (Embedding)        (None, 1, 1)         944         input_5[0][0]                    \n",
      "__________________________________________________________________________________________________\n",
      "embedding_11 (Embedding)        (None, 1, 1)         1683        input_6[0][0]                    \n",
      "__________________________________________________________________________________________________\n",
      "embedding_12 (Embedding)        (None, 1, 3)         63          input_7[0][0]                    \n",
      "__________________________________________________________________________________________________\n",
      "flatten_5 (Flatten)             (None, 200)          0           embedding_8[0][0]                \n",
      "__________________________________________________________________________________________________\n",
      "flatten_6 (Flatten)             (None, 200)          0           embedding_9[0][0]                \n",
      "__________________________________________________________________________________________________\n",
      "flatten_7 (Flatten)             (None, 1)            0           embedding_10[0][0]               \n",
      "__________________________________________________________________________________________________\n",
      "flatten_8 (Flatten)             (None, 1)            0           embedding_11[0][0]               \n",
      "__________________________________________________________________________________________________\n",
      "flatten_9 (Flatten)             (None, 3)            0           embedding_12[0][0]               \n",
      "__________________________________________________________________________________________________\n",
      "concatenate_1 (Concatenate)     (None, 405)          0           flatten_5[0][0]                  \n",
      "                                                                 flatten_6[0][0]                  \n",
      "                                                                 flatten_7[0][0]                  \n",
      "                                                                 flatten_8[0][0]                  \n",
      "                                                                 flatten_9[0][0]                  \n",
      "__________________________________________________________________________________________________\n",
      "dense_3 (Dense)                 (None, 2048)         831488      concatenate_1[0][0]              \n",
      "__________________________________________________________________________________________________\n",
      "activation_2 (Activation)       (None, 2048)         0           dense_3[0][0]                    \n",
      "__________________________________________________________________________________________________\n",
      "dense_4 (Dense)                 (None, 256)          524544      activation_2[0][0]               \n",
      "__________________________________________________________________________________________________\n",
      "activation_3 (Activation)       (None, 256)          0           dense_4[0][0]                    \n",
      "__________________________________________________________________________________________________\n",
      "dense_5 (Dense)                 (None, 1)            257         activation_3[0][0]               \n",
      "==================================================================================================\n",
      "Total params: 1,884,379\n",
      "Trainable params: 1,884,379\n",
      "Non-trainable params: 0\n",
      "__________________________________________________________________________________________________\n",
      "Model: \"model_3\"\n",
      "__________________________________________________________________________________________________\n",
      "Layer (type)                    Output Shape         Param #     Connected to                     \n",
      "==================================================================================================\n",
      "input_5 (InputLayer)            [(None, 1)]          0                                            \n",
      "__________________________________________________________________________________________________\n",
      "input_6 (InputLayer)            [(None, 1)]          0                                            \n",
      "__________________________________________________________________________________________________\n",
      "input_7 (InputLayer)            [(None, 1)]          0                                            \n",
      "__________________________________________________________________________________________________\n",
      "embedding_8 (Embedding)         (None, 1, 200)       188800      input_5[0][0]                    \n",
      "__________________________________________________________________________________________________\n",
      "embedding_9 (Embedding)         (None, 1, 200)       336600      input_6[0][0]                    \n",
      "__________________________________________________________________________________________________\n",
      "embedding_10 (Embedding)        (None, 1, 1)         944         input_5[0][0]                    \n",
      "__________________________________________________________________________________________________\n",
      "embedding_11 (Embedding)        (None, 1, 1)         1683        input_6[0][0]                    \n",
      "__________________________________________________________________________________________________\n",
      "embedding_12 (Embedding)        (None, 1, 3)         63          input_7[0][0]                    \n",
      "__________________________________________________________________________________________________\n",
      "flatten_5 (Flatten)             (None, 200)          0           embedding_8[0][0]                \n",
      "__________________________________________________________________________________________________\n",
      "flatten_6 (Flatten)             (None, 200)          0           embedding_9[0][0]                \n",
      "__________________________________________________________________________________________________\n",
      "flatten_7 (Flatten)             (None, 1)            0           embedding_10[0][0]               \n",
      "__________________________________________________________________________________________________\n",
      "flatten_8 (Flatten)             (None, 1)            0           embedding_11[0][0]               \n",
      "__________________________________________________________________________________________________\n",
      "flatten_9 (Flatten)             (None, 3)            0           embedding_12[0][0]               \n",
      "__________________________________________________________________________________________________\n",
      "concatenate_1 (Concatenate)     (None, 405)          0           flatten_5[0][0]                  \n",
      "                                                                 flatten_6[0][0]                  \n",
      "                                                                 flatten_7[0][0]                  \n",
      "                                                                 flatten_8[0][0]                  \n",
      "                                                                 flatten_9[0][0]                  \n",
      "__________________________________________________________________________________________________\n",
      "dense_3 (Dense)                 (None, 2048)         831488      concatenate_1[0][0]              \n",
      "__________________________________________________________________________________________________\n",
      "activation_2 (Activation)       (None, 2048)         0           dense_3[0][0]                    \n",
      "__________________________________________________________________________________________________\n",
      "dense_4 (Dense)                 (None, 256)          524544      activation_2[0][0]               \n",
      "__________________________________________________________________________________________________\n",
      "activation_3 (Activation)       (None, 256)          0           dense_4[0][0]                    \n",
      "__________________________________________________________________________________________________\n",
      "dense_5 (Dense)                 (None, 1)            257         activation_3[0][0]               \n",
      "__________________________________________________________________________________________________\n",
      "dense_6 (Dense)                 (None, 2048)         4096        dense_5[0][0]                    \n",
      "__________________________________________________________________________________________________\n",
      "activation_4 (Activation)       (None, 2048)         0           dense_6[0][0]                    \n",
      "__________________________________________________________________________________________________\n",
      "dense_7 (Dense)                 (None, 256)          524544      activation_4[0][0]               \n",
      "__________________________________________________________________________________________________\n",
      "activation_5 (Activation)       (None, 256)          0           dense_7[0][0]                    \n",
      "__________________________________________________________________________________________________\n",
      "dense_8 (Dense)                 (None, 1)            257         activation_5[0][0]               \n",
      "==================================================================================================\n",
      "Total params: 2,413,276\n",
      "Trainable params: 2,413,276\n",
      "Non-trainable params: 0\n",
      "__________________________________________________________________________________________________\n"
     ]
    }
   ],
   "source": [
    "u_cols = ['user_id', 'age', 'sex', 'occupation', 'zip_code']\n",
    "users = pd.read_csv('u.user', sep='|', names=u_cols, encoding='latin-1')\n",
    "users = users[['user_id', 'occupation']]\n",
    "\n",
    "# Convert occupation(string to integer)\n",
    "occupation = {}\n",
    "def convert_occ(x):\n",
    "    if x in occupation:\n",
    "        return occupation[x]\n",
    "    else:\n",
    "        occupation[x] = len(occupation)\n",
    "        return occupation[x]\n",
    "users['occupation'] = users['occupation'].apply(convert_occ)\n",
    "\n",
    "L = len(occupation)\n",
    "train_occ = pd.merge(ratings_train, users, on='user_id')['occupation']\n",
    "test_occ = pd.merge(ratings_test, users, on='user_id')['occupation']\n",
    "#<<<<<<<<< 수정된 부분 1\n",
    "\n",
    "import tensorflow as tf\n",
    "from tensorflow.keras import layers\n",
    "from tensorflow.keras.models import Model\n",
    "from tensorflow.keras.layers import Input, Embedding, Dot, Add, Flatten\n",
    "from tensorflow.keras.regularizers import l2\n",
    "from tensorflow.keras.optimizers import SGD, Adam, Adamax\n",
    "\n",
    "# Variable 초기화 \n",
    "K = 200                             # Latent factor 수 \n",
    "mu = ratings_train.rating.mean()    # 전체 평균 \n",
    "M = ratings.user_id.max() + 1       # 우저의 수\n",
    "N = ratings.movie_id.max() + 1      # 영화갯수\n",
    "\n",
    "# Defining RMSE measure\n",
    "def RMSE(y_true, y_pred):\n",
    "    return tf.sqrt(tf.reduce_mean(tf.square(y_true - y_pred)))\n",
    "\n",
    "##### (2)\n",
    "\n",
    "# Keras model\n",
    "user = Input(shape=(1, ))\n",
    "item = Input(shape=(1, ))\n",
    "P_embedding = Embedding(M, K, embeddings_regularizer=l2())(user)\n",
    "Q_embedding = Embedding(N, K, embeddings_regularizer=l2())(item)\n",
    "user_bias = Embedding(M, 1, embeddings_regularizer=l2())(user)\n",
    "item_bias = Embedding(N, 1, embeddings_regularizer=l2())(item)\n",
    "\n",
    "# Concatenate layers\n",
    "from tensorflow.keras.layers import Dense, Concatenate, Activation\n",
    "P_embedding = Flatten()(P_embedding)\n",
    "Q_embedding = Flatten()(Q_embedding)\n",
    "user_bias = Flatten()(user_bias)\n",
    "item_bias = Flatten()(item_bias)\n",
    "\n",
    "# 수정된 부분 2 >>>>>>>>>>\n",
    "occ = Input(shape=(1, ))\n",
    "occ_embedding = Embedding(L, 3, embeddings_regularizer=l2())(occ)\n",
    "occ_layer = Flatten()(occ_embedding)\n",
    "R = Concatenate()([P_embedding, Q_embedding, user_bias, item_bias, occ_layer])\n",
    "\n",
    "#<<<<<<<<< 수정된 부분 2\n",
    "\n",
    "# Neural network\n",
    "R = Dense(2048)(R)\n",
    "R = Activation('linear')(R)\n",
    "R = Dense(256)(R)\n",
    "R = Activation('linear')(R)\n",
    "R = Dense(1)(R)\n",
    "\n",
    "# 수정된 부분 3 >>>>>>>>>>\n",
    "model = Model(inputs=[user, item, occ], outputs=R)\n",
    "#<<<<<<<<< 수정된 부분 3\n",
    "model.compile(\n",
    "  loss=RMSE,\n",
    "  optimizer=SGD(),\n",
    "  #optimizer=Adamax(),\n",
    "  metrics=[RMSE]\n",
    ")\n",
    "model.summary()\n",
    "\n",
    "\n",
    "# Neural network\n",
    "R = Dense(2048)(R)\n",
    "R = Activation('linear')(R)\n",
    "R = Dense(256)(R)\n",
    "R = Activation('linear')(R)\n",
    "R = Dense(1)(R)\n",
    "\n",
    "# 수정된 부분 3 >>>>>>>>>>\n",
    "model = Model(inputs=[user, item, occ], outputs=R)\n",
    "#<<<<<<<<< 수정된 부분 3\n",
    "model.compile(\n",
    "  loss=RMSE,\n",
    "  optimizer=SGD(),\n",
    "  #optimizer=Adamax(),\n",
    "  metrics=[RMSE]\n",
    ")\n",
    "model.summary()"
   ]
  },
  {
   "cell_type": "markdown",
   "id": "65a86500",
   "metadata": {},
   "source": [
    "- Model fitting"
   ]
  },
  {
   "cell_type": "code",
   "execution_count": 21,
   "id": "f4df3291",
   "metadata": {},
   "outputs": [
    {
     "name": "stdout",
     "output_type": "stream",
     "text": [
      "Epoch 1/65\n",
      "147/147 [==============================] - 7s 44ms/step - loss: 5.3990 - RMSE: 1.1247 - val_loss: 5.2757 - val_RMSE: 1.1269\n",
      "Epoch 2/65\n",
      "147/147 [==============================] - 6s 42ms/step - loss: 5.1550 - RMSE: 1.1248 - val_loss: 5.0388 - val_RMSE: 1.1269\n",
      "Epoch 3/65\n",
      "147/147 [==============================] - 6s 42ms/step - loss: 4.9248 - RMSE: 1.1246 - val_loss: 4.8154 - val_RMSE: 1.1269\n",
      "Epoch 4/65\n",
      "147/147 [==============================] - 6s 42ms/step - loss: 4.7078 - RMSE: 1.1245 - val_loss: 4.6049 - val_RMSE: 1.1270\n",
      "Epoch 5/65\n",
      "147/147 [==============================] - 6s 43ms/step - loss: 4.5031 - RMSE: 1.1245 - val_loss: 4.4061 - val_RMSE: 1.1268\n",
      "Epoch 6/65\n",
      "147/147 [==============================] - 6s 42ms/step - loss: 4.3101 - RMSE: 1.1247 - val_loss: 4.2189 - val_RMSE: 1.1269\n",
      "Epoch 7/65\n",
      "147/147 [==============================] - 6s 43ms/step - loss: 4.1282 - RMSE: 1.1248 - val_loss: 4.0422 - val_RMSE: 1.1268\n",
      "Epoch 8/65\n",
      "147/147 [==============================] - 6s 43ms/step - loss: 3.9567 - RMSE: 1.1246 - val_loss: 3.8757 - val_RMSE: 1.1268\n",
      "Epoch 9/65\n",
      "147/147 [==============================] - 6s 42ms/step - loss: 3.7950 - RMSE: 1.1249 - val_loss: 3.7187 - val_RMSE: 1.1268\n",
      "Epoch 10/65\n",
      "147/147 [==============================] - 6s 42ms/step - loss: 3.6423 - RMSE: 1.1247 - val_loss: 3.5708 - val_RMSE: 1.1268\n",
      "Epoch 11/65\n",
      "147/147 [==============================] - 6s 43ms/step - loss: 3.4986 - RMSE: 1.1248 - val_loss: 3.4311 - val_RMSE: 1.1268\n",
      "Epoch 12/65\n",
      "147/147 [==============================] - 6s 44ms/step - loss: 3.3631 - RMSE: 1.1246 - val_loss: 3.2996 - val_RMSE: 1.1268\n",
      "Epoch 13/65\n",
      "147/147 [==============================] - 6s 42ms/step - loss: 3.2351 - RMSE: 1.1245 - val_loss: 3.1755 - val_RMSE: 1.1268\n",
      "Epoch 14/65\n",
      "147/147 [==============================] - 6s 42ms/step - loss: 3.1146 - RMSE: 1.1244 - val_loss: 3.0585 - val_RMSE: 1.1268\n",
      "Epoch 15/65\n",
      "147/147 [==============================] - 6s 43ms/step - loss: 3.0009 - RMSE: 1.1248 - val_loss: 2.9481 - val_RMSE: 1.1267\n",
      "Epoch 16/65\n",
      "147/147 [==============================] - 6s 42ms/step - loss: 2.8937 - RMSE: 1.1245 - val_loss: 2.8441 - val_RMSE: 1.1267\n",
      "Epoch 17/65\n",
      "147/147 [==============================] - 6s 43ms/step - loss: 2.7926 - RMSE: 1.1243 - val_loss: 2.7459 - val_RMSE: 1.1265\n",
      "Epoch 18/65\n",
      "147/147 [==============================] - 6s 43ms/step - loss: 2.6974 - RMSE: 1.1243 - val_loss: 2.6533 - val_RMSE: 1.1265\n",
      "Epoch 19/65\n",
      "147/147 [==============================] - 6s 43ms/step - loss: 2.6073 - RMSE: 1.1241 - val_loss: 2.5661 - val_RMSE: 1.1264\n",
      "Epoch 20/65\n",
      "147/147 [==============================] - 6s 43ms/step - loss: 2.5227 - RMSE: 1.1242 - val_loss: 2.4838 - val_RMSE: 1.1263\n",
      "Epoch 21/65\n",
      "147/147 [==============================] - 6s 42ms/step - loss: 2.4427 - RMSE: 1.1242 - val_loss: 2.4062 - val_RMSE: 1.1262\n",
      "Epoch 22/65\n",
      "147/147 [==============================] - 6s 43ms/step - loss: 2.3673 - RMSE: 1.1238 - val_loss: 2.3330 - val_RMSE: 1.1261\n",
      "Epoch 23/65\n",
      "147/147 [==============================] - 6s 42ms/step - loss: 2.2962 - RMSE: 1.1239 - val_loss: 2.2640 - val_RMSE: 1.1260\n",
      "Epoch 24/65\n",
      "147/147 [==============================] - 6s 43ms/step - loss: 2.2290 - RMSE: 1.1234 - val_loss: 2.1988 - val_RMSE: 1.1257\n",
      "Epoch 25/65\n",
      "147/147 [==============================] - 6s 43ms/step - loss: 2.1657 - RMSE: 1.1235 - val_loss: 2.1373 - val_RMSE: 1.1255\n",
      "Epoch 26/65\n",
      "147/147 [==============================] - 6s 42ms/step - loss: 2.1060 - RMSE: 1.1231 - val_loss: 2.0793 - val_RMSE: 1.1252\n",
      "Epoch 27/65\n",
      "147/147 [==============================] - 6s 43ms/step - loss: 2.0495 - RMSE: 1.1230 - val_loss: 2.0245 - val_RMSE: 1.1248\n",
      "Epoch 28/65\n",
      "147/147 [==============================] - 6s 42ms/step - loss: 1.9962 - RMSE: 1.1223 - val_loss: 1.9727 - val_RMSE: 1.1243\n",
      "Epoch 29/65\n",
      "147/147 [==============================] - 6s 43ms/step - loss: 1.9459 - RMSE: 1.1219 - val_loss: 1.9239 - val_RMSE: 1.1239\n",
      "Epoch 30/65\n",
      "147/147 [==============================] - 6s 42ms/step - loss: 1.8982 - RMSE: 1.1212 - val_loss: 1.8775 - val_RMSE: 1.1230\n",
      "Epoch 31/65\n",
      "147/147 [==============================] - 6s 43ms/step - loss: 1.8531 - RMSE: 1.1203 - val_loss: 1.8335 - val_RMSE: 1.1221\n",
      "Epoch 32/65\n",
      "147/147 [==============================] - 6s 43ms/step - loss: 1.8102 - RMSE: 1.1192 - val_loss: 1.7918 - val_RMSE: 1.1208\n",
      "Epoch 33/65\n",
      "147/147 [==============================] - 6s 43ms/step - loss: 1.7694 - RMSE: 1.1176 - val_loss: 1.7521 - val_RMSE: 1.1192\n",
      "Epoch 34/65\n",
      "147/147 [==============================] - 6s 42ms/step - loss: 1.7302 - RMSE: 1.1152 - val_loss: 1.7136 - val_RMSE: 1.1166\n",
      "Epoch 35/65\n",
      "147/147 [==============================] - 6s 43ms/step - loss: 1.6923 - RMSE: 1.1124 - val_loss: 1.6763 - val_RMSE: 1.1130\n",
      "Epoch 36/65\n",
      "147/147 [==============================] - 6s 44ms/step - loss: 1.6552 - RMSE: 1.1080 - val_loss: 1.6392 - val_RMSE: 1.1076\n",
      "Epoch 37/65\n",
      "147/147 [==============================] - 6s 44ms/step - loss: 1.6176 - RMSE: 1.1011 - val_loss: 1.6011 - val_RMSE: 1.0993\n",
      "Epoch 38/65\n",
      "147/147 [==============================] - 6s 43ms/step - loss: 1.5777 - RMSE: 1.0899 - val_loss: 1.5599 - val_RMSE: 1.0858\n",
      "Epoch 39/65\n",
      "147/147 [==============================] - 6s 43ms/step - loss: 1.5332 - RMSE: 1.0721 - val_loss: 1.5127 - val_RMSE: 1.0644\n",
      "Epoch 40/65\n",
      "147/147 [==============================] - 6s 42ms/step - loss: 1.4823 - RMSE: 1.0462 - val_loss: 1.4636 - val_RMSE: 1.0393\n",
      "Epoch 41/65\n",
      "147/147 [==============================] - 6s 43ms/step - loss: 1.4301 - RMSE: 1.0171 - val_loss: 1.4115 - val_RMSE: 1.0098\n",
      "Epoch 42/65\n",
      "147/147 [==============================] - 6s 42ms/step - loss: 1.3856 - RMSE: 0.9946 - val_loss: 1.3703 - val_RMSE: 0.9901\n",
      "Epoch 43/65\n",
      "147/147 [==============================] - 6s 42ms/step - loss: 1.3521 - RMSE: 0.9826 - val_loss: 1.4354 - val_RMSE: 1.0757\n",
      "Epoch 44/65\n",
      "147/147 [==============================] - 6s 43ms/step - loss: 1.3327 - RMSE: 0.9831 - val_loss: 1.3171 - val_RMSE: 0.9769\n",
      "Epoch 45/65\n",
      "147/147 [==============================] - 6s 43ms/step - loss: 1.3114 - RMSE: 0.9804 - val_loss: 1.3082 - val_RMSE: 0.9861\n",
      "Epoch 46/65\n",
      "147/147 [==============================] - 7s 44ms/step - loss: 1.2829 - RMSE: 0.9698 - val_loss: 1.3185 - val_RMSE: 1.0136\n",
      "Epoch 47/65\n",
      "147/147 [==============================] - 6s 43ms/step - loss: 1.2603 - RMSE: 0.9634 - val_loss: 1.2548 - val_RMSE: 0.9661\n",
      "Epoch 48/65\n",
      "147/147 [==============================] - 6s 43ms/step - loss: 1.2426 - RMSE: 0.9619 - val_loss: 1.2541 - val_RMSE: 0.9807\n",
      "Epoch 49/65\n",
      "147/147 [==============================] - 6s 43ms/step - loss: 1.2264 - RMSE: 0.9600 - val_loss: 1.2377 - val_RMSE: 0.9786\n",
      "Epoch 50/65\n",
      "147/147 [==============================] - 6s 43ms/step - loss: 1.2096 - RMSE: 0.9578 - val_loss: 1.2214 - val_RMSE: 0.9760\n",
      "Epoch 51/65\n",
      "147/147 [==============================] - 6s 43ms/step - loss: 1.1827 - RMSE: 0.9438 - val_loss: 1.1861 - val_RMSE: 0.9537\n",
      "Epoch 52/65\n",
      "147/147 [==============================] - 6s 43ms/step - loss: 1.1740 - RMSE: 0.9481 - val_loss: 1.1686 - val_RMSE: 0.9484\n",
      "Epoch 53/65\n",
      "147/147 [==============================] - 6s 43ms/step - loss: 1.1512 - RMSE: 0.9372 - val_loss: 1.1529 - val_RMSE: 0.9446\n",
      "Epoch 54/65\n",
      "147/147 [==============================] - 6s 43ms/step - loss: 1.1474 - RMSE: 0.9451 - val_loss: 1.1436 - val_RMSE: 0.9461\n",
      "Epoch 55/65\n",
      "147/147 [==============================] - 6s 43ms/step - loss: 1.1348 - RMSE: 0.9429 - val_loss: 1.1585 - val_RMSE: 0.9714\n",
      "Epoch 56/65\n",
      "147/147 [==============================] - 6s 44ms/step - loss: 1.1256 - RMSE: 0.9432 - val_loss: 1.1278 - val_RMSE: 0.9503\n",
      "Epoch 57/65\n",
      "147/147 [==============================] - 7s 45ms/step - loss: 1.1158 - RMSE: 0.9429 - val_loss: 1.1112 - val_RMSE: 0.9429\n",
      "Epoch 58/65\n",
      "147/147 [==============================] - 6s 42ms/step - loss: 1.1011 - RMSE: 0.9376 - val_loss: 1.1214 - val_RMSE: 0.9618\n",
      "Epoch 59/65\n",
      "147/147 [==============================] - 6s 43ms/step - loss: 1.0869 - RMSE: 0.9316 - val_loss: 1.1463 - val_RMSE: 0.9950\n",
      "Epoch 60/65\n",
      "147/147 [==============================] - 6s 43ms/step - loss: 1.0833 - RMSE: 0.9360 - val_loss: 1.0906 - val_RMSE: 0.9470\n",
      "Epoch 61/65\n"
     ]
    },
    {
     "name": "stdout",
     "output_type": "stream",
     "text": [
      "147/147 [==============================] - 6s 44ms/step - loss: 1.0716 - RMSE: 0.9317 - val_loss: 1.0810 - val_RMSE: 0.9449\n",
      "Epoch 62/65\n",
      "147/147 [==============================] - 6s 42ms/step - loss: 1.0747 - RMSE: 0.9426 - val_loss: 1.0695 - val_RMSE: 0.9402\n",
      "Epoch 63/65\n",
      "147/147 [==============================] - 6s 42ms/step - loss: 1.0552 - RMSE: 0.9294 - val_loss: 1.0625 - val_RMSE: 0.9398\n",
      "Epoch 64/65\n",
      "147/147 [==============================] - 6s 42ms/step - loss: 1.0563 - RMSE: 0.9372 - val_loss: 1.0719 - val_RMSE: 0.9554\n",
      "Epoch 65/65\n",
      "147/147 [==============================] - 6s 43ms/step - loss: 1.0480 - RMSE: 0.9345 - val_loss: 1.0728 - val_RMSE: 0.9621\n"
     ]
    }
   ],
   "source": [
    "result = model.fit(\n",
    "  x=[ratings_train.user_id.values, ratings_train.movie_id.values, train_occ.values],\n",
    "  y=ratings_train.rating.values - mu,\n",
    "  epochs=65,\n",
    "  batch_size=512,\n",
    "  validation_data=(\n",
    "    [ratings_test.user_id.values, ratings_test.movie_id.values, test_occ.values],\n",
    "    ratings_test.rating.values - mu\n",
    "  )\n",
    ")"
   ]
  },
  {
   "cell_type": "markdown",
   "id": "58fbf8f5",
   "metadata": {},
   "source": [
    "- RMSE 그래프"
   ]
  },
  {
   "cell_type": "code",
   "execution_count": 22,
   "id": "c7affd00",
   "metadata": {},
   "outputs": [
    {
     "data": {
      "image/png": "[encoded data removed]",
      "text/plain": [
       "<Figure size 432x288 with 1 Axes>"
      ]
     },
     "metadata": {
      "needs_background": "light"
     },
     "output_type": "display_data"
    }
   ],
   "source": [
    "import matplotlib.pyplot as plt\n",
    "plt.plot(result.history['RMSE'], label=\"Train RMSE\")\n",
    "plt.plot(result.history['val_RMSE'], label=\"Test RMSE\")\n",
    "plt.xlabel('epoch')\n",
    "plt.ylabel('RMSE')\n",
    "plt.legend()\n",
    "plt.show()"
   ]
  },
  {
   "cell_type": "markdown",
   "id": "584b811e",
   "metadata": {},
   "source": [
    "- 모델 Prediction"
   ]
  },
  {
   "cell_type": "code",
   "execution_count": 23,
   "id": "545e15e5",
   "metadata": {},
   "outputs": [
    {
     "name": "stdout",
     "output_type": "stream",
     "text": [
      "Actuals: \n",
      "        user_id  movie_id  rating\n",
      "28750      250       270       4\n",
      "65311      891       280       3\n",
      "4190       235       898       3\n",
      "93530      561       144       3\n",
      "14071      130       800       4\n",
      "65945      487       156       4\n",
      "\n",
      "Predictions: \n",
      " [[4.11919  ]\n",
      " [3.9827926]\n",
      " [3.5645626]\n",
      " [3.5674634]\n",
      " [3.6975658]\n",
      " [4.364308 ]]\n"
     ]
    }
   ],
   "source": [
    "user_ids = ratings_test.user_id.values[0:6]\n",
    "movie_ids = ratings_test.movie_id.values[0:6]\n",
    "user_occ = test_occ[0:6]\n",
    "predictions = model.predict([user_ids, movie_ids, user_occ]) + mu\n",
    "print(\"Actuals: \\n\", ratings_test[0:6])\n",
    "print()\n",
    "print(\"Predictions: \\n\", predictions)"
   ]
  },
  {
   "cell_type": "markdown",
   "id": "0007c76b",
   "metadata": {},
   "source": [
    "- 정확도(RMSE)를 계산하는 함수 "
   ]
  },
  {
   "cell_type": "code",
   "execution_count": 24,
   "id": "b1160e3d",
   "metadata": {},
   "outputs": [
    {
     "data": {
      "text/plain": [
       "0.963034593792308"
      ]
     },
     "execution_count": 24,
     "metadata": {},
     "output_type": "execute_result"
    }
   ],
   "source": [
    "def RMSE2(y_true, y_pred):\n",
    "    return np.sqrt(np.mean((np.array(y_true) - np.array(y_pred))**2))\n",
    "\n",
    "user_ids = ratings_test.user_id.values\n",
    "movie_ids = ratings_test.movie_id.values\n",
    "y_pred = model.predict([user_ids, movie_ids, test_occ]) + mu\n",
    "y_pred = np.ravel(y_pred, order='C')\n",
    "y_true = np.array(ratings_test.rating)\n",
    "\n",
    "RMSE2(y_true, y_pred)"
   ]
  }
 ],
 "metadata": {
  "kernelspec": {
   "display_name": "Python 3 (ipykernel)",
   "language": "python",
   "name": "python3"
  },
  "language_info": {
   "codemirror_mode": {
    "name": "ipython",
    "version": 3
   },
   "file_extension": ".py",
   "mimetype": "text/x-python",
   "name": "python",
   "nbconvert_exporter": "python",
   "pygments_lexer": "ipython3",
   "version": "3.8.8"
  }
 },
 "nbformat": 4,
 "nbformat_minor": 5
}
