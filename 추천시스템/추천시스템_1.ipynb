{
 "cells": [
  {
   "cell_type": "markdown",
   "id": "e9e69c4e",
   "metadata": {},
   "source": [
    "## Python을 이용한 개인화 추천 시스템(임일 저)"
   ]
  },
  {
   "cell_type": "markdown",
   "id": "b97adbb4",
   "metadata": {},
   "source": [
    "### 1. 주요 추천 알고리즘  \n",
    "\n",
    "    1) 협업 필터링  \n",
    "        구매한 제품에 대한 각 소비자의 평가로 패턴이 비슷한 소비자를 한 집단으로 보고 집단별 취향을 활용하는 기술\n",
    "        취향이 뚜렷하게 부분되는 제품을 추천할 때 더욱 정확하다.\n",
    "        평가정보를 구할 수 없는 경우 계속적으로 정보를 검색하는 것, 장바구니에 넣는 것을 평가정보 대신에 활용\n",
    "        (클릭 스트림 분석을 통해 소비자의 취향이나 니즈를 알아낼 수 있음)\n",
    "        \n",
    "    2) 내용 기반 필터링  \n",
    "        제품의 내용을 분석해서 추천하는 기술. 소비하는 제품 중 텍스트 정보가 많은 제품을 분석하여 추천할 때 많이 이용되는 기술\n",
    "        어떤 소비자가 현재 관심이 있는 것으로 보이는 책이나 뉴스에서 키워드를 추려내고 다른 책이나 뉴스 중에서 비슷한 키워드를 가진\n",
    "        것들을 찾아내서 추천\n",
    "        \n",
    "    3) 지식 기반 필터링  \n",
    "        도메인 전문가의 도움을 받아서 지식구조를 만들어 활용하는 방법. 예를 들어 체계도를 만들고 이를 바탕으로 관심있는 제품 제시\n",
    "        \n",
    "    4) 딥러닝 추천 기술  \n",
    "        딥러닝의 입력으로 다양한 사용자와 아이템의 특징값을 사용하고, 이를 통해 얻은 출력은 각 아이템에 대한 각 사용자의 예상  \n",
    "        선호도로 사용하여 아이템을 추천\n",
    "      \n",
    "    5) 하이브리드 기술  \n",
    "    위에서 언급한 기술들을 복수 사용하여 정확도의 향상을 획득하고자 함"
   ]
  },
  {
   "cell_type": "code",
   "execution_count": 1,
   "id": "5219a1a8",
   "metadata": {},
   "outputs": [
    {
     "data": {
      "text/plain": [
       "'C:\\\\Users\\\\USER\\\\Downloads\\\\데이터'"
      ]
     },
     "execution_count": 1,
     "metadata": {},
     "output_type": "execute_result"
    }
   ],
   "source": [
    "import os\n",
    "os.getcwd()"
   ]
  },
  {
   "cell_type": "code",
   "execution_count": 2,
   "id": "5d0c4906",
   "metadata": {},
   "outputs": [],
   "source": [
    "os.chdir('C:/Users/USER/Downloads/데이터')"
   ]
  },
  {
   "cell_type": "markdown",
   "id": "9ea3ef22",
   "metadata": {},
   "source": [
    "### 2. 기본적인 추천 시스템\n",
    "##### 　2.1 데이터 불러오기"
   ]
  },
  {
   "cell_type": "markdown",
   "id": "fa131f4f",
   "metadata": {},
   "source": [
    "- 고객 데이터"
   ]
  },
  {
   "cell_type": "code",
   "execution_count": 3,
   "id": "35f9ea87",
   "metadata": {},
   "outputs": [
    {
     "data": {
      "text/html": [
       "<div>\n",
       "<style scoped>\n",
       "    .dataframe tbody tr th:only-of-type {\n",
       "        vertical-align: middle;\n",
       "    }\n",
       "\n",
       "    .dataframe tbody tr th {\n",
       "        vertical-align: top;\n",
       "    }\n",
       "\n",
       "    .dataframe thead th {\n",
       "        text-align: right;\n",
       "    }\n",
       "</style>\n",
       "<table border=\"1\" class=\"dataframe\">\n",
       "  <thead>\n",
       "    <tr style=\"text-align: right;\">\n",
       "      <th></th>\n",
       "      <th>age</th>\n",
       "      <th>sex</th>\n",
       "      <th>occupation</th>\n",
       "      <th>zip_code</th>\n",
       "    </tr>\n",
       "    <tr>\n",
       "      <th>user_id</th>\n",
       "      <th></th>\n",
       "      <th></th>\n",
       "      <th></th>\n",
       "      <th></th>\n",
       "    </tr>\n",
       "  </thead>\n",
       "  <tbody>\n",
       "    <tr>\n",
       "      <th>1</th>\n",
       "      <td>24</td>\n",
       "      <td>M</td>\n",
       "      <td>technician</td>\n",
       "      <td>85711</td>\n",
       "    </tr>\n",
       "    <tr>\n",
       "      <th>2</th>\n",
       "      <td>53</td>\n",
       "      <td>F</td>\n",
       "      <td>other</td>\n",
       "      <td>94043</td>\n",
       "    </tr>\n",
       "    <tr>\n",
       "      <th>3</th>\n",
       "      <td>23</td>\n",
       "      <td>M</td>\n",
       "      <td>writer</td>\n",
       "      <td>32067</td>\n",
       "    </tr>\n",
       "    <tr>\n",
       "      <th>4</th>\n",
       "      <td>24</td>\n",
       "      <td>M</td>\n",
       "      <td>technician</td>\n",
       "      <td>43537</td>\n",
       "    </tr>\n",
       "    <tr>\n",
       "      <th>5</th>\n",
       "      <td>33</td>\n",
       "      <td>F</td>\n",
       "      <td>other</td>\n",
       "      <td>15213</td>\n",
       "    </tr>\n",
       "  </tbody>\n",
       "</table>\n",
       "</div>"
      ],
      "text/plain": [
       "         age sex  occupation zip_code\n",
       "user_id                              \n",
       "1         24   M  technician    85711\n",
       "2         53   F       other    94043\n",
       "3         23   M      writer    32067\n",
       "4         24   M  technician    43537\n",
       "5         33   F       other    15213"
      ]
     },
     "execution_count": 3,
     "metadata": {},
     "output_type": "execute_result"
    }
   ],
   "source": [
    "import pandas as pd\n",
    "u_cols=['user_id','age','sex','occupation','zip_code']\n",
    "users=pd.read_csv('u.user',sep='|',names=u_cols,encoding='latin-1')\n",
    "users=users.set_index('user_id')\n",
    "users.head()"
   ]
  },
  {
   "cell_type": "markdown",
   "id": "9af93c1f",
   "metadata": {},
   "source": [
    "- 영화 데이터"
   ]
  },
  {
   "cell_type": "code",
   "execution_count": 4,
   "id": "c312c65a",
   "metadata": {},
   "outputs": [
    {
     "data": {
      "text/html": [
       "<div>\n",
       "<style scoped>\n",
       "    .dataframe tbody tr th:only-of-type {\n",
       "        vertical-align: middle;\n",
       "    }\n",
       "\n",
       "    .dataframe tbody tr th {\n",
       "        vertical-align: top;\n",
       "    }\n",
       "\n",
       "    .dataframe thead th {\n",
       "        text-align: right;\n",
       "    }\n",
       "</style>\n",
       "<table border=\"1\" class=\"dataframe\">\n",
       "  <thead>\n",
       "    <tr style=\"text-align: right;\">\n",
       "      <th></th>\n",
       "      <th>title</th>\n",
       "      <th>release date</th>\n",
       "      <th>video release date</th>\n",
       "      <th>IMDB URL</th>\n",
       "      <th>unknown</th>\n",
       "      <th>Action</th>\n",
       "      <th>Adventure</th>\n",
       "      <th>Animation</th>\n",
       "      <th>Children's</th>\n",
       "      <th>Comedy</th>\n",
       "      <th>...</th>\n",
       "      <th>Fantasy</th>\n",
       "      <th>Film-Noir</th>\n",
       "      <th>Horror</th>\n",
       "      <th>Musical</th>\n",
       "      <th>Mystery</th>\n",
       "      <th>Romance</th>\n",
       "      <th>Sci-Fi</th>\n",
       "      <th>Thriller</th>\n",
       "      <th>War</th>\n",
       "      <th>Western</th>\n",
       "    </tr>\n",
       "    <tr>\n",
       "      <th>movie_id</th>\n",
       "      <th></th>\n",
       "      <th></th>\n",
       "      <th></th>\n",
       "      <th></th>\n",
       "      <th></th>\n",
       "      <th></th>\n",
       "      <th></th>\n",
       "      <th></th>\n",
       "      <th></th>\n",
       "      <th></th>\n",
       "      <th></th>\n",
       "      <th></th>\n",
       "      <th></th>\n",
       "      <th></th>\n",
       "      <th></th>\n",
       "      <th></th>\n",
       "      <th></th>\n",
       "      <th></th>\n",
       "      <th></th>\n",
       "      <th></th>\n",
       "      <th></th>\n",
       "    </tr>\n",
       "  </thead>\n",
       "  <tbody>\n",
       "    <tr>\n",
       "      <th>1</th>\n",
       "      <td>Toy Story (1995)</td>\n",
       "      <td>01-Jan-1995</td>\n",
       "      <td>NaN</td>\n",
       "      <td>http://us.imdb.com/M/title-exact?Toy%20Story%2...</td>\n",
       "      <td>0</td>\n",
       "      <td>0</td>\n",
       "      <td>0</td>\n",
       "      <td>1</td>\n",
       "      <td>1</td>\n",
       "      <td>1</td>\n",
       "      <td>...</td>\n",
       "      <td>0</td>\n",
       "      <td>0</td>\n",
       "      <td>0</td>\n",
       "      <td>0</td>\n",
       "      <td>0</td>\n",
       "      <td>0</td>\n",
       "      <td>0</td>\n",
       "      <td>0</td>\n",
       "      <td>0</td>\n",
       "      <td>0</td>\n",
       "    </tr>\n",
       "    <tr>\n",
       "      <th>2</th>\n",
       "      <td>GoldenEye (1995)</td>\n",
       "      <td>01-Jan-1995</td>\n",
       "      <td>NaN</td>\n",
       "      <td>http://us.imdb.com/M/title-exact?GoldenEye%20(...</td>\n",
       "      <td>0</td>\n",
       "      <td>1</td>\n",
       "      <td>1</td>\n",
       "      <td>0</td>\n",
       "      <td>0</td>\n",
       "      <td>0</td>\n",
       "      <td>...</td>\n",
       "      <td>0</td>\n",
       "      <td>0</td>\n",
       "      <td>0</td>\n",
       "      <td>0</td>\n",
       "      <td>0</td>\n",
       "      <td>0</td>\n",
       "      <td>0</td>\n",
       "      <td>1</td>\n",
       "      <td>0</td>\n",
       "      <td>0</td>\n",
       "    </tr>\n",
       "    <tr>\n",
       "      <th>3</th>\n",
       "      <td>Four Rooms (1995)</td>\n",
       "      <td>01-Jan-1995</td>\n",
       "      <td>NaN</td>\n",
       "      <td>http://us.imdb.com/M/title-exact?Four%20Rooms%...</td>\n",
       "      <td>0</td>\n",
       "      <td>0</td>\n",
       "      <td>0</td>\n",
       "      <td>0</td>\n",
       "      <td>0</td>\n",
       "      <td>0</td>\n",
       "      <td>...</td>\n",
       "      <td>0</td>\n",
       "      <td>0</td>\n",
       "      <td>0</td>\n",
       "      <td>0</td>\n",
       "      <td>0</td>\n",
       "      <td>0</td>\n",
       "      <td>0</td>\n",
       "      <td>1</td>\n",
       "      <td>0</td>\n",
       "      <td>0</td>\n",
       "    </tr>\n",
       "    <tr>\n",
       "      <th>4</th>\n",
       "      <td>Get Shorty (1995)</td>\n",
       "      <td>01-Jan-1995</td>\n",
       "      <td>NaN</td>\n",
       "      <td>http://us.imdb.com/M/title-exact?Get%20Shorty%...</td>\n",
       "      <td>0</td>\n",
       "      <td>1</td>\n",
       "      <td>0</td>\n",
       "      <td>0</td>\n",
       "      <td>0</td>\n",
       "      <td>1</td>\n",
       "      <td>...</td>\n",
       "      <td>0</td>\n",
       "      <td>0</td>\n",
       "      <td>0</td>\n",
       "      <td>0</td>\n",
       "      <td>0</td>\n",
       "      <td>0</td>\n",
       "      <td>0</td>\n",
       "      <td>0</td>\n",
       "      <td>0</td>\n",
       "      <td>0</td>\n",
       "    </tr>\n",
       "    <tr>\n",
       "      <th>5</th>\n",
       "      <td>Copycat (1995)</td>\n",
       "      <td>01-Jan-1995</td>\n",
       "      <td>NaN</td>\n",
       "      <td>http://us.imdb.com/M/title-exact?Copycat%20(1995)</td>\n",
       "      <td>0</td>\n",
       "      <td>0</td>\n",
       "      <td>0</td>\n",
       "      <td>0</td>\n",
       "      <td>0</td>\n",
       "      <td>0</td>\n",
       "      <td>...</td>\n",
       "      <td>0</td>\n",
       "      <td>0</td>\n",
       "      <td>0</td>\n",
       "      <td>0</td>\n",
       "      <td>0</td>\n",
       "      <td>0</td>\n",
       "      <td>0</td>\n",
       "      <td>1</td>\n",
       "      <td>0</td>\n",
       "      <td>0</td>\n",
       "    </tr>\n",
       "  </tbody>\n",
       "</table>\n",
       "<p>5 rows × 23 columns</p>\n",
       "</div>"
      ],
      "text/plain": [
       "                      title release date  video release date  \\\n",
       "movie_id                                                       \n",
       "1          Toy Story (1995)  01-Jan-1995                 NaN   \n",
       "2          GoldenEye (1995)  01-Jan-1995                 NaN   \n",
       "3         Four Rooms (1995)  01-Jan-1995                 NaN   \n",
       "4         Get Shorty (1995)  01-Jan-1995                 NaN   \n",
       "5            Copycat (1995)  01-Jan-1995                 NaN   \n",
       "\n",
       "                                                   IMDB URL  unknown  Action  \\\n",
       "movie_id                                                                       \n",
       "1         http://us.imdb.com/M/title-exact?Toy%20Story%2...        0       0   \n",
       "2         http://us.imdb.com/M/title-exact?GoldenEye%20(...        0       1   \n",
       "3         http://us.imdb.com/M/title-exact?Four%20Rooms%...        0       0   \n",
       "4         http://us.imdb.com/M/title-exact?Get%20Shorty%...        0       1   \n",
       "5         http://us.imdb.com/M/title-exact?Copycat%20(1995)        0       0   \n",
       "\n",
       "          Adventure  Animation  Children's  Comedy  ...  Fantasy  Film-Noir  \\\n",
       "movie_id                                            ...                       \n",
       "1                 0          1           1       1  ...        0          0   \n",
       "2                 1          0           0       0  ...        0          0   \n",
       "3                 0          0           0       0  ...        0          0   \n",
       "4                 0          0           0       1  ...        0          0   \n",
       "5                 0          0           0       0  ...        0          0   \n",
       "\n",
       "          Horror  Musical  Mystery  Romance  Sci-Fi  Thriller  War  Western  \n",
       "movie_id                                                                     \n",
       "1              0        0        0        0       0         0    0        0  \n",
       "2              0        0        0        0       0         1    0        0  \n",
       "3              0        0        0        0       0         1    0        0  \n",
       "4              0        0        0        0       0         0    0        0  \n",
       "5              0        0        0        0       0         1    0        0  \n",
       "\n",
       "[5 rows x 23 columns]"
      ]
     },
     "execution_count": 4,
     "metadata": {},
     "output_type": "execute_result"
    }
   ],
   "source": [
    "i_cols = ['movie_id', 'title', 'release date', 'video release date', 'IMDB URL', \n",
    "          'unknown', 'Action', 'Adventure', 'Animation', 'Children\\'s', 'Comedy', \n",
    "          'Crime', 'Documentary', 'Drama', 'Fantasy', 'Film-Noir', 'Horror', \n",
    "          'Musical', 'Mystery', 'Romance', 'Sci-Fi', 'Thriller', 'War', 'Western']\n",
    "movies = pd.read_csv('u.item', sep='|', names=i_cols, encoding='latin-1')\n",
    "movies = movies.set_index('movie_id')\n",
    "movies.head()"
   ]
  },
  {
   "cell_type": "markdown",
   "id": "7aa96b29",
   "metadata": {},
   "source": [
    "- 유저별 평가 데이터"
   ]
  },
  {
   "cell_type": "code",
   "execution_count": 5,
   "id": "c01e6346",
   "metadata": {},
   "outputs": [
    {
     "data": {
      "text/html": [
       "<div>\n",
       "<style scoped>\n",
       "    .dataframe tbody tr th:only-of-type {\n",
       "        vertical-align: middle;\n",
       "    }\n",
       "\n",
       "    .dataframe tbody tr th {\n",
       "        vertical-align: top;\n",
       "    }\n",
       "\n",
       "    .dataframe thead th {\n",
       "        text-align: right;\n",
       "    }\n",
       "</style>\n",
       "<table border=\"1\" class=\"dataframe\">\n",
       "  <thead>\n",
       "    <tr style=\"text-align: right;\">\n",
       "      <th></th>\n",
       "      <th>movie_id</th>\n",
       "      <th>rating</th>\n",
       "      <th>timestamp</th>\n",
       "    </tr>\n",
       "    <tr>\n",
       "      <th>user_id</th>\n",
       "      <th></th>\n",
       "      <th></th>\n",
       "      <th></th>\n",
       "    </tr>\n",
       "  </thead>\n",
       "  <tbody>\n",
       "    <tr>\n",
       "      <th>196</th>\n",
       "      <td>242</td>\n",
       "      <td>3</td>\n",
       "      <td>881250949</td>\n",
       "    </tr>\n",
       "    <tr>\n",
       "      <th>186</th>\n",
       "      <td>302</td>\n",
       "      <td>3</td>\n",
       "      <td>891717742</td>\n",
       "    </tr>\n",
       "    <tr>\n",
       "      <th>22</th>\n",
       "      <td>377</td>\n",
       "      <td>1</td>\n",
       "      <td>878887116</td>\n",
       "    </tr>\n",
       "    <tr>\n",
       "      <th>244</th>\n",
       "      <td>51</td>\n",
       "      <td>2</td>\n",
       "      <td>880606923</td>\n",
       "    </tr>\n",
       "    <tr>\n",
       "      <th>166</th>\n",
       "      <td>346</td>\n",
       "      <td>1</td>\n",
       "      <td>886397596</td>\n",
       "    </tr>\n",
       "  </tbody>\n",
       "</table>\n",
       "</div>"
      ],
      "text/plain": [
       "         movie_id  rating  timestamp\n",
       "user_id                             \n",
       "196           242       3  881250949\n",
       "186           302       3  891717742\n",
       "22            377       1  878887116\n",
       "244            51       2  880606923\n",
       "166           346       1  886397596"
      ]
     },
     "execution_count": 5,
     "metadata": {},
     "output_type": "execute_result"
    }
   ],
   "source": [
    "r_cols = ['user_id', 'movie_id', 'rating', 'timestamp']\n",
    "ratings = pd.read_csv('u.data', sep='\\t', names=r_cols, encoding='latin-1') \n",
    "ratings = ratings.set_index('user_id')\n",
    "ratings.head()"
   ]
  },
  {
   "cell_type": "markdown",
   "id": "bc090aa6",
   "metadata": {},
   "source": [
    "#### 　2.2 인기제품 방식 추천\n",
    "    개별 이용자에 대한 정보가 없는 경우나 정확도에 관계없이 가장 간단한 추천을 제공"
   ]
  },
  {
   "cell_type": "code",
   "execution_count": 6,
   "id": "e924098f",
   "metadata": {},
   "outputs": [],
   "source": [
    "# 함수 생성 - movie_mean(영화 평점을 영화 id별로 평균을 냄)이라는 데이터를 정렬한 후 함수에 사용자에 의해 주어진 개수의 영화를 필터링 \n",
    "#             인덱스를 이용해 movie에서 색인 그 후에 색인한 데이터에서 영화제목을 별도로 추출하여 recommendations라는 출력값을 생성\n",
    "def recom_movie(n_items):\n",
    "    movie_sort = movie_mean.sort_values(ascending=False)[:n_items]\n",
    "    recom_movies = movies.loc[movie_sort.index]\n",
    "    recommendations = recom_movies['title']\n",
    "    return recommendations"
   ]
  },
  {
   "cell_type": "code",
   "execution_count": 7,
   "id": "cf05c439",
   "metadata": {},
   "outputs": [],
   "source": [
    "movie_mean = ratings.groupby(['movie_id'])['rating'].mean()"
   ]
  },
  {
   "cell_type": "code",
   "execution_count": 8,
   "id": "174470b3",
   "metadata": {},
   "outputs": [
    {
     "data": {
      "text/plain": [
       "movie_id\n",
       "814                         Great Day in Harlem, A (1994)\n",
       "1599                        Someone Else's America (1995)\n",
       "1201           Marlene Dietrich: Shadow and Light (1996) \n",
       "1122                       They Made Me a Criminal (1939)\n",
       "1653    Entertaining Angels: The Dorothy Day Story (1996)\n",
       "Name: title, dtype: object"
      ]
     },
     "execution_count": 8,
     "metadata": {},
     "output_type": "execute_result"
    }
   ],
   "source": [
    "recom_movie(5)"
   ]
  },
  {
   "cell_type": "markdown",
   "id": "8db44c4f",
   "metadata": {},
   "source": [
    "위 출력 값은 영화 id별 평점 평균이 높은 5개의 영화를 출력한 데이터"
   ]
  },
  {
   "cell_type": "markdown",
   "id": "d544cbab",
   "metadata": {},
   "source": [
    "#### 　2.3 추천 시스템의 정확도 측정\n",
    "    rmse를 구하고 이를 이용해 구현한 추천 시스템의 성능을 평가(머신러닝처럼 rmse가 낮을수록 좋은 모형임)"
   ]
  },
  {
   "cell_type": "markdown",
   "id": "c199561e",
   "metadata": {},
   "source": [
    "- rmse를 구하는 식 scikit-learn을 이용해도 되고 사용자 정의함수로 만들어도 된다. "
   ]
  },
  {
   "cell_type": "code",
   "execution_count": 9,
   "id": "8447b58b",
   "metadata": {},
   "outputs": [],
   "source": [
    "from sklearn.metrics import mean_squared_error\n",
    "import numpy as np\n",
    "\n",
    "def RMSE(y_pred,y_true):\n",
    "    return np.sqrt(mean_squared_error(y_pred,y_true))"
   ]
  },
  {
   "cell_type": "code",
   "execution_count": 10,
   "id": "264bb615",
   "metadata": {},
   "outputs": [],
   "source": [
    "# def RMSE(y_true, y_pred ):\n",
    "#    return np.sqrt(np.mean((np.array(y_true) - np.array(y_pred))**2))"
   ]
  },
  {
   "cell_type": "code",
   "execution_count": 11,
   "id": "114c1862",
   "metadata": {},
   "outputs": [
    {
     "name": "stdout",
     "output_type": "stream",
     "text": [
      "0.996007224010567\n"
     ]
    }
   ],
   "source": [
    "rmse=[]\n",
    "for user in set(ratings.index):\n",
    "    y_true = ratings.loc[user]['rating']\n",
    "    y_pred = movie_mean[ratings.loc[user]['movie_id']]\n",
    "    accuracy = RMSE(y_true,y_pred)\n",
    "    rmse.append(accuracy)\n",
    "print(np.mean(rmse))"
   ]
  },
  {
   "cell_type": "markdown",
   "id": "ac74a439",
   "metadata": {},
   "source": [
    "#### 　2.4 사용자 집단별 추천\n",
    "     사용자를 비슷한 특성의 사람들을 묶은 소집단으로 만든 다음에 각 집단의 평점평균을 바탕으로 추천하는 것\n",
    "     인구통계학적 특성을 이용하여 각 코호트로 나누고 추천 시스템을 구현"
   ]
  },
  {
   "cell_type": "code",
   "execution_count": 12,
   "id": "c6b6b52e",
   "metadata": {},
   "outputs": [],
   "source": [
    "ratings=ratings.reset_index()\n",
    "movies=movies.reset_index()\n",
    "movies = movies[['movie_id','title']]"
   ]
  },
  {
   "cell_type": "markdown",
   "id": "f9144cc7",
   "metadata": {},
   "source": [
    "- train test데이터를 층화 추출법을 이용해 분할하여 train과 test에 id별로 몰려있지 않게 조정"
   ]
  },
  {
   "cell_type": "code",
   "execution_count": 13,
   "id": "116d1d8a",
   "metadata": {},
   "outputs": [],
   "source": [
    "from sklearn.model_selection import train_test_split\n",
    "x=ratings.copy() # 평점데이터 딥카피\n",
    "y=ratings['user_id'] # 유저id만 별도로 추려서 층화 추출을 진행\n",
    "x_train,x_test,y_train,y_test = train_test_split(x,y,test_size=0.25,stratify=y)"
   ]
  },
  {
   "cell_type": "code",
   "execution_count": 14,
   "id": "e6e9bdb6",
   "metadata": {},
   "outputs": [],
   "source": [
    "# 모델별 RMSE를 계산하는 함수\n",
    "def score(model):\n",
    "    id_pairs= zip(x_test['user_id'],x_test['movie_id'])\n",
    "    y_pred= np.array([model(user,movie) for (user,movie) in id_pairs])\n",
    "    y_true= np.array(x_test['rating'])\n",
    "    return RMSE(y_true,y_pred)"
   ]
  },
  {
   "cell_type": "code",
   "execution_count": 15,
   "id": "3824f03c",
   "metadata": {},
   "outputs": [],
   "source": [
    "# 전체 평균으로 예측치를 계산하는 기본 모델\n",
    "def best_seller(user_id,movie_id):\n",
    "    try:\n",
    "        rating= train_mean[movie_id]\n",
    "    except:\n",
    "        rating= 3.0\n",
    "    return rating"
   ]
  },
  {
   "cell_type": "code",
   "execution_count": 16,
   "id": "6d0b696f",
   "metadata": {},
   "outputs": [],
   "source": [
    "train_mean= x_train.groupby(['movie_id'])['rating'].mean()"
   ]
  },
  {
   "cell_type": "code",
   "execution_count": 17,
   "id": "e647f397",
   "metadata": {},
   "outputs": [
    {
     "data": {
      "text/plain": [
       "1.0306940478963158"
      ]
     },
     "execution_count": 17,
     "metadata": {},
     "output_type": "execute_result"
    }
   ],
   "source": [
    "score(best_seller)"
   ]
  },
  {
   "cell_type": "markdown",
   "id": "90b19c9e",
   "metadata": {},
   "source": [
    "- train 데이터로 Full matrix 구하기( 사용자 수 943개, 영화 1647개의 매트릭스 생성)"
   ]
  },
  {
   "cell_type": "code",
   "execution_count": 18,
   "id": "d82a2d35",
   "metadata": {},
   "outputs": [
    {
     "data": {
      "text/html": [
       "<div>\n",
       "<style scoped>\n",
       "    .dataframe tbody tr th:only-of-type {\n",
       "        vertical-align: middle;\n",
       "    }\n",
       "\n",
       "    .dataframe tbody tr th {\n",
       "        vertical-align: top;\n",
       "    }\n",
       "\n",
       "    .dataframe thead th {\n",
       "        text-align: right;\n",
       "    }\n",
       "</style>\n",
       "<table border=\"1\" class=\"dataframe\">\n",
       "  <thead>\n",
       "    <tr style=\"text-align: right;\">\n",
       "      <th>movie_id</th>\n",
       "      <th>1</th>\n",
       "      <th>2</th>\n",
       "      <th>3</th>\n",
       "      <th>4</th>\n",
       "      <th>5</th>\n",
       "      <th>6</th>\n",
       "      <th>7</th>\n",
       "      <th>8</th>\n",
       "      <th>9</th>\n",
       "      <th>10</th>\n",
       "      <th>...</th>\n",
       "      <th>1670</th>\n",
       "      <th>1671</th>\n",
       "      <th>1672</th>\n",
       "      <th>1673</th>\n",
       "      <th>1674</th>\n",
       "      <th>1675</th>\n",
       "      <th>1676</th>\n",
       "      <th>1677</th>\n",
       "      <th>1678</th>\n",
       "      <th>1681</th>\n",
       "    </tr>\n",
       "    <tr>\n",
       "      <th>user_id</th>\n",
       "      <th></th>\n",
       "      <th></th>\n",
       "      <th></th>\n",
       "      <th></th>\n",
       "      <th></th>\n",
       "      <th></th>\n",
       "      <th></th>\n",
       "      <th></th>\n",
       "      <th></th>\n",
       "      <th></th>\n",
       "      <th></th>\n",
       "      <th></th>\n",
       "      <th></th>\n",
       "      <th></th>\n",
       "      <th></th>\n",
       "      <th></th>\n",
       "      <th></th>\n",
       "      <th></th>\n",
       "      <th></th>\n",
       "      <th></th>\n",
       "      <th></th>\n",
       "    </tr>\n",
       "  </thead>\n",
       "  <tbody>\n",
       "    <tr>\n",
       "      <th>1</th>\n",
       "      <td>5.0</td>\n",
       "      <td>3.0</td>\n",
       "      <td>4.0</td>\n",
       "      <td>3.0</td>\n",
       "      <td>NaN</td>\n",
       "      <td>NaN</td>\n",
       "      <td>4.0</td>\n",
       "      <td>NaN</td>\n",
       "      <td>5.0</td>\n",
       "      <td>3.0</td>\n",
       "      <td>...</td>\n",
       "      <td>NaN</td>\n",
       "      <td>NaN</td>\n",
       "      <td>NaN</td>\n",
       "      <td>NaN</td>\n",
       "      <td>NaN</td>\n",
       "      <td>NaN</td>\n",
       "      <td>NaN</td>\n",
       "      <td>NaN</td>\n",
       "      <td>NaN</td>\n",
       "      <td>NaN</td>\n",
       "    </tr>\n",
       "    <tr>\n",
       "      <th>2</th>\n",
       "      <td>4.0</td>\n",
       "      <td>NaN</td>\n",
       "      <td>NaN</td>\n",
       "      <td>NaN</td>\n",
       "      <td>NaN</td>\n",
       "      <td>NaN</td>\n",
       "      <td>NaN</td>\n",
       "      <td>NaN</td>\n",
       "      <td>NaN</td>\n",
       "      <td>2.0</td>\n",
       "      <td>...</td>\n",
       "      <td>NaN</td>\n",
       "      <td>NaN</td>\n",
       "      <td>NaN</td>\n",
       "      <td>NaN</td>\n",
       "      <td>NaN</td>\n",
       "      <td>NaN</td>\n",
       "      <td>NaN</td>\n",
       "      <td>NaN</td>\n",
       "      <td>NaN</td>\n",
       "      <td>NaN</td>\n",
       "    </tr>\n",
       "    <tr>\n",
       "      <th>3</th>\n",
       "      <td>NaN</td>\n",
       "      <td>NaN</td>\n",
       "      <td>NaN</td>\n",
       "      <td>NaN</td>\n",
       "      <td>NaN</td>\n",
       "      <td>NaN</td>\n",
       "      <td>NaN</td>\n",
       "      <td>NaN</td>\n",
       "      <td>NaN</td>\n",
       "      <td>NaN</td>\n",
       "      <td>...</td>\n",
       "      <td>NaN</td>\n",
       "      <td>NaN</td>\n",
       "      <td>NaN</td>\n",
       "      <td>NaN</td>\n",
       "      <td>NaN</td>\n",
       "      <td>NaN</td>\n",
       "      <td>NaN</td>\n",
       "      <td>NaN</td>\n",
       "      <td>NaN</td>\n",
       "      <td>NaN</td>\n",
       "    </tr>\n",
       "    <tr>\n",
       "      <th>4</th>\n",
       "      <td>NaN</td>\n",
       "      <td>NaN</td>\n",
       "      <td>NaN</td>\n",
       "      <td>NaN</td>\n",
       "      <td>NaN</td>\n",
       "      <td>NaN</td>\n",
       "      <td>NaN</td>\n",
       "      <td>NaN</td>\n",
       "      <td>NaN</td>\n",
       "      <td>NaN</td>\n",
       "      <td>...</td>\n",
       "      <td>NaN</td>\n",
       "      <td>NaN</td>\n",
       "      <td>NaN</td>\n",
       "      <td>NaN</td>\n",
       "      <td>NaN</td>\n",
       "      <td>NaN</td>\n",
       "      <td>NaN</td>\n",
       "      <td>NaN</td>\n",
       "      <td>NaN</td>\n",
       "      <td>NaN</td>\n",
       "    </tr>\n",
       "    <tr>\n",
       "      <th>5</th>\n",
       "      <td>4.0</td>\n",
       "      <td>3.0</td>\n",
       "      <td>NaN</td>\n",
       "      <td>NaN</td>\n",
       "      <td>NaN</td>\n",
       "      <td>NaN</td>\n",
       "      <td>NaN</td>\n",
       "      <td>NaN</td>\n",
       "      <td>NaN</td>\n",
       "      <td>NaN</td>\n",
       "      <td>...</td>\n",
       "      <td>NaN</td>\n",
       "      <td>NaN</td>\n",
       "      <td>NaN</td>\n",
       "      <td>NaN</td>\n",
       "      <td>NaN</td>\n",
       "      <td>NaN</td>\n",
       "      <td>NaN</td>\n",
       "      <td>NaN</td>\n",
       "      <td>NaN</td>\n",
       "      <td>NaN</td>\n",
       "    </tr>\n",
       "    <tr>\n",
       "      <th>...</th>\n",
       "      <td>...</td>\n",
       "      <td>...</td>\n",
       "      <td>...</td>\n",
       "      <td>...</td>\n",
       "      <td>...</td>\n",
       "      <td>...</td>\n",
       "      <td>...</td>\n",
       "      <td>...</td>\n",
       "      <td>...</td>\n",
       "      <td>...</td>\n",
       "      <td>...</td>\n",
       "      <td>...</td>\n",
       "      <td>...</td>\n",
       "      <td>...</td>\n",
       "      <td>...</td>\n",
       "      <td>...</td>\n",
       "      <td>...</td>\n",
       "      <td>...</td>\n",
       "      <td>...</td>\n",
       "      <td>...</td>\n",
       "      <td>...</td>\n",
       "    </tr>\n",
       "    <tr>\n",
       "      <th>939</th>\n",
       "      <td>NaN</td>\n",
       "      <td>NaN</td>\n",
       "      <td>NaN</td>\n",
       "      <td>NaN</td>\n",
       "      <td>NaN</td>\n",
       "      <td>NaN</td>\n",
       "      <td>NaN</td>\n",
       "      <td>NaN</td>\n",
       "      <td>5.0</td>\n",
       "      <td>NaN</td>\n",
       "      <td>...</td>\n",
       "      <td>NaN</td>\n",
       "      <td>NaN</td>\n",
       "      <td>NaN</td>\n",
       "      <td>NaN</td>\n",
       "      <td>NaN</td>\n",
       "      <td>NaN</td>\n",
       "      <td>NaN</td>\n",
       "      <td>NaN</td>\n",
       "      <td>NaN</td>\n",
       "      <td>NaN</td>\n",
       "    </tr>\n",
       "    <tr>\n",
       "      <th>940</th>\n",
       "      <td>NaN</td>\n",
       "      <td>NaN</td>\n",
       "      <td>NaN</td>\n",
       "      <td>NaN</td>\n",
       "      <td>NaN</td>\n",
       "      <td>NaN</td>\n",
       "      <td>4.0</td>\n",
       "      <td>5.0</td>\n",
       "      <td>3.0</td>\n",
       "      <td>NaN</td>\n",
       "      <td>...</td>\n",
       "      <td>NaN</td>\n",
       "      <td>NaN</td>\n",
       "      <td>NaN</td>\n",
       "      <td>NaN</td>\n",
       "      <td>NaN</td>\n",
       "      <td>NaN</td>\n",
       "      <td>NaN</td>\n",
       "      <td>NaN</td>\n",
       "      <td>NaN</td>\n",
       "      <td>NaN</td>\n",
       "    </tr>\n",
       "    <tr>\n",
       "      <th>941</th>\n",
       "      <td>5.0</td>\n",
       "      <td>NaN</td>\n",
       "      <td>NaN</td>\n",
       "      <td>NaN</td>\n",
       "      <td>NaN</td>\n",
       "      <td>NaN</td>\n",
       "      <td>4.0</td>\n",
       "      <td>NaN</td>\n",
       "      <td>NaN</td>\n",
       "      <td>NaN</td>\n",
       "      <td>...</td>\n",
       "      <td>NaN</td>\n",
       "      <td>NaN</td>\n",
       "      <td>NaN</td>\n",
       "      <td>NaN</td>\n",
       "      <td>NaN</td>\n",
       "      <td>NaN</td>\n",
       "      <td>NaN</td>\n",
       "      <td>NaN</td>\n",
       "      <td>NaN</td>\n",
       "      <td>NaN</td>\n",
       "    </tr>\n",
       "    <tr>\n",
       "      <th>942</th>\n",
       "      <td>NaN</td>\n",
       "      <td>NaN</td>\n",
       "      <td>NaN</td>\n",
       "      <td>NaN</td>\n",
       "      <td>NaN</td>\n",
       "      <td>NaN</td>\n",
       "      <td>NaN</td>\n",
       "      <td>NaN</td>\n",
       "      <td>NaN</td>\n",
       "      <td>NaN</td>\n",
       "      <td>...</td>\n",
       "      <td>NaN</td>\n",
       "      <td>NaN</td>\n",
       "      <td>NaN</td>\n",
       "      <td>NaN</td>\n",
       "      <td>NaN</td>\n",
       "      <td>NaN</td>\n",
       "      <td>NaN</td>\n",
       "      <td>NaN</td>\n",
       "      <td>NaN</td>\n",
       "      <td>NaN</td>\n",
       "    </tr>\n",
       "    <tr>\n",
       "      <th>943</th>\n",
       "      <td>NaN</td>\n",
       "      <td>5.0</td>\n",
       "      <td>NaN</td>\n",
       "      <td>NaN</td>\n",
       "      <td>NaN</td>\n",
       "      <td>NaN</td>\n",
       "      <td>NaN</td>\n",
       "      <td>NaN</td>\n",
       "      <td>NaN</td>\n",
       "      <td>NaN</td>\n",
       "      <td>...</td>\n",
       "      <td>NaN</td>\n",
       "      <td>NaN</td>\n",
       "      <td>NaN</td>\n",
       "      <td>NaN</td>\n",
       "      <td>NaN</td>\n",
       "      <td>NaN</td>\n",
       "      <td>NaN</td>\n",
       "      <td>NaN</td>\n",
       "      <td>NaN</td>\n",
       "      <td>NaN</td>\n",
       "    </tr>\n",
       "  </tbody>\n",
       "</table>\n",
       "<p>943 rows × 1648 columns</p>\n",
       "</div>"
      ],
      "text/plain": [
       "movie_id  1     2     3     4     5     6     7     8     9     10    ...  \\\n",
       "user_id                                                               ...   \n",
       "1          5.0   3.0   4.0   3.0   NaN   NaN   4.0   NaN   5.0   3.0  ...   \n",
       "2          4.0   NaN   NaN   NaN   NaN   NaN   NaN   NaN   NaN   2.0  ...   \n",
       "3          NaN   NaN   NaN   NaN   NaN   NaN   NaN   NaN   NaN   NaN  ...   \n",
       "4          NaN   NaN   NaN   NaN   NaN   NaN   NaN   NaN   NaN   NaN  ...   \n",
       "5          4.0   3.0   NaN   NaN   NaN   NaN   NaN   NaN   NaN   NaN  ...   \n",
       "...        ...   ...   ...   ...   ...   ...   ...   ...   ...   ...  ...   \n",
       "939        NaN   NaN   NaN   NaN   NaN   NaN   NaN   NaN   5.0   NaN  ...   \n",
       "940        NaN   NaN   NaN   NaN   NaN   NaN   4.0   5.0   3.0   NaN  ...   \n",
       "941        5.0   NaN   NaN   NaN   NaN   NaN   4.0   NaN   NaN   NaN  ...   \n",
       "942        NaN   NaN   NaN   NaN   NaN   NaN   NaN   NaN   NaN   NaN  ...   \n",
       "943        NaN   5.0   NaN   NaN   NaN   NaN   NaN   NaN   NaN   NaN  ...   \n",
       "\n",
       "movie_id  1670  1671  1672  1673  1674  1675  1676  1677  1678  1681  \n",
       "user_id                                                               \n",
       "1          NaN   NaN   NaN   NaN   NaN   NaN   NaN   NaN   NaN   NaN  \n",
       "2          NaN   NaN   NaN   NaN   NaN   NaN   NaN   NaN   NaN   NaN  \n",
       "3          NaN   NaN   NaN   NaN   NaN   NaN   NaN   NaN   NaN   NaN  \n",
       "4          NaN   NaN   NaN   NaN   NaN   NaN   NaN   NaN   NaN   NaN  \n",
       "5          NaN   NaN   NaN   NaN   NaN   NaN   NaN   NaN   NaN   NaN  \n",
       "...        ...   ...   ...   ...   ...   ...   ...   ...   ...   ...  \n",
       "939        NaN   NaN   NaN   NaN   NaN   NaN   NaN   NaN   NaN   NaN  \n",
       "940        NaN   NaN   NaN   NaN   NaN   NaN   NaN   NaN   NaN   NaN  \n",
       "941        NaN   NaN   NaN   NaN   NaN   NaN   NaN   NaN   NaN   NaN  \n",
       "942        NaN   NaN   NaN   NaN   NaN   NaN   NaN   NaN   NaN   NaN  \n",
       "943        NaN   NaN   NaN   NaN   NaN   NaN   NaN   NaN   NaN   NaN  \n",
       "\n",
       "[943 rows x 1648 columns]"
      ]
     },
     "execution_count": 18,
     "metadata": {},
     "output_type": "execute_result"
    }
   ],
   "source": [
    "rating_matrix = x_train.pivot(index='user_id',columns='movie_id',values='rating')\n",
    "rating_matrix"
   ]
  },
  {
   "cell_type": "markdown",
   "id": "5dd9c2fb",
   "metadata": {},
   "source": [
    "- 성별 코호트를 사용하여 영화 추천 및 rmse 계산"
   ]
  },
  {
   "cell_type": "code",
   "execution_count": 19,
   "id": "d2f9eb9c",
   "metadata": {},
   "outputs": [],
   "source": [
    "users=users.reset_index()"
   ]
  },
  {
   "cell_type": "code",
   "execution_count": 20,
   "id": "b30853b6",
   "metadata": {},
   "outputs": [
    {
     "data": {
      "text/plain": [
       "movie_id  sex\n",
       "1         F      3.790698\n",
       "          M      3.911290\n",
       "2         F      3.428571\n",
       "          M      3.072289\n",
       "3         F      2.666667\n",
       "                   ...   \n",
       "1675      M      3.000000\n",
       "1676      M      2.000000\n",
       "1677      F      3.000000\n",
       "1678      M      1.000000\n",
       "1681      M      3.000000\n",
       "Name: rating, Length: 3047, dtype: float64"
      ]
     },
     "execution_count": 20,
     "metadata": {},
     "output_type": "execute_result"
    }
   ],
   "source": [
    "# Full matrix를 사용자 데이터와 merge\n",
    "merged_ratings = pd.merge(x_train,users)\n",
    "users = users.set_index('user_id')\n",
    "\n",
    "# gender 별 평점평균계산\n",
    "g_mean = merged_ratings[['movie_id','sex','rating']].groupby(['movie_id','sex'])['rating'].mean()\n",
    "g_mean "
   ]
  },
  {
   "cell_type": "code",
   "execution_count": 21,
   "id": "bc760279",
   "metadata": {},
   "outputs": [
    {
     "data": {
      "text/plain": [
       "movie_id  sex\n",
       "1         F      3.790698\n",
       "          M      3.911290\n",
       "2         F      3.428571\n",
       "          M      3.072289\n",
       "3         F      2.666667\n",
       "                   ...   \n",
       "1675      M      3.000000\n",
       "1676      M      2.000000\n",
       "1677      F      3.000000\n",
       "1678      M      1.000000\n",
       "1681      M      3.000000\n",
       "Name: rating, Length: 3047, dtype: float64"
      ]
     },
     "execution_count": 21,
     "metadata": {},
     "output_type": "execute_result"
    }
   ],
   "source": [
    "g_mean "
   ]
  },
  {
   "cell_type": "markdown",
   "id": "7b028919",
   "metadata": {},
   "source": [
    "- 성별 영화 평점평균을 구해주는 함수"
   ]
  },
  {
   "cell_type": "code",
   "execution_count": 22,
   "id": "7a5e8e1c",
   "metadata": {},
   "outputs": [],
   "source": [
    "def cf_gender(user_id, movie_id):\n",
    "    if movie_id in rating_matrix:                     # 주어진 영화 id가 성별 영화점수가 있으면 그것을 쓰고 없으면 3.0을 쓴다.\n",
    "        gender= users.loc[user_id]['sex']\n",
    "        if gender in g_mean[movie_id]:\n",
    "            gender_rating= g_mean[movie_id][gender]\n",
    "        else:                                         # 해당 영화 id가 매트릭스에는 있는데 평가한 성별이 없으면 평점을 3.0을 쓴다. \n",
    "            gender_rating= 3.0\n",
    "    else:\n",
    "        gender_rating= 3.0\n",
    "    return gender_rating"
   ]
  },
  {
   "cell_type": "code",
   "execution_count": 23,
   "id": "af769c9e",
   "metadata": {},
   "outputs": [
    {
     "data": {
      "text/plain": [
       "1.0385466458925277"
      ]
     },
     "execution_count": 23,
     "metadata": {},
     "output_type": "execute_result"
    }
   ],
   "source": [
    "score(cf_gender)"
   ]
  },
  {
   "cell_type": "markdown",
   "id": "356ec60e",
   "metadata": {},
   "source": [
    "- 성별 코호트로 성별 평균 기반 추천 시스템을 만들면 rmse가 오히려 커져서 성능이 더 안좋아 진다."
   ]
  },
  {
   "cell_type": "markdown",
   "id": "1e810ed9",
   "metadata": {},
   "source": [
    "***"
   ]
  },
  {
   "cell_type": "markdown",
   "id": "0e9a5815",
   "metadata": {},
   "source": [
    "#### 　3.1 협업 필터링 추천 시스템\n",
    "        2장에서 처럼 인구 통계학적 기준으로 추천하는 것이 아닌 취향을 기준으로 나누는 것이 협업필터링(Collaborative Filtering)이다.  \n",
    "        기본적인 아이디어는 index로 유저, columns는 items를 놓고 각 유저의 상관정도(상관계수,유사도)를 측정한다.  \n",
    "        기본적으로 상관계수는 0.7보다 큰 경우 강한 상관관계를 갖는다고 보고 있으므로, 취향이 비슷한 유저로 본다.\n",
    "        해당 유저 A가 취향이 비슷한 유저가 유저 A가 구매하지 않은 item에 대해 평점 평균을 내고 그 중 제일 높은 아이템을 추천한다.\n",
    "        CF는 사용자들의 평가를 기본으로 사용자 간 유사도를 구하는 것이 핵심이다. 그리고 상관계수와 코사인 유사도를 기반으로 측정한다."
   ]
  },
  {
   "cell_type": "markdown",
   "id": "a3b618ce",
   "metadata": {},
   "source": [
    "#### 　3.2 기본 CF 알고리즘"
   ]
  },
  {
   "cell_type": "code",
   "execution_count": 24,
   "id": "2ca37a55",
   "metadata": {},
   "outputs": [],
   "source": [
    "rating_matrix= x_train.pivot(index='user_id',columns='movie_id',values='rating')"
   ]
  },
  {
   "cell_type": "code",
   "execution_count": 25,
   "id": "cd356145",
   "metadata": {},
   "outputs": [],
   "source": [
    "from sklearn.metrics.pairwise import cosine_similarity\n",
    "matrix_dummy = rating_matrix.copy().fillna(0)\n",
    "user_similarity = cosine_similarity(matrix_dummy,matrix_dummy)\n",
    "user_similarity=pd.DataFrame(user_similarity,index=rating_matrix.index,columns=rating_matrix.index)"
   ]
  },
  {
   "cell_type": "code",
   "execution_count": 26,
   "id": "48d7eba4",
   "metadata": {},
   "outputs": [],
   "source": [
    "# 주어진 영화의 (movie_id)의 가중평균 rating을 계산하는 함수\n",
    "# 가중치는 주어진 사용자와 다른 사용자 간의 유사도(user_similarity)\n",
    "def CF_simple(user_id,movie_id):\n",
    "    if movie_id in rating_matrix:\n",
    "        sim_scores = user_similarity[user_id].copy()\n",
    "        movie_ratings = rating_matrix[movie_id].copy()\n",
    "        none_rating_idx = movie_ratings[movie_ratings.isnull()].index\n",
    "        movie_ratings = movie_ratings.dropna()\n",
    "        sim_scores = sim_scores.drop(none_rating_idx)\n",
    "        mean_rating = np.dot(sim_scores,movie_ratings) / sim_scores.sum()\n",
    "        # 주어진 영화에 대해 평가한 각 사용자에 대해 평점을 유사도로 가중평균한 예측치를 구한다.\n",
    "        # np.dot : 각 자리 수끼리 곱하여 전부 더한다. 즉, 각 자리수의 곱의 합 / 전체의 합\n",
    "    else:\n",
    "        mean_rating = 3.0\n",
    "    return mean_rating"
   ]
  },
  {
   "cell_type": "code",
   "execution_count": 27,
   "id": "821ea821",
   "metadata": {},
   "outputs": [
    {
     "data": {
      "text/plain": [
       "1.0242833751858988"
      ]
     },
     "execution_count": 27,
     "metadata": {},
     "output_type": "execute_result"
    }
   ],
   "source": [
    "score(CF_simple)"
   ]
  },
  {
   "cell_type": "markdown",
   "id": "2b8f8fc0",
   "metadata": {},
   "source": [
    "#### 　3.3 이웃을 고려한 CF\n",
    "            기본 CF 알고리즘을 개선할 수 있는 한 가지 방법은 유사도가 높은 사람만을 이웃으로 선정해서 이웃의 크기를 줄이는 것임\n",
    "            이웃의 크기는 K Nearst Neighbors(KNN) 방법이고 또 다른 하나는 유사도의 기준(상관계수 0.8 이상)을 정해 놓고, 이 기준을  \n",
    "            충족시키는 사용자를 이웃으로 정하는 Thresholding이다. \n",
    "            Thresholding 방법이 KNN보다 정확하기는 하지만 정해진 기준을 넘는 사용자가 없어서 추천을 하지 못하는 경우가 많기 때문에 \n",
    "            KNN이 무난하게 많이 쓰인다."
   ]
  },
  {
   "cell_type": "code",
   "execution_count": 28,
   "id": "2abf0631",
   "metadata": {},
   "outputs": [],
   "source": [
    "# 모델별 RMSE를 계산하는 함수 \n",
    "def score(model, neighbor_size=0):\n",
    "    id_pairs = zip(x_test['user_id'], x_test['movie_id'])\n",
    "    y_pred = np.array([model(user, movie, neighbor_size) for (user, movie) in id_pairs])\n",
    "    y_true = np.array(x_test['rating'])\n",
    "    return RMSE(y_true, y_pred)"
   ]
  },
  {
   "cell_type": "code",
   "execution_count": 29,
   "id": "bb80e8a1",
   "metadata": {},
   "outputs": [],
   "source": [
    "def cf_knn(user_id, movie_id, neighbor_size=0):\n",
    "    if movie_id in rating_matrix:\n",
    "        # 현재 사용자와 다른 사용자 간의 similarity 가져오기\n",
    "        sim_scores = user_similarity[user_id].copy()\n",
    "        # 현재 영화에 대한 모든 사용자의 rating값 가져오기\n",
    "        movie_ratings = rating_matrix[movie_id].copy()\n",
    "        # 현재 영화를 평가하지 않은 사용자의 index 가져오기\n",
    "        none_rating_idx = movie_ratings[movie_ratings.isnull()].index\n",
    "        # 현재 영화를 평가하지 않은 사용자의 rating (null) 제거\n",
    "        movie_ratings = movie_ratings.drop(none_rating_idx)\n",
    "        # 현재 영화를 평가하지 않은 사용자의 similarity값 제거\n",
    "        sim_scores = sim_scores.drop(none_rating_idx)\n",
    "##### (2) Neighbor size가 지정되지 않은 경우        \n",
    "        if neighbor_size == 0:          \n",
    "            # 현재 영화를 평가한 모든 사용자의 가중평균값 구하기\n",
    "            mean_rating = np.dot(sim_scores, movie_ratings) / sim_scores.sum()\n",
    "##### (3) Neighbor size가 지정된 경우\n",
    "        else:                       \n",
    "            # 해당 영화를 평가한 사용자가 최소 2명이 되는 경우에만 계산\n",
    "            if len(sim_scores) > 1: \n",
    "                # 지정된 neighbor size 값과 해당 영화를 평가한 총사용자 수 중 작은 것으로 결정\n",
    "                neighbor_size = min(neighbor_size, len(sim_scores))\n",
    "                # array로 바꾸기 (argsort를 사용하기 위함)\n",
    "                sim_scores = np.array(sim_scores)\n",
    "                movie_ratings = np.array(movie_ratings)\n",
    "                # 유사도를 순서대로 정렬\n",
    "                user_idx = np.argsort(sim_scores)\n",
    "                # 유사도를 neighbor size만큼 받기\n",
    "                sim_scores = sim_scores[user_idx][-neighbor_size:]\n",
    "                # 영화 rating을 neighbor size만큼 받기\n",
    "                movie_ratings = movie_ratings[user_idx][-neighbor_size:]\n",
    "                # 최종 예측값 계산 \n",
    "                mean_rating = np.dot(sim_scores, movie_ratings) / sim_scores.sum()\n",
    "            else:\n",
    "                mean_rating = 3.0\n",
    "    else:\n",
    "        mean_rating = 3.0\n",
    "    return mean_rating"
   ]
  },
  {
   "cell_type": "code",
   "execution_count": 30,
   "id": "247ff389",
   "metadata": {},
   "outputs": [
    {
     "data": {
      "text/plain": [
       "1.0157328475590361"
      ]
     },
     "execution_count": 30,
     "metadata": {},
     "output_type": "execute_result"
    }
   ],
   "source": [
    "score(cf_knn,neighbor_size=30)"
   ]
  },
  {
   "cell_type": "markdown",
   "id": "c1ee2873",
   "metadata": {},
   "source": [
    "- 이웃을 고려하지 않은 simple_CF보다 RMSE가 약간 개선되었음을 볼 수 있다."
   ]
  },
  {
   "cell_type": "markdown",
   "id": "037ab0fb",
   "metadata": {},
   "source": [
    "####  　3.4 최적의 이웃 크기 결정\n",
    "        최적의 이웃 크기는 이웃의 크기가 증가하면서 추천의 정확도가 증가하다가 어느 시점 이후에는 감소하는 형태를 보인다.\n",
    "        즉, 추천의 정확도를 최대로 하는 최적의 이웃 크기가 존재하는 것이 보통이다.\n",
    "        머신러닝에서 최적의 파라미터 조합을 찾는 것처럼 처음에는 이웃의 크기를 크게 변화시켜보고 그 후 세밀하게 변환시켜 결과를 본다."
   ]
  },
  {
   "cell_type": "code",
   "execution_count": 31,
   "id": "196c05a5",
   "metadata": {},
   "outputs": [
    {
     "data": {
      "text/plain": [
       "['Neighbor size= 10 : RMSE = 1.0316',\n",
       " 'Neighbor size= 20 : RMSE = 1.0181',\n",
       " 'Neighbor size= 30 : RMSE = 1.0157',\n",
       " 'Neighbor size= 40 : RMSE = 1.0153',\n",
       " 'Neighbor size= 50 : RMSE = 1.0160',\n",
       " 'Neighbor size= 60 : RMSE = 1.0169']"
      ]
     },
     "execution_count": 31,
     "metadata": {},
     "output_type": "execute_result"
    }
   ],
   "source": [
    "# 이웃 크기를 10부터 60까지 설정\n",
    "rating_matrix = x_train.pivot_table(index='user_id',columns='movie_id',values='rating')\n",
    "mtrix_dummy= rating_matrix.copy().fillna(0)\n",
    "user_similarity = cosine_similarity(matrix_dummy,matrix_dummy)\n",
    "user_similarity = pd.DataFrame(user_similarity,index=rating_matrix.index,columns=rating_matrix.index)\n",
    "n_size=[]\n",
    "for neighbor_size in np.arange(10,61,10):\n",
    "    n_size.append('Neighbor size= %d : RMSE = %.4f' % (neighbor_size, score(cf_knn,neighbor_size)))\n",
    "n_size"
   ]
  },
  {
   "cell_type": "code",
   "execution_count": 32,
   "id": "5b608d17",
   "metadata": {},
   "outputs": [
    {
     "data": {
      "text/plain": [
       "['Neighbor size= 35 : RMSE = 1.0153',\n",
       " 'Neighbor size= 36 : RMSE = 1.0152',\n",
       " 'Neighbor size= 37 : RMSE = 1.0152',\n",
       " 'Neighbor size= 38 : RMSE = 1.0155',\n",
       " 'Neighbor size= 39 : RMSE = 1.0155',\n",
       " 'Neighbor size= 40 : RMSE = 1.0153',\n",
       " 'Neighbor size= 41 : RMSE = 1.0152',\n",
       " 'Neighbor size= 42 : RMSE = 1.0153',\n",
       " 'Neighbor size= 43 : RMSE = 1.0154',\n",
       " 'Neighbor size= 44 : RMSE = 1.0153',\n",
       " 'Neighbor size= 45 : RMSE = 1.0154']"
      ]
     },
     "execution_count": 32,
     "metadata": {},
     "output_type": "execute_result"
    }
   ],
   "source": [
    "# rmse가 제일 낮은 \n",
    "n_size=[]\n",
    "for neighbor_size in np.arange(35,46):\n",
    "    n_size.append('Neighbor size= %d : RMSE = %.4f' % (neighbor_size, score(cf_knn,neighbor_size)))\n",
    "n_size"
   ]
  },
  {
   "cell_type": "code",
   "execution_count": 33,
   "id": "81607f9b",
   "metadata": {},
   "outputs": [],
   "source": [
    "import matplotlib.pyplot as plt\n",
    "import seaborn as sns"
   ]
  },
  {
   "cell_type": "code",
   "execution_count": 34,
   "id": "b31a76f3",
   "metadata": {},
   "outputs": [],
   "source": [
    "rmse=np.array([float(i.split(':')[1].split('=')[1]) for i in n_size])"
   ]
  },
  {
   "cell_type": "code",
   "execution_count": 35,
   "id": "54754463",
   "metadata": {},
   "outputs": [],
   "source": [
    "n_neighbors=np.arange(35,46)"
   ]
  },
  {
   "cell_type": "code",
   "execution_count": 36,
   "id": "b02690e1",
   "metadata": {},
   "outputs": [
    {
     "data": {
      "text/plain": [
       "<AxesSubplot:>"
      ]
     },
     "execution_count": 36,
     "metadata": {},
     "output_type": "execute_result"
    },
    {
     "data": {
      "image/png": "[encoded data removed]",
      "text/plain": [
       "<Figure size 1080x576 with 1 Axes>"
      ]
     },
     "metadata": {
      "needs_background": "light"
     },
     "output_type": "display_data"
    }
   ],
   "source": [
    "plt.figure(figsize=(15,8))\n",
    "sns.lineplot(x=n_neighbors,y=rmse)"
   ]
  }
 ],
 "metadata": {
  "kernelspec": {
   "display_name": "Python 3",
   "language": "python",
   "name": "python3"
  },
  "language_info": {
   "codemirror_mode": {
    "name": "ipython",
    "version": 3
   },
   "file_extension": ".py",
   "mimetype": "text/x-python",
   "name": "python",
   "nbconvert_exporter": "python",
   "pygments_lexer": "ipython3",
   "version": "3.8.8"
  }
 },
 "nbformat": 4,
 "nbformat_minor": 5
}
